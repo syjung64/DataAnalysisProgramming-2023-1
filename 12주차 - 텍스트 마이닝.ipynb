{
 "cells": [
  {
   "cell_type": "markdown",
   "id": "db7bbad6",
   "metadata": {},
   "source": [
    "## 10-1 대통령 연설문 텍스트 마이닝"
   ]
  },
  {
   "cell_type": "markdown",
   "id": "a25354db",
   "metadata": {},
   "source": [
    "1. 텍스트 마이닝(text mining) : 문자로 된 데이터로 부터 가치있는 정보를 얻어내는 기법\n",
    "- 형태소 분석(morphology analysis) : 텍스트 마이닝의 첫 번째 작업으로, 문자를 구성하는 어절의 품사를 파악\n",
    "- 형태소 분석을 통해 어절의 품사를 파악한 다음 명사, 동사, 형용사 등의 의미를 지닌 품사를 추출하여 얼마나 많이 사용되었는지 확인\n",
    "- 텍스트 마이닝을 이용하여 SNS나 웹사이트에 올라온 글을 분석할 수 있음"
   ]
  },
  {
   "cell_type": "markdown",
   "id": "5d2bc53f",
   "metadata": {},
   "source": [
    "### Lab 1 : KoNLPy 패키지(한글 텍스트 형태소 분석) 설치하기 - 실습용 PC에는 설치되어 있음"
   ]
  },
  {
   "cell_type": "markdown",
   "id": "c0ca2b26",
   "metadata": {},
   "source": [
    "1. 자바 설치 - 자바가 먼저 설치 되어 있어야 함"
   ]
  },
  {
   "cell_type": "markdown",
   "id": "93e601ff",
   "metadata": {},
   "source": [
    "2. KoNLPy 의존성 패키지 설치하기\n",
    "- 의존성 패키지 : 다른 패키지의 기능을 이용하는 경우, 다른 패키지를 먼저 설치해야 작동\n",
    "- pip install jpype1 설치"
   ]
  },
  {
   "cell_type": "markdown",
   "id": "9b4ee6ee",
   "metadata": {},
   "source": [
    "3. KoNLPy 설치 하기\n",
    "- pip install konlpy\n",
    "- KoNLPy(“코엔엘파이”라고 읽습니다)는 한국어 정보처리를 위한 파이썬 패키지"
   ]
  },
  {
   "cell_type": "markdown",
   "id": "0ca28ffe",
   "metadata": {},
   "source": [
    "4. NLP란 무엇인가요?\n",
    "- NLP (Natural Language Processing, 자연어처리)는 텍스트에서 의미있는 정보를 분석, 추출하고 이해하는 일련의 기술집합입니다.\n",
    "- 품사 태깅 은 형태소의 뜻과 문맥을 고려하여 그것에 마크업을 하는 일\n",
    "> 가방에 들어가신다 -> 가방/NNG + 에/JKM + 들어가/VV + 시/EPH + ㄴ다/EFN\n",
    "- KoNLPy를 설치하면 다음의 4개 형태소 분석기를 사용 가능 : Kkma(꼬꼬마),Komoran,Hannanum(한나눔),Okt (previous Twitter)\n",
    "     - Hannanum(한나눔) : 정제된 텍스트에 사용하는 형태소 분석기\n",
    "     - Kkma(꼬꼬마) : 띄어쓰기 오류에 덜 민감하여 댓글 분석에 많이 이용하는 형태소 분석기\n",
    "\n",
    "- 형태소 : \n",
    "     - 의미를 가지는 요소로서는 더 이상 분석할 수 없는 가장 작은 말의 단위\n",
    "     - 문법적·관계적인 뜻만을 나타내는 단어 또는 단어의 부분."
   ]
  },
  {
   "cell_type": "markdown",
   "id": "16c86d9e",
   "metadata": {},
   "source": [
    "## Lab 2 : 가장 많이 사용된 단어 알아보기\n",
    "- 문재인 대통령 대선 출마 선언문을 사용한 텍스트 마이닝\n",
    "- 문법 오류가 없는 정제된 문장으로 전처리 작업이 많지 않은 텍스트"
   ]
  },
  {
   "cell_type": "markdown",
   "id": "1d43883e",
   "metadata": {},
   "source": [
    "1. 연설문 불러오기"
   ]
  },
  {
   "cell_type": "code",
   "execution_count": null,
   "id": "27a51514",
   "metadata": {},
   "outputs": [],
   "source": [
    "moon = open('speech_moon.txt', encoding = 'UTF-8').read()\n",
    "moon"
   ]
  },
  {
   "cell_type": "markdown",
   "id": "36b1d60f",
   "metadata": {},
   "source": [
    "2. 불필요한 문자 제거하기\n",
    "- 특수문자, 한자 등, 한글이 아닌 문자를 제거\n",
    "- re.sub()를 활용하여 한글이 아닌 모든 문자를 공백으로 변경"
   ]
  },
  {
   "cell_type": "code",
   "execution_count": null,
   "id": "43528c44",
   "metadata": {},
   "outputs": [],
   "source": [
    "# 불필요한 문자 제거\n",
    "import re"
   ]
  },
  {
   "cell_type": "code",
   "execution_count": null,
   "id": "fcd618f3",
   "metadata": {},
   "outputs": [],
   "source": [
    "moon = re.sub('[^가-힣]', ' ', moon)  # 두번째 파라미터가 공백 문자임에 주의\n",
    "moon"
   ]
  },
  {
   "cell_type": "markdown",
   "id": "bb037ac6",
   "metadata": {},
   "source": [
    "3. 명사 추출하기\n",
    "- 문장에서 명사만을 추출하여 분석해 보자"
   ]
  },
  {
   "cell_type": "code",
   "execution_count": null,
   "id": "fd5af737",
   "metadata": {},
   "outputs": [],
   "source": [
    "# hannanum 만들기\n",
    "import konlpy\n",
    "hannanum = konlpy.tag.Hannanum()"
   ]
  },
  {
   "cell_type": "code",
   "execution_count": null,
   "id": "3daa6d7c",
   "metadata": {},
   "outputs": [],
   "source": [
    "# 형태소와 종류까지 추출하기 (N 명사, J 조사 등)\n",
    "hannanum.pos(\"대한민국의 영토는 한반도와 그 부속도서로 한다\")"
   ]
  },
  {
   "cell_type": "code",
   "execution_count": null,
   "id": "98d53147",
   "metadata": {},
   "outputs": [],
   "source": [
    "# 형태소 종류 알파벳의 의미 확인\n",
    "hannanum.tagset"
   ]
  },
  {
   "cell_type": "code",
   "execution_count": null,
   "id": "ebb8309a",
   "metadata": {},
   "outputs": [],
   "source": [
    "# 명사 추출하기\n",
    "hannanum.nouns(\"대한민국의 영토는 한반도와 그 부속도서로 한다\")"
   ]
  },
  {
   "cell_type": "code",
   "execution_count": null,
   "id": "75d43ab2",
   "metadata": {},
   "outputs": [],
   "source": [
    "# 형태소 단위로 추출하기\n",
    "hannanum.morphs(\"대한민국의 영토는 한반도와 그 부속도서로 한다\")"
   ]
  },
  {
   "cell_type": "code",
   "execution_count": null,
   "id": "4e24ac14",
   "metadata": {},
   "outputs": [],
   "source": [
    "# 연설문에서 명사 추출하기\n",
    "nouns = hannanum.nouns(moon)\n",
    "nouns[:20]"
   ]
  },
  {
   "cell_type": "code",
   "execution_count": null,
   "id": "8c2cc3e4",
   "metadata": {},
   "outputs": [],
   "source": [
    "# 데이터 프레임으로 변환\n",
    "import pandas as pd\n",
    "df_word = pd.DataFrame( {'word' : nouns})\n",
    "df_word"
   ]
  },
  {
   "cell_type": "markdown",
   "id": "88ac4984",
   "metadata": {},
   "source": [
    "4. 단어 빈도표 만들기"
   ]
  },
  {
   "cell_type": "code",
   "execution_count": null,
   "id": "93d2ed9e",
   "metadata": {},
   "outputs": [],
   "source": [
    "# 글자 수(count) 파생 변수 추가\n",
    "df_word['word_n'] = df_word['word'].str.len()\n",
    "df_word"
   ]
  },
  {
   "cell_type": "code",
   "execution_count": null,
   "id": "4f2d7927",
   "metadata": {},
   "outputs": [],
   "source": [
    "# 단어 중 2글자 이상의 단어만 남기기\n",
    "df_word = df_word.query('word_n >= 2')\n",
    "df_word.sort_values('word')"
   ]
  },
  {
   "cell_type": "code",
   "execution_count": null,
   "id": "357faea6",
   "metadata": {},
   "outputs": [],
   "source": [
    "# 단어 빈도 구하기\n",
    "df_word = df_word.groupby('word', as_index=False) \\\n",
    "                .agg(n = ('word', 'count')) \\\n",
    "                .sort_values('n', ascending=False)\n",
    "df_word"
   ]
  },
  {
   "cell_type": "markdown",
   "id": "a384977a",
   "metadata": {},
   "source": [
    "5. 단어 빈도 그래프 만들기"
   ]
  },
  {
   "cell_type": "code",
   "execution_count": null,
   "id": "62c68d7b",
   "metadata": {},
   "outputs": [],
   "source": [
    "# 단어 빈도 상위 20개 추출\n",
    "top20 = df_word.head(20)\n",
    "top20"
   ]
  },
  {
   "cell_type": "code",
   "execution_count": null,
   "id": "c060b9ea",
   "metadata": {},
   "outputs": [],
   "source": [
    "# 막대 그래프 그리기\n",
    "import seaborn as sns\n",
    "import matplotlib.pyplot as plt\n",
    "\n",
    "plt.rcParams.update( {'font.family' : 'malgun Gothic',  # 한글 폰트\n",
    "                      'figure.dpi' : '120',             # 해상도\n",
    "                      'figure.figsize' : [6.5, 6]})     # 가호, 세로 크기\n",
    "\n",
    "sns.barplot(data=top20, y='word', x='n')"
   ]
  },
  {
   "cell_type": "markdown",
   "id": "b8d23b56",
   "metadata": {},
   "source": [
    "- '일자리', '복지국가' 등의 단어 구성으로 일자리 문제를 해결하고 복지국가를 지향하겠다는 의사를 표현했다는 것을 알 수 있음"
   ]
  },
  {
   "cell_type": "markdown",
   "id": "cf50119b",
   "metadata": {},
   "source": [
    "## Lab 3 : 워드 클라우드 만들기\n",
    "- 워드 클라우드(word cloud)는 단어의 빈도를 구름 모양으로 표현한 그래프\n",
    "- 어떤 단어가 얼마나 사용됬는지 파악하기 쉽다."
   ]
  },
  {
   "cell_type": "markdown",
   "id": "de5afd0f",
   "metadata": {},
   "source": [
    "1. wordcloud 패키지 설치"
   ]
  },
  {
   "cell_type": "code",
   "execution_count": null,
   "id": "7e15547c",
   "metadata": {},
   "outputs": [],
   "source": [
    "!pip install wordcloud"
   ]
  },
  {
   "cell_type": "markdown",
   "id": "d41109b7",
   "metadata": {},
   "source": [
    "2. 한글 폰트 설정하기\n",
    "- 워드 클라우드에 한글을 표현하려면 한글 폰트를 사용하도록 설정해야 함\n",
    "- 배달의 민족 도현체 폰트 설치"
   ]
  },
  {
   "cell_type": "code",
   "execution_count": null,
   "id": "5c5459e7",
   "metadata": {},
   "outputs": [],
   "source": [
    "font = 'DoHyeon-Regular.ttf'"
   ]
  },
  {
   "cell_type": "markdown",
   "id": "07660fdd",
   "metadata": {},
   "source": [
    "3. 단어와 빈도를 담은 딕셔너리 만들기\n",
    "- 워드 클라우드는 딕셔너리 자료구조를 활용하여 만듬\n",
    "- df_word는 데이터 프레임으로 딕셔너리로 변환하여 사용"
   ]
  },
  {
   "cell_type": "code",
   "execution_count": null,
   "id": "ecf54a57",
   "metadata": {},
   "outputs": [],
   "source": [
    "df_word.head()"
   ]
  },
  {
   "cell_type": "code",
   "execution_count": null,
   "id": "9a9182f7",
   "metadata": {},
   "outputs": [],
   "source": [
    "dic_word = df_word.set_index('word').to_dict()['n']\n",
    "dic_word"
   ]
  },
  {
   "cell_type": "markdown",
   "id": "4fea444e",
   "metadata": {},
   "source": [
    "4. 워드 클라우드 만들기"
   ]
  },
  {
   "cell_type": "code",
   "execution_count": null,
   "id": "ca7ca9fc",
   "metadata": {},
   "outputs": [],
   "source": [
    "from wordcloud import WordCloud"
   ]
  },
  {
   "cell_type": "code",
   "execution_count": null,
   "id": "0c05d5b7",
   "metadata": {},
   "outputs": [],
   "source": [
    "# wc 만들기\n",
    "wc = WordCloud(random_state = 1234,         # 난수 고정, 항상 같은 모양으로 생성\n",
    "                font_path = font,           # 폰트 설정\n",
    "                width = 400,                # 가로 크기\n",
    "                height = 400,               # 세로 크기\n",
    "                background_color = 'white') # 배경색\n",
    "\n",
    "# 워드 클라우드 만들기\n",
    "img_wordcloud = wc.generate_from_frequencies(dic_word)\n",
    "\n",
    "# 워드 클라우드 출력하기\n",
    "# 자주 사용한 단어는 크게 표시됨\n",
    "plt.figure(figsize = (5, 5))            # 액자 사이즈\n",
    "plt.axis('off')                         # 테두리 선 없애기\n",
    "plt.imshow(img_wordcloud)"
   ]
  },
  {
   "cell_type": "markdown",
   "id": "32a549f9",
   "metadata": {},
   "source": [
    "## Lab 4 : 워드 클라우드 모양 바꾸기\n",
    "- WordCloud()의 mask를 이용하여 워드 클라우드(word cloud) 모양을 바꿀 수 있음\n"
   ]
  },
  {
   "cell_type": "markdown",
   "id": "eb9c1a7d",
   "metadata": {},
   "source": [
    "1. mask 만들기\n",
    "- PIL(Python Imaging Library) : 이미지 분석 및 처리를 쉽게할 수 있는 라이브러리\n",
    "- 픽셀 단위 조작\n",
    "- 마스킹 및 투명도 제어\n",
    "- 흐림, 윤곽 보정, 윤곽 검출 등 이미지 필터\n",
    "- 선명도, 밝기, 명암 보장 등 화상 조정\n",
    "- 이미지에 텍스트 추가하기"
   ]
  },
  {
   "cell_type": "code",
   "execution_count": null,
   "id": "72f1a9b4",
   "metadata": {},
   "outputs": [],
   "source": [
    "import PIL"
   ]
  },
  {
   "cell_type": "code",
   "execution_count": null,
   "id": "14f6238c",
   "metadata": {},
   "outputs": [],
   "source": [
    "# 구름 이미지 불러오기, 배경이 투명해야 함\n",
    "# 구름 모양의 이미지 경계가 뚜렸한 png 파일\n",
    "# 마스크가 될 이미지 파일 불러오기\n",
    "icon = PIL.Image.open('cloud.png')   "
   ]
  },
  {
   "cell_type": "code",
   "execution_count": null,
   "id": "2d7f3b8d",
   "metadata": {},
   "outputs": [],
   "source": [
    "print(f'이미지 파일 이름 : {icon.filename}')\n",
    "print(f'이미지 파일 형식 : {icon.format}')\n",
    "print(f'이미지 파일 크기 : {icon.size}')\n",
    "print(f'이미지 색상 모드 : {icon.mode}')\n",
    "print(f'이미지 가로 크기 : {icon.width}')\n",
    "print(f'이미지 세로 크기 : {icon.height}')"
   ]
  },
  {
   "cell_type": "code",
   "execution_count": null,
   "id": "1caa609e",
   "metadata": {},
   "outputs": [],
   "source": [
    "icon.show()"
   ]
  },
  {
   "cell_type": "markdown",
   "id": "0c89f9ac",
   "metadata": {},
   "source": [
    "2. 워드 클라우드 만들기"
   ]
  },
  {
   "cell_type": "code",
   "execution_count": null,
   "id": "f6fd4955",
   "metadata": {},
   "outputs": [],
   "source": [
    "# 구름 이미지로 mask 만들기\n",
    "import numpy as np\n",
    "\n",
    "# 흰색 캠퍼스 만들기\n",
    "img = PIL.Image.new('RGB', icon.size, (255, 255, 255))\n",
    "\n",
    "# 흰색 캠퍼스 이미지(0,0)에 icon 이미지(첫번째 파라미터)를 부착함\n",
    "# icon 이미지(두번째 파라미터)를 mask 이미지로 사용함\n",
    "img.paste(icon, icon)\n",
    "\n",
    "# mask 파일 생성\n",
    "img = np.array(img)"
   ]
  },
  {
   "cell_type": "code",
   "execution_count": null,
   "id": "528e170a",
   "metadata": {},
   "outputs": [],
   "source": [
    "# wc  만들기\n",
    "wc = WordCloud(random_state=1234,\n",
    "              font_path = font,\n",
    "              width = 400,\n",
    "              height = 400,\n",
    "              contour_width=3,                  # 테두리 굵기\n",
    "              contour_color='steelblue',        # 테두리 색\n",
    "              background_color = 'white',\n",
    "              mask = img)                      # 배경으로 사용할 이미지\n",
    "\n",
    "# 구름 이미지로 mask 만들기# 워드 클라우드 만들기\n",
    "img_wordcloud = wc.generate_from_frequencies(dic_word)\n",
    "\n",
    "# 워드 클라우드 출력하기\n",
    "plt.figure(figsize = (10, 10))\n",
    "plt.axis('off')\n",
    "plt.imshow(img_wordcloud)"
   ]
  },
  {
   "cell_type": "markdown",
   "id": "457d35b0",
   "metadata": {},
   "source": [
    "## Lab 5 : 워드 클라우드 색깔 바꾸기\n",
    "- inferno 컬러맵 적용"
   ]
  },
  {
   "cell_type": "code",
   "execution_count": null,
   "id": "dd8e9e80",
   "metadata": {},
   "outputs": [],
   "source": [
    "# wc  만들기\n",
    "wc = WordCloud(random_state=1234,\n",
    "              font_path = font,\n",
    "              width = 400,\n",
    "              height = 400,\n",
    "              background_color = 'white',\n",
    "              mask = img,\n",
    "              colormap = 'inferno')      # 컬러맵 설정"
   ]
  },
  {
   "cell_type": "code",
   "execution_count": null,
   "id": "19361aa3",
   "metadata": {},
   "outputs": [],
   "source": [
    "# 워드 클라우드 만들기\n",
    "img_wordcloud = wc.generate_from_frequencies(dic_word)\n",
    "\n",
    "# 워드 클라우드 출력하기\n",
    "plt.figure(figsize = (10, 10))\n",
    "plt.axis('off')\n",
    "plt.imshow(img_wordcloud)"
   ]
  },
  {
   "cell_type": "markdown",
   "id": "318f8593",
   "metadata": {},
   "source": [
    "## 10-2 기사 댓글 텍스트 마이닝\n",
    "- 2020년 9월 21일 방탄소년단이 '빌보드 핫 100 차트' 1위에 오른 소식을 다룬 네이버 뉴스 댓글 분석"
   ]
  },
  {
   "cell_type": "markdown",
   "id": "6630acac",
   "metadata": {},
   "source": [
    "## Lab 6 : 가장 많이 사용된 단어 알아보기"
   ]
  },
  {
   "cell_type": "markdown",
   "id": "74e6ab8c",
   "metadata": {},
   "source": [
    "1. 기사 댓글 불러오기"
   ]
  },
  {
   "cell_type": "code",
   "execution_count": null,
   "id": "aeae47ee",
   "metadata": {},
   "outputs": [],
   "source": [
    "# 데이터 불러오기\n",
    "# naver 뉴스 댓글 파일\n",
    "import pandas as pd\n",
    "df = pd.read_csv('news_comment_BTS.csv', encoding='UTF-8')"
   ]
  },
  {
   "cell_type": "code",
   "execution_count": null,
   "id": "597b8f33",
   "metadata": {},
   "outputs": [],
   "source": [
    "df.head()"
   ]
  },
  {
   "cell_type": "code",
   "execution_count": null,
   "id": "5868d748",
   "metadata": {},
   "outputs": [],
   "source": [
    "# 데이터 살펴보기\n",
    "df.info()"
   ]
  },
  {
   "cell_type": "markdown",
   "id": "24505aa1",
   "metadata": {},
   "source": [
    "2. 불필요한 문자 제거하기\n",
    "- 댓글(reply)에서 불필요한 문자 제거"
   ]
  },
  {
   "cell_type": "code",
   "execution_count": null,
   "id": "d350a336",
   "metadata": {},
   "outputs": [],
   "source": [
    "# 불필요한 문자 제거하기\n",
    "df['reply'] = df['reply'].str.replace('[^가-힣]', ' ', regex=True)\n",
    "df['reply'].head()"
   ]
  },
  {
   "cell_type": "markdown",
   "id": "65e90a17",
   "metadata": {},
   "source": [
    "3. 명사 추출하기\n",
    "- 꼬꼬마(Kkma) 형태 분석기 사용\n",
    "- 꼬꼬마 형태소 분석기는 띄어쓰기 오류가 있는 문장에서도 형태소를 잘 출력\n",
    "- 댓글 처럼 정제되지 않은 텍스트 분석시 적합"
   ]
  },
  {
   "cell_type": "code",
   "execution_count": null,
   "id": "6eb836e6",
   "metadata": {},
   "outputs": [],
   "source": [
    "# Kkma 만들기\n",
    "import konlpy\n",
    "kkma = konlpy.tag.Kkma()"
   ]
  },
  {
   "cell_type": "code",
   "execution_count": null,
   "id": "a3345c2f",
   "metadata": {},
   "outputs": [],
   "source": [
    "# 꼬꼬마 형태소 분석기로 명사 추출\n",
    "nouns = df['reply'].apply(kkma.nouns)\n",
    "nouns"
   ]
  },
  {
   "cell_type": "markdown",
   "id": "0bbd4061",
   "metadata": {},
   "source": [
    "4. 단어 빈도표 만들기\n",
    "- 꼬꼬마 형태소 분석기는 행마다 여러 단어가 리스트 자료 구조에 들어감\n",
    "- df.explode()로 한 행에 한 단어만 들어가도록 함"
   ]
  },
  {
   "cell_type": "code",
   "execution_count": null,
   "id": "316f8785",
   "metadata": {},
   "outputs": [],
   "source": [
    "nouns = nouns.explode()\n",
    "nouns"
   ]
  },
  {
   "cell_type": "markdown",
   "id": "e317c61f",
   "metadata": {},
   "source": [
    "> 두 글자 이상 단어만 남기기"
   ]
  },
  {
   "cell_type": "code",
   "execution_count": null,
   "id": "0e2e3c71",
   "metadata": {},
   "outputs": [],
   "source": [
    "# 데이터 프레임 만들기\n",
    "type(nouns)"
   ]
  },
  {
   "cell_type": "code",
   "execution_count": null,
   "id": "82f6d873",
   "metadata": {},
   "outputs": [],
   "source": [
    "df_word = pd.DataFrame({'word' : nouns})\n",
    "df_word.head()"
   ]
  },
  {
   "cell_type": "code",
   "execution_count": null,
   "id": "4ea3d227",
   "metadata": {},
   "outputs": [],
   "source": [
    "# 글자 수 추가\n",
    "df_word['count'] = df_word['word'].str.len()\n",
    "df_word.head()"
   ]
  },
  {
   "cell_type": "code",
   "execution_count": null,
   "id": "2a838993",
   "metadata": {},
   "outputs": [],
   "source": [
    "# 두 글자 이상 단어만 남기기\n",
    "df_word = df_word.query('count >= 2')\n",
    "df_word.head()"
   ]
  },
  {
   "cell_type": "code",
   "execution_count": null,
   "id": "091fda12",
   "metadata": {},
   "outputs": [],
   "source": [
    "# 빈도표 만들기\n",
    "df_word = df_word.groupby('word', as_index=False) \\\n",
    "                .agg(n = ('word', 'count')) \\\n",
    "                .sort_values('n', ascending=False)\n",
    "df_word"
   ]
  },
  {
   "cell_type": "markdown",
   "id": "d0fb9467",
   "metadata": {},
   "source": [
    "5. 단어 빈도 막대 그래프 만들기"
   ]
  },
  {
   "cell_type": "code",
   "execution_count": null,
   "id": "ea086e14",
   "metadata": {},
   "outputs": [],
   "source": [
    "# 단어 빈도 상위 20개 추출\n",
    "top20 = df_word.head(20)\n",
    "top20"
   ]
  },
  {
   "cell_type": "code",
   "execution_count": null,
   "id": "94b93847",
   "metadata": {},
   "outputs": [],
   "source": [
    "# 가로 세로 크기 결정\n",
    "plt.rcParams.update({'figure.figsize' : [6.5, 6]})\n",
    "\n",
    "# 막대 그래프 만들기\n",
    "sns.barplot(data=top20, y='word', x='n')"
   ]
  },
  {
   "cell_type": "markdown",
   "id": "0cafd3cf",
   "metadata": {},
   "source": [
    "- 출력된 그래프를 보면 '방탄', '축하', '자랑', ' 국위선양', '대한민국' 등 단어 빈도 높음\n",
    "- 칭찬 댓글이 많음을 알 수 있음\n",
    "- 군대, 연제, 군면제 등 단어도 많아 BTS 병역의무 면제에 대한 댓글도 많음"
   ]
  },
  {
   "cell_type": "markdown",
   "id": "cd2de403",
   "metadata": {},
   "source": [
    "## Lab 7 : 워드 클라우드 만들기"
   ]
  },
  {
   "attachments": {
    "image.png": {
     "image/png": "[encoded data removed]"
    }
   },
   "cell_type": "markdown",
   "id": "f79ad390",
   "metadata": {},
   "source": [
    "![image.png](attachment:image.png)"
   ]
  },
  {
   "cell_type": "markdown",
   "id": "5cb26765",
   "metadata": {},
   "source": [
    "칼라맵의 종류 확인   https://bit.ly/easypy_104"
   ]
  },
  {
   "cell_type": "code",
   "execution_count": null,
   "id": "8fb43e67",
   "metadata": {},
   "outputs": [],
   "source": [
    "# 데이터 프레임을 딕셔너리로 변환\n",
    "dic_word = df_word.set_index('word').to_dict()['n']"
   ]
  },
  {
   "cell_type": "code",
   "execution_count": null,
   "id": "cbe4678f",
   "metadata": {},
   "outputs": [],
   "source": [
    "# wc  만들기\n",
    "wc = WordCloud(random_state=1234,\n",
    "              font_path = font,\n",
    "              width = 400,\n",
    "              height = 400,\n",
    "              background_color = 'white',\n",
    "              mask = img,\n",
    "              colormap = 'inferno')"
   ]
  },
  {
   "cell_type": "code",
   "execution_count": null,
   "id": "6cef26bc",
   "metadata": {},
   "outputs": [],
   "source": [
    "# 워드 클라우드 만들기\n",
    "img_wordcloud = wc.generate_from_frequencies(dic_word)\n",
    "\n",
    "# 워드 클라우드 출력하기\n",
    "plt.figure(figsize = (10, 10))\n",
    "plt.axis('off')\n",
    "plt.imshow(img_wordcloud)"
   ]
  },
  {
   "cell_type": "markdown",
   "id": "4dac4ab7",
   "metadata": {},
   "source": [
    "## 실습과제 : 대한민국 헌법 데이터를 읽고, \n",
    "- 단어 빈도 막대 그래프 만들기\n",
    "- 워드 클라우드 만들기"
   ]
  },
  {
   "cell_type": "code",
   "execution_count": null,
   "id": "dc3cb82b",
   "metadata": {},
   "outputs": [],
   "source": [
    "import re\n",
    "import pandas as pd\n",
    "\n",
    "# KoNLPy에서는 대한민국 헌법 말뭉치인 kolaw와 국회법안 말뭉치인 kobill을 제공\n",
    "from konlpy.corpus import kolaw"
   ]
  },
  {
   "cell_type": "code",
   "execution_count": null,
   "id": "d7dad58a",
   "metadata": {},
   "outputs": [],
   "source": [
    "# 말뭉치가 포함하는 파일의 이름은 fields 메서드로 알 수 있음\n",
    "kolaw.fileids()"
   ]
  },
  {
   "cell_type": "code",
   "execution_count": null,
   "id": "604fe08e",
   "metadata": {},
   "outputs": [],
   "source": [
    "# 대한 민국 헌법 읽어 오기\n",
    "law = kolaw.open('constitution.txt').read()\n",
    "law[:100]"
   ]
  },
  {
   "cell_type": "code",
   "execution_count": null,
   "id": "f8366f59",
   "metadata": {},
   "outputs": [],
   "source": [
    "# Okt(Open Korean Text) 만들기\n",
    "# Twitter에서 만든 한국어 처리기 Twitter-korean-text를 활용하여 만든 한국어 형태소 분석기\n",
    "from konlpy.tag import Okt \n",
    "okt = Okt()"
   ]
  },
  {
   "cell_type": "code",
   "execution_count": null,
   "id": "b9119b07",
   "metadata": {},
   "outputs": [],
   "source": [
    "len(law)"
   ]
  },
  {
   "cell_type": "code",
   "execution_count": null,
   "id": "92b9ad48",
   "metadata": {},
   "outputs": [],
   "source": [
    "# 특수 문자, 숫자 등 삭제\n"
   ]
  },
  {
   "cell_type": "code",
   "execution_count": null,
   "id": "9b123dd2",
   "metadata": {},
   "outputs": [],
   "source": [
    "len(law)"
   ]
  },
  {
   "cell_type": "code",
   "execution_count": null,
   "id": "d34dbf76",
   "metadata": {},
   "outputs": [],
   "source": [
    "# 헌법에서 명사 추출하기\n",
    "# hannanum 만들기\n",
    "nouns = okt.nouns(law)\n",
    "len(nouns)"
   ]
  },
  {
   "cell_type": "code",
   "execution_count": null,
   "id": "5633da8e",
   "metadata": {},
   "outputs": [],
   "source": [
    "nouns[:30]"
   ]
  },
  {
   "cell_type": "code",
   "execution_count": null,
   "id": "6050fd31",
   "metadata": {},
   "outputs": [],
   "source": [
    "# 1글자로 된 명사는 삭제\n"
   ]
  },
  {
   "cell_type": "code",
   "execution_count": null,
   "id": "0ebd67ee",
   "metadata": {},
   "outputs": [],
   "source": [
    "# 단어의 빈도표를 상위 20개 단어에 대해 막대 그래프로 그리시오\n"
   ]
  },
  {
   "cell_type": "code",
   "execution_count": null,
   "id": "d78f883a",
   "metadata": {},
   "outputs": [],
   "source": [
    "# wordCloud를 그려보세요\n"
   ]
  },
  {
   "cell_type": "code",
   "execution_count": null,
   "id": "19f442ae",
   "metadata": {},
   "outputs": [],
   "source": [
    "# 다양한 wordCloud mask image를 가저와 적용해 보세요\n",
    "# WordCloud mask image 검색\n"
   ]
  }
 ],
 "metadata": {
  "kernelspec": {
   "display_name": "Python 3 (ipykernel)",
   "language": "python",
   "name": "python3"
  },
  "language_info": {
   "codemirror_mode": {
    "name": "ipython",
    "version": 3
   },
   "file_extension": ".py",
   "mimetype": "text/x-python",
   "name": "python",
   "nbconvert_exporter": "python",
   "pygments_lexer": "ipython3",
   "version": "3.9.13"
  }
 },
 "nbformat": 4,
 "nbformat_minor": 5
}
