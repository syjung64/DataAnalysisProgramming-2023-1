{
 "cells": [
  {
   "cell_type": "markdown",
   "id": "3ffb230b",
   "metadata": {},
   "source": [
    "## 11-1 시군구별 인구 단계 구분도 만들기\n",
    "- 지역별 통계치를 색깔 차이로 표현한 지도를 단계 구분도(choropleth map)이라 부른다\n",
    "- 단계 구분도를 만들면 인구나 소득과 같은 통계치가 지역별로 어떻게 다른지 쉽게 알 수 있음"
   ]
  },
  {
   "cell_type": "markdown",
   "id": "d66a10e9",
   "metadata": {},
   "source": [
    "## Lab 1 : 시군구별 인구 단계 구분도 만들기"
   ]
  },
  {
   "cell_type": "markdown",
   "id": "7965b92f",
   "metadata": {},
   "source": [
    "1. 시군구 경계 지도 데이터 준비하기\n",
    "- 대한민국 시군구별 경계 좌표가 들어 있는 SIG.geojson 파일을 활용\n",
    "- 행정구역 코드, 지역 이름, 시군구 경계 위도와 경도 좌표\n",
    "- geojson은 위치 정보를 JSON 포맷으로 저장한 표준 지리 정보 데이터 포맷\n",
    "- (주)지오서비스에서 공개한 SHP 파일을 오픈 소스 지리정보 시스템 QGIS로 변환하여 생성한 파일\n",
    "- bit.ly/easypy_111"
   ]
  },
  {
   "cell_type": "code",
   "execution_count": null,
   "id": "f04bc96a",
   "metadata": {},
   "outputs": [],
   "source": [
    "import json\n",
    "geo = json.load(open('SIG.geojson', encoding = 'UTF-8'))"
   ]
  },
  {
   "cell_type": "markdown",
   "id": "16ce6ea2",
   "metadata": {},
   "source": [
    "- geo는 딕셔너리 자료 구조로 되어 있음\n",
    "- geo의  properties에 들어 잇는 SIG_CD에 지역을 나타내는 행정구역 코드가 담김\n",
    "- geometry에는 시군구의 경계를 나타내는 위도, 경도 좌표가 있음"
   ]
  },
  {
   "cell_type": "code",
   "execution_count": null,
   "id": "e7c16519",
   "metadata": {},
   "outputs": [],
   "source": [
    "# 행정 구역 코드 출력\n",
    "geo['features'][0]['properties']"
   ]
  },
  {
   "cell_type": "code",
   "execution_count": null,
   "id": "ebfc74e1",
   "metadata": {},
   "outputs": [],
   "source": [
    "# 위도 경도 좌표 출력\n",
    "geo['features'][0]['geometry']"
   ]
  },
  {
   "cell_type": "markdown",
   "id": "67c32860",
   "metadata": {},
   "source": [
    "2. 시군구별 인구 데이터 준비하기\n",
    "- Population_SIG.csv : 2021년 시군구별 인구 데이터"
   ]
  },
  {
   "cell_type": "code",
   "execution_count": null,
   "id": "9e3ddd3c",
   "metadata": {},
   "outputs": [],
   "source": [
    "import pandas as pd\n",
    "df_pop = pd.read_csv('Population_SIG.csv')\n",
    "df_pop.head()"
   ]
  },
  {
   "cell_type": "code",
   "execution_count": null,
   "id": "8534aeed",
   "metadata": {},
   "outputs": [],
   "source": [
    "df_pop.info()"
   ]
  },
  {
   "cell_type": "code",
   "execution_count": null,
   "id": "c7f67996",
   "metadata": {},
   "outputs": [],
   "source": [
    "# code를 int64 타입에서 문자 타입으로 변경\n",
    "df_pop['code'] = df_pop['code'].astype(str)"
   ]
  },
  {
   "cell_type": "code",
   "execution_count": null,
   "id": "42ec0eb1",
   "metadata": {},
   "outputs": [],
   "source": [
    "df_pop.info()"
   ]
  },
  {
   "cell_type": "markdown",
   "id": "47094561",
   "metadata": {},
   "source": [
    "3. 단계 구분도 만들기"
   ]
  },
  {
   "cell_type": "code",
   "execution_count": null,
   "id": "f77dd309",
   "metadata": {},
   "outputs": [],
   "source": [
    "# folium 패키지 인스톨\n",
    "# !pip install folium"
   ]
  },
  {
   "cell_type": "markdown",
   "id": "264078a6",
   "metadata": {},
   "source": [
    "> (1) 배경지도 만들기"
   ]
  },
  {
   "cell_type": "code",
   "execution_count": null,
   "id": "97d0af53",
   "metadata": {},
   "outputs": [],
   "source": [
    "import folium"
   ]
  },
  {
   "cell_type": "code",
   "execution_count": null,
   "id": "294f2c2f",
   "metadata": {},
   "outputs": [],
   "source": [
    "# 배경지도 만들기 - 중심 위경도(35.95, 127.7), 확대 단계 8\n",
    "folium.Map(location = [35.95, 127.7],  # 지도 중심 좌표\n",
    "          zoom_start = 8,              # 확대 단계\n",
    "          width = '50%',               # 지도 가로 크기\n",
    "          heigth = '50%')              # 지도 세로 크기"
   ]
  },
  {
   "cell_type": "code",
   "execution_count": null,
   "id": "e4fc2085",
   "metadata": {},
   "outputs": [],
   "source": [
    "# 배경지도 만들기 - 중심 위경도(35.95, 127.7), 확대 단계 8, 지도 종류 변경\n",
    "map_sig = folium.Map(location = [35.95, 127.7],\n",
    "                      zoom_start = 8, \n",
    "                     tiles='cartodbpositron') # 지도 종류 - 단계 구분이 잘되는 밝은색 지도\n",
    "map_sig"
   ]
  },
  {
   "cell_type": "markdown",
   "id": "ec82c041",
   "metadata": {},
   "source": [
    "> (2) 단계 구분도 만들기\n",
    "- folium.Choropleth()\n",
    "    - geo_data : 지도 데이터\n",
    "    - data : 색깔로 표현할 통계 데이터\n",
    "    - columns :  통계 데이터의 행정 구역 코드 변수, 색깔로 표현할 변수\n",
    "    - key_on : 지도 데이터의 행정구역 코드"
   ]
  },
  {
   "cell_type": "code",
   "execution_count": null,
   "id": "05edc63f",
   "metadata": {},
   "outputs": [],
   "source": [
    "# 단계별 구분도 만들기\n",
    "# 앞서 만든 배경지도 map_sig에 단계구분도를 덧씌움\n",
    "# map_sig를 실행하면 시군구 경계가 표시된 지도가 출력\n",
    "folium.Choropleth(\n",
    "    geo_data=geo,                        # 지도 데이터\n",
    "    data =df_pop,                        # 통계 데이터\n",
    "    columns = ('code', 'pop'),           # df_pop 행정구역 코드, 인구\n",
    "    key_on = 'feature.properties.SIG_CD').add_to(map_sig) # geo 행정구역 코드\n",
    "map_sig"
   ]
  },
  {
   "cell_type": "markdown",
   "id": "6db4ed69",
   "metadata": {},
   "source": [
    "> 계급 구간 정하기"
   ]
  },
  {
   "cell_type": "code",
   "execution_count": null,
   "id": "ae67e764",
   "metadata": {},
   "outputs": [],
   "source": [
    "# 인구를 5가지 계급 구간으로 나눔\n",
    "# 값을 크기 순으로 나열한 다음 입력한 비율에 해당하는 값인 '분위수'를 구함\n",
    "bins = list(df_pop[\"pop\"].quantile([0, 0.2, 0.4, 0.6, 0.8, 1]))\n",
    "bins"
   ]
  },
  {
   "cell_type": "markdown",
   "id": "e754d236",
   "metadata": {},
   "source": [
    "> 디자인 수정하기"
   ]
  },
  {
   "cell_type": "code",
   "execution_count": null,
   "id": "b78ef237",
   "metadata": {},
   "outputs": [],
   "source": [
    "# 배경지도 만들기 - 중심 위경도(35.95, 127.7), 확대 단계 8, 지도 종류 변경\n",
    "map_sig = folium.Map(location = [35.95, 127.7],  # 지도 중심 위치\n",
    "                    zoom_start = 8,              # 확대 단계\n",
    "                     tiles='cartodbpositron')    # 지도 종류\n",
    "map_sig"
   ]
  },
  {
   "cell_type": "code",
   "execution_count": null,
   "id": "c584dca7",
   "metadata": {},
   "outputs": [],
   "source": [
    "# 단계별 구분도 만들기\n",
    "folium.Choropleth(\n",
    "    geo_data=geo,                      # 지도 데이터\n",
    "    data =df_pop,                      # 통계 데이터\n",
    "    columns = ('code', 'pop'),         # df_pop의 행정구역 코드, 인구\n",
    "    key_on = 'feature.properties.SIG_CD', # geo 행정 구역 코드\n",
    "    fill_color = 'YlGnBu',                # 컬러 맵\n",
    "    fill_opacity = 1,                     # 투명도\n",
    "    line_opacity = 0.5,                   # 경계선 투명도\n",
    "    bins = bins).add_to(map_sig)          # 계급 구간 기준 값 / 배경 지도에 추가\n",
    "map_sig"
   ]
  },
  {
   "cell_type": "markdown",
   "id": "60c90f80",
   "metadata": {},
   "source": [
    "## 11-2 서울시 동별 외국인 인구 단계 구분도 만들기"
   ]
  },
  {
   "cell_type": "markdown",
   "id": "acc1c9c1",
   "metadata": {},
   "source": [
    "## Lab 2 : 서울시 동별 외국인 인구 단계 구분도 만들기"
   ]
  },
  {
   "cell_type": "markdown",
   "id": "0800cb57",
   "metadata": {},
   "source": [
    "1. 서울시 동 경계 지도 데이터 준비하기"
   ]
  },
  {
   "cell_type": "code",
   "execution_count": null,
   "id": "8ed00e4a",
   "metadata": {},
   "outputs": [],
   "source": [
    "# 서울 동 경계 좌표가 들어있는 지도 데이터 불러오기\n",
    "import json\n",
    "geo_seoul = json.load(open('EMD_Seoul.geojson', encoding='UTF-8'))"
   ]
  },
  {
   "cell_type": "code",
   "execution_count": null,
   "id": "fc5e1226",
   "metadata": {},
   "outputs": [],
   "source": [
    "# 행정 구역 코드 출력\n",
    "geo_seoul['features'][0]['properties']"
   ]
  },
  {
   "cell_type": "code",
   "execution_count": null,
   "id": "0f4bd5da",
   "metadata": {},
   "outputs": [],
   "source": [
    "# 위도, 경도 좌표 출력\n",
    "geo_seoul['features'][0]['geometry']"
   ]
  },
  {
   "cell_type": "markdown",
   "id": "aa3d0472",
   "metadata": {},
   "source": [
    "2. 서울시 동별 외국인 인구 데이터 준비 하기"
   ]
  },
  {
   "cell_type": "code",
   "execution_count": null,
   "id": "9630fe83",
   "metadata": {},
   "outputs": [],
   "source": [
    "# 서울시 동별 외국인 통계 데이터 읽어오기\n",
    "foreigner = pd.read_csv('Foreigner_EMD_Seoul.csv')\n",
    "foreigner.head()"
   ]
  },
  {
   "cell_type": "code",
   "execution_count": null,
   "id": "52770344",
   "metadata": {},
   "outputs": [],
   "source": [
    "foreigner.info()"
   ]
  },
  {
   "cell_type": "code",
   "execution_count": null,
   "id": "25bc41c6",
   "metadata": {},
   "outputs": [],
   "source": [
    "# 행정 구역 코드 타입을 문자로 변경\n",
    "foreigner['code'] = foreigner['code'].astype(str)"
   ]
  },
  {
   "cell_type": "markdown",
   "id": "6f8bcc5e",
   "metadata": {},
   "source": [
    "3. 단계별 구분도 만들기"
   ]
  },
  {
   "cell_type": "code",
   "execution_count": null,
   "id": "adc550f6",
   "metadata": {},
   "outputs": [],
   "source": [
    "#  외국인 수를 8가지 계급 구간으로 나눔\n",
    "# 값을 크기 순으로 나열한 다음 입력한 비율에 해당하는 값인 '분위수'를 구함\n",
    "bins = list(foreigner['pop'].quantile([0, 0.2, 0.4, 0.5, 0.6, 0.7, 0.8, 0.9, 1]))\n",
    "bins"
   ]
  },
  {
   "cell_type": "code",
   "execution_count": null,
   "id": "5c8c70fa",
   "metadata": {},
   "outputs": [],
   "source": [
    "# 배경지도 만들기 - 서울 중심의 위경도(35.95, 127.7), 확대 단계 12, 지도 종류 변경\n",
    "map_seoul = folium.Map(location = [37.56, 127],   # 서울 중심을 중앙에 배치\n",
    "                        zoom_start = 12,          # 확대 단계 12\n",
    "                       tiles='cartodbpositron')   # 지도 종류\n",
    "map_seoul"
   ]
  },
  {
   "cell_type": "code",
   "execution_count": null,
   "id": "b6f41ee5",
   "metadata": {},
   "outputs": [],
   "source": [
    "# 단계별 구분도 만들기\n",
    "folium.Choropleth(\n",
    "    geo_data=geo_seoul,                  # 서울 좌표\n",
    "    data = foreigner,                    # 통계 데이터\n",
    "    columns = ('code', 'pop'),           # 통계 데이터에서  행정구역 코드(code), 인구(pop) 표시\n",
    "    key_on = 'feature.properties.ADM_DR_CD', # geo_seoul의 행정구역 코드\n",
    "    fill_color = 'Blues',                   # 컬러맵\n",
    "    nan_fill_color = 'White',                 # 결측치 색깔\n",
    "    fill_opacity = 1,                       # 투명도\n",
    "    line_opacity = 0.5,                     # 경게선 투명도\n",
    "    bins = bins).add_to(map_seoul)       # 계급 구간 기준값 / 서울 배경지도에 추가\n",
    "map_seoul"
   ]
  },
  {
   "cell_type": "markdown",
   "id": "8d675d1b",
   "metadata": {},
   "source": [
    "4. 구 경계선 추가하기"
   ]
  },
  {
   "cell_type": "code",
   "execution_count": null,
   "id": "3ca576db",
   "metadata": {},
   "outputs": [],
   "source": [
    "# 구 경계 좌표를 담은 파일 읽어오기\n",
    "geo_seoul_sig = json.load(open('SIG_Seoul.geojson', encoding='UTF-8'))"
   ]
  },
  {
   "cell_type": "code",
   "execution_count": null,
   "id": "b66c57c5",
   "metadata": {},
   "outputs": [],
   "source": [
    "# 서울 구 라인 추가\n",
    "folium.Choropleth(\n",
    "    geo_data=geo_seoul_sig,             #지도 데이터\n",
    "    fill_opacity = 0,                   # 투명도\n",
    "    line_weight = 4).add_to(map_seoul) # 선 두께 / 배경지도에 추가\n",
    "map_seoul"
   ]
  },
  {
   "cell_type": "markdown",
   "id": "ff355582",
   "metadata": {},
   "source": [
    "- html로 저장하기"
   ]
  },
  {
   "cell_type": "code",
   "execution_count": null,
   "id": "ce03ba0e",
   "metadata": {},
   "outputs": [],
   "source": [
    "# map을 html 파일로 저장, 웹브라우저로 확인 가능\n",
    "map_seoul.save('map_seoul.html')"
   ]
  },
  {
   "cell_type": "code",
   "execution_count": null,
   "id": "a55d93b9",
   "metadata": {},
   "outputs": [],
   "source": [
    "# 웹브라우저 패키지의 open_new()를 이용하여 HTML 파일을 열기\n",
    "import webbrowser\n",
    "webbrowser.open_new('map_seoul.html')"
   ]
  },
  {
   "cell_type": "markdown",
   "id": "0a2cd022",
   "metadata": {},
   "source": [
    "- 다양한 지도 만들기\n",
    "> python-visualization.github.io/folium"
   ]
  }
 ],
 "metadata": {
  "kernelspec": {
   "display_name": "Python 3 (ipykernel)",
   "language": "python",
   "name": "python3"
  },
  "language_info": {
   "codemirror_mode": {
    "name": "ipython",
    "version": 3
   },
   "file_extension": ".py",
   "mimetype": "text/x-python",
   "name": "python",
   "nbconvert_exporter": "python",
   "pygments_lexer": "ipython3",
   "version": "3.9.13"
  }
 },
 "nbformat": 4,
 "nbformat_minor": 5
}
