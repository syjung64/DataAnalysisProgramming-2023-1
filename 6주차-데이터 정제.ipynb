{
 "cells": [
  {
   "cell_type": "markdown",
   "id": "3ae5c8c0",
   "metadata": {},
   "source": [
    "##  데이터 정제\n",
    "- 현장에서 만들어진 데이터는 오류를 포함하고 있기 때문에 분석하기 전에 수정이 필요\n",
    "1. 결측치 (빠진 데이터)\n",
    "2. 이상치 (이상한 데이터)"
   ]
  },
  {
   "cell_type": "markdown",
   "id": "c89b35ad",
   "metadata": {},
   "source": [
    "## 7-1 결측치(빠진 데이터 찾아 정제)"
   ]
  },
  {
   "cell_type": "markdown",
   "id": "4d38afaf",
   "metadata": {},
   "source": [
    "## Lab 1 : 결측치 찾기\n",
    "- 결측치 만들기\n",
    "- 결측치 확인하기\n"
   ]
  },
  {
   "cell_type": "code",
   "execution_count": null,
   "id": "97b04661",
   "metadata": {},
   "outputs": [],
   "source": [
    "import numpy as np\n",
    "import pandas as pd"
   ]
  },
  {
   "cell_type": "code",
   "execution_count": null,
   "id": "39f15ec5",
   "metadata": {},
   "outputs": [],
   "source": [
    "# 결측치가 들어있는 데이터 프레임 만들기\n",
    "# NaN : Not a Number 숫자 형태의 누락된 데이터\n",
    "df = pd.DataFrame( {'sex' : ['M', 'F', np.nan, 'M', 'F'],\n",
    "                   'score' : [5, 4, 3, 4, np.nan]} )\n",
    "                \n",
    "df"
   ]
  },
  {
   "cell_type": "code",
   "execution_count": null,
   "id": "9dc945fc",
   "metadata": {},
   "outputs": [],
   "source": [
    "# NaN 값으로 연산된 결과 값도 NaN\n",
    "df['score'] + 1"
   ]
  },
  {
   "cell_type": "code",
   "execution_count": null,
   "id": "84adcf4f",
   "metadata": {},
   "outputs": [],
   "source": [
    "# 결측치 확인하기\n",
    "# na : Not Avaiable\n",
    "pd.isna(df)"
   ]
  },
  {
   "cell_type": "code",
   "execution_count": null,
   "id": "410b036a",
   "metadata": {},
   "outputs": [],
   "source": [
    "# 결측치 개수\n",
    "pd.isna(df).sum()"
   ]
  },
  {
   "cell_type": "code",
   "execution_count": null,
   "id": "3582df56",
   "metadata": {},
   "outputs": [],
   "source": [
    "# 컬럼(변수) score의 결측치 개수\n",
    "pd.isna(df)['score'].sum()"
   ]
  },
  {
   "cell_type": "markdown",
   "id": "5f4ba6ad",
   "metadata": {},
   "source": [
    "## Lab 2 : 결측치 제거\n",
    "- 결측치 있는 행 제거하기\n",
    "- 여러 변수(컬럼)에 결츠치 없는 데이터 추출하기\n",
    "- 결측치가 하난라도 있으면 제거하기"
   ]
  },
  {
   "cell_type": "code",
   "execution_count": null,
   "id": "99e21a03",
   "metadata": {},
   "outputs": [],
   "source": [
    "df"
   ]
  },
  {
   "cell_type": "code",
   "execution_count": null,
   "id": "fe3e0317",
   "metadata": {},
   "outputs": [],
   "source": [
    "# score 변수에서 결측치가 있는 행을 제거\n",
    "df.dropna(subset = ['score'])"
   ]
  },
  {
   "cell_type": "code",
   "execution_count": null,
   "id": "a42fdb62",
   "metadata": {},
   "outputs": [],
   "source": [
    "# 앞의 연산 결과가 df에는 반여디지 않았음을 확인 \n",
    "df"
   ]
  },
  {
   "cell_type": "code",
   "execution_count": null,
   "id": "d83184a5",
   "metadata": {},
   "outputs": [],
   "source": [
    "df_nomiss = df.dropna(subset = ['score'])\n",
    "df_nomiss"
   ]
  },
  {
   "cell_type": "code",
   "execution_count": null,
   "id": "fc4b1b74",
   "metadata": {},
   "outputs": [],
   "source": [
    "df_nomiss['score'] + 1"
   ]
  },
  {
   "cell_type": "code",
   "execution_count": null,
   "id": "6c157d01",
   "metadata": {},
   "outputs": [],
   "source": [
    "# 변수 sex, score의 결측치 제거하기\n",
    "df_nomiss = df.dropna(subset= ['sex', 'score'])\n",
    "df_nomiss"
   ]
  },
  {
   "cell_type": "code",
   "execution_count": null,
   "id": "6fb942e1",
   "metadata": {},
   "outputs": [],
   "source": [
    "df"
   ]
  },
  {
   "cell_type": "code",
   "execution_count": null,
   "id": "e53116cd",
   "metadata": {},
   "outputs": [],
   "source": [
    "# 결측치가 하나라도 있으면 모두 제거하기\n",
    "df_nomiss2 = df.dropna()\n",
    "df_nomiss2"
   ]
  },
  {
   "cell_type": "markdown",
   "id": "c138f9b8",
   "metadata": {},
   "source": [
    "### 생각해 보기 - 결측치를 모두 제거해 버리면 ??\n",
    "1. 분석에 필요한 행까지 모두 제거될 수 있음\n",
    "2. 예를 들어, (성별, 소득, 지역) 세 변수로 구성된 데이터에서 '성별에 따른 소득 격차'를 알아보는 경우,  지역의 결측치를 제거할 필요가 없음"
   ]
  },
  {
   "cell_type": "markdown",
   "id": "016a85f5",
   "metadata": {},
   "source": [
    "## Lab 3 : 결측치 제거하기\n",
    "1. 평균 값으로 대체하기\n",
    "- exam.csv 파일 불러우기\n",
    "- exam 데이터에서 math의 일부 데이터를 결측치(np.nan)로 대체하기\n",
    "- exam의 결측치를 math의 평균 값을 구하여 평균값으로 대체하기"
   ]
  },
  {
   "cell_type": "code",
   "execution_count": null,
   "id": "87588db3",
   "metadata": {},
   "outputs": [],
   "source": [
    "exam = pd.read_csv('exam.csv')"
   ]
  },
  {
   "cell_type": "code",
   "execution_count": null,
   "id": "6d5f077a",
   "metadata": {},
   "outputs": [],
   "source": [
    "# 인덱스 값 2, 7, 14에 해당 하는 행의 math 컬럼 값을 NaN 값으로 변경\n",
    "exam.loc[[2, 7, 14], ['math']] = np.nan\n",
    "exam"
   ]
  },
  {
   "cell_type": "code",
   "execution_count": null,
   "id": "667a5883",
   "metadata": {},
   "outputs": [],
   "source": [
    "# math 평균값 구하기\n",
    "exam['math'].mean()"
   ]
  },
  {
   "cell_type": "code",
   "execution_count": null,
   "id": "a06bcb61",
   "metadata": {},
   "outputs": [],
   "source": [
    "# 결측치 값을 평균값 대체하기\n",
    "exam['math'] = exam['math'].fillna(55)"
   ]
  },
  {
   "cell_type": "code",
   "execution_count": null,
   "id": "99210c10",
   "metadata": {},
   "outputs": [],
   "source": [
    "exam"
   ]
  },
  {
   "cell_type": "code",
   "execution_count": null,
   "id": "23614b47",
   "metadata": {},
   "outputs": [],
   "source": [
    "# 결측치 확인\n",
    "exam['math'].isna().sum()"
   ]
  },
  {
   "cell_type": "markdown",
   "id": "7d915e50",
   "metadata": {},
   "source": [
    "## Lab 4 : 혼자서 해보기 (mpg 데이터 분석)\n",
    "- mpg 데이터에 결측치를 만들고, 데이터를 분석해 보기\n",
    "- 인데스 값 [64, 123, 130, 152, 211]의 고속도록 연비(hwy) 값을 결측치로 만들기"
   ]
  },
  {
   "cell_type": "code",
   "execution_count": null,
   "id": "3b96cbbd",
   "metadata": {},
   "outputs": [],
   "source": [
    "mpg = pd.read_csv('mpg.csv')"
   ]
  },
  {
   "cell_type": "code",
   "execution_count": null,
   "id": "2e748ae0",
   "metadata": {},
   "outputs": [],
   "source": [
    "# 인데스 값 [64, 123, 130, 152, 211]의 고속도록 연비(hwy) 값을 결측치로 만들기\n",
    "mpg.loc[[64, 123, 130, 152, 211], 'hwy'] = np.nan"
   ]
  },
  {
   "cell_type": "code",
   "execution_count": null,
   "id": "bb0cffd7",
   "metadata": {},
   "outputs": [],
   "source": [
    "# 인데스 값 [64, 65]의 데이터를 출력해서 NaN 값 확인\n",
    "mpg.iloc[64:66]"
   ]
  },
  {
   "cell_type": "markdown",
   "id": "f30c2fe2",
   "metadata": {},
   "source": [
    "> Q1 : 구동 방식(drv)별로 고속도로 연비(hwy) 평균일 비교하려고함\n",
    "- drv와 hwy 변수에 결측치가 몇개 있는지 확인하기"
   ]
  },
  {
   "cell_type": "code",
   "execution_count": null,
   "id": "2f1bf6ed",
   "metadata": {},
   "outputs": [],
   "source": [
    "# 변수 drv, hwy 값에 결측치가 몇개인지 확인\n",
    "mpg[['drv', 'hwy']].isna().sum()"
   ]
  },
  {
   "cell_type": "markdown",
   "id": "e35bafee",
   "metadata": {},
   "source": [
    "> Q2 : df.dropna()를 이용하여 hwy 변수의 결측치를 제거하고, 어떤 구동 방식의 hwy 평균 연비가 높은지 알아보시오. 하나의 pandas 구문으로 작성해 보시오"
   ]
  },
  {
   "cell_type": "code",
   "execution_count": null,
   "id": "bff6d12e",
   "metadata": {},
   "outputs": [],
   "source": [
    "# 변수 hwy 값에 결측치가 몇개인지 확인\n",
    "mpg.dropna(subset= ['hwy']).isna().sum()"
   ]
  },
  {
   "cell_type": "code",
   "execution_count": null,
   "id": "9d8d500c",
   "metadata": {},
   "outputs": [],
   "source": [
    "# 변수 hwy 변수 값에 결측치를 제거하고, 어떤 구동 방식(drv)의 hwy 평균 연비가 높은지 알아보기\n",
    "\n",
    "## mpg.dropna(subset= ['    ']).groupby('     ').agg(mean_hwy = ('       ', '       '))"
   ]
  },
  {
   "cell_type": "markdown",
   "id": "110660df",
   "metadata": {},
   "source": [
    "## Lab 5 :  이상치 정제하기 (이상한 데이터 찾아 정제)\n",
    "- 이상치 : 정상 범위에서 크게 벋어난 값\n",
    "- (예) 몸무게 230kg"
   ]
  },
  {
   "cell_type": "markdown",
   "id": "db04ea29",
   "metadata": {},
   "source": [
    "- 이상 값을 제거하고 성별 score 평균 구하기\n",
    "    1. 이상치를 갖는 데이터 만들기\n",
    "    1. 이상치 확인하기\n",
    "    1. 결측 처리하기\n",
    "    1. 성별 score 평균 구하기"
   ]
  },
  {
   "cell_type": "code",
   "execution_count": null,
   "id": "0c594999",
   "metadata": {},
   "outputs": [],
   "source": [
    "# 이상치를 갖는 데이터 만들기\n",
    "# sex (남자 - 1, 여자 - 2)\n",
    "# score (1점 ~ 5점) 5점 척도로 분류\n",
    "# 이상치 : sex - 3, score - 6\n",
    "df = pd.DataFrame( {'sex'  : [1, 2, 1, 3, 2, 1],\n",
    "                    'score' :[5, 4, 3, 4, 2, 6]\n",
    "                   })\n",
    "df"
   ]
  },
  {
   "cell_type": "code",
   "execution_count": null,
   "id": "b19895c2",
   "metadata": {},
   "outputs": [],
   "source": [
    "# 이상치 확인하기\n",
    "# sex 값의  집단별 빈도수 확인 - 3값이 존재\n",
    "df['sex'].value_counts().sort_index()"
   ]
  },
  {
   "cell_type": "code",
   "execution_count": null,
   "id": "a78c01a8",
   "metadata": {},
   "outputs": [],
   "source": [
    "# 이상치 확인하기\n",
    "# score 값의  집단별 빈도수 확인 - 6값이 존재\n",
    "df['score'].value_counts().sort_index() "
   ]
  },
  {
   "cell_type": "code",
   "execution_count": null,
   "id": "856087e5",
   "metadata": {},
   "outputs": [],
   "source": [
    "# 이상 값을 찾아 결측치 부여\n",
    "df['sex'] = np.where(df['sex'] == 3, np.nan, df['sex'])\n",
    "df"
   ]
  },
  {
   "cell_type": "code",
   "execution_count": null,
   "id": "42629773",
   "metadata": {},
   "outputs": [],
   "source": [
    "# 이상 값을 찾아 결측치 부여\n",
    "df['score'] = np.where(df['score'] > 5, np.nan, df['score'])\n",
    "df"
   ]
  },
  {
   "cell_type": "code",
   "execution_count": null,
   "id": "4f489f7e",
   "metadata": {},
   "outputs": [],
   "source": [
    "df.dropna(subset = ['sex', 'score']) \\\n",
    "    .groupby('sex')\\\n",
    "    .agg(mean_score = ('score', 'mean'))"
   ]
  },
  {
   "cell_type": "markdown",
   "id": "0dc0e483",
   "metadata": {},
   "source": [
    "## Lab 6 : 이상치 제거하기 - 극단적인 값\n",
    "- 값의 정상범위를 정하고, 정상 범위를 벋어난 값을 제거하기\n",
    "- 값의 정상 범위를 정할 때 통계적 기준을 적용할 수 있음\n",
    "    1. 상자(수염) 그림으로 극단치 기준 정하기"
   ]
  },
  {
   "attachments": {
    "image-2.png": {
     "image/png": "[encoded data removed]"
    }
   },
   "cell_type": "markdown",
   "id": "1e99a3cb",
   "metadata": {},
   "source": [
    "#### 1. 상자 그림 살펴보기\n",
    "| 상자 그림        |    값           |     설명                     |\n",
    "| ---              | ----            | ------                       |\n",
    "| 상자 아래 세로선 | 아랫 수염       | 하위 0 ~ 25% 내 해당하는 값  |\n",
    "| 상자 밑면        | 1사분위수(Q1)   | 하위 0 ~ 25% 내 해당하는 값  |\n",
    "| 상자 내 굵은 선  | 2사분위수(Q2)   | 하위 50% 내 해당하는 값  |\n",
    "| 상자 윗면        | 3사분위수(Q3)   | 하위 75% 내 해당하는 값  |\n",
    "| 상자 위 세로선   | 윗 수염         | 하위 75 ~ 100% 내 해당하는 값  |\n",
    "| 상자 밖 가로선   | 극단치 경계     | Q1, Q3 밖 1.5 IQR 내 최대값  |\n",
    "| 상자 밖 점 표식  | 극단치          | Q1, Q3 밖 1.5 IQR 을 벋어난 값  |\n",
    "\n",
    "![image-2.png](attachment:image-2.png)"
   ]
  },
  {
   "cell_type": "code",
   "execution_count": null,
   "id": "28635d5e",
   "metadata": {},
   "outputs": [],
   "source": [
    "mpg = pd.read_csv('mpg.csv')"
   ]
  },
  {
   "cell_type": "code",
   "execution_count": null,
   "id": "0a964eb1",
   "metadata": {},
   "outputs": [],
   "source": [
    "import seaborn as sns"
   ]
  },
  {
   "cell_type": "code",
   "execution_count": null,
   "id": "b2487062",
   "metadata": {},
   "outputs": [],
   "source": [
    "sns.boxplot(data = mpg, y = 'hwy')"
   ]
  },
  {
   "cell_type": "markdown",
   "id": "09657de2",
   "metadata": {},
   "source": [
    "#### 2. 극단치 기준값 구하기"
   ]
  },
  {
   "cell_type": "markdown",
   "id": "6ef72772",
   "metadata": {},
   "source": [
    "> 1사분위수, 3사분위수 구하기"
   ]
  },
  {
   "cell_type": "code",
   "execution_count": null,
   "id": "d36e02bb",
   "metadata": {},
   "outputs": [],
   "source": [
    "pct25 = mpg['hwy'].quantile(.25)\n",
    "pct25"
   ]
  },
  {
   "cell_type": "code",
   "execution_count": null,
   "id": "24904f7f",
   "metadata": {},
   "outputs": [],
   "source": [
    "pct75 = mpg['hwy'].quantile(.75)\n",
    "pct75"
   ]
  },
  {
   "cell_type": "markdown",
   "id": "ccc928ca",
   "metadata": {},
   "source": [
    "> IQR 구하기"
   ]
  },
  {
   "cell_type": "code",
   "execution_count": null,
   "id": "4837947f",
   "metadata": {},
   "outputs": [],
   "source": [
    "iqr = pct75 - pct25\n",
    "iqr"
   ]
  },
  {
   "cell_type": "markdown",
   "id": "51aa7996",
   "metadata": {},
   "source": [
    "> 하한, 상한 구하기"
   ]
  },
  {
   "cell_type": "code",
   "execution_count": null,
   "id": "b5c651a9",
   "metadata": {},
   "outputs": [],
   "source": [
    "pct25 - 1.5 * iqr"
   ]
  },
  {
   "cell_type": "code",
   "execution_count": null,
   "id": "c6825485",
   "metadata": {},
   "outputs": [],
   "source": [
    "pct75 + 1.5 * iqr"
   ]
  },
  {
   "cell_type": "markdown",
   "id": "a4655880",
   "metadata": {},
   "source": [
    "#### 3. 극단치를 결측 처리하기\n",
    "- hwy 값이 4.5 ~ 40.5를 벋어나면 결측치 처리\n",
    "- (pct25 - 1.5 * iqr) ~ (pct75 + 1.5 * iqr)"
   ]
  },
  {
   "cell_type": "code",
   "execution_count": null,
   "id": "1d953419",
   "metadata": {},
   "outputs": [],
   "source": [
    "# 극단치를 결측 처리함\n",
    "# 주의 : np.where()의 각 조건을 괄호로 감싸주어야 함\n",
    "mpg['hwy'] = np.where( (mpg['hwy'] < 4.5) | (mpg['hwy'] > 40.5),\n",
    "                        np.nan, mpg['hwy']\n",
    "                     )"
   ]
  },
  {
   "cell_type": "code",
   "execution_count": null,
   "id": "6f17554c",
   "metadata": {},
   "outputs": [],
   "source": [
    "# 결측 처리된 값의 수 확인\n",
    "mpg['hwy'].isna().sum()"
   ]
  },
  {
   "cell_type": "markdown",
   "id": "5ff472ea",
   "metadata": {},
   "source": [
    "#### 4. 결측치를 제외하고 데이터 분석\n",
    "- 구동방식(drv)에 따라 고속도로 연비(hwy)가 어떻게 달라지는지 확인"
   ]
  },
  {
   "cell_type": "code",
   "execution_count": null,
   "id": "58870c48",
   "metadata": {},
   "outputs": [],
   "source": [
    "mpg.dropna(subset = ['hwy']) \\\n",
    "   .groupby('drv') \\\n",
    "   .agg(mean_hwy = ('hwy', 'mean'))"
   ]
  },
  {
   "cell_type": "markdown",
   "id": "34036606",
   "metadata": {},
   "source": [
    "## Lab 7 : 혼자서 해보기\n",
    "1. mpg 데이터에서 구동방식(drv)별 도시 연비(cty)를 분석해 봅시다.\n",
    "1. mpg 데이터에 이상값과 극단값을 할당합니다.\n",
    "\n",
    "- (drv 이상치 할당) mpg.loc[[9, 13, 57, 92], 'drv'] = 'k'\n",
    "- (cty 이상치 할당) mpg.loc[[28, 42, 128, 202], 'cty'] = [3, 4, 39, 42]\n"
   ]
  },
  {
   "cell_type": "markdown",
   "id": "acb3b0bc",
   "metadata": {},
   "source": [
    "> mpg 데이터에 이상치 할당"
   ]
  },
  {
   "cell_type": "code",
   "execution_count": null,
   "id": "ed9f3d0f",
   "metadata": {},
   "outputs": [],
   "source": [
    "mpg = pd.read_csv('mpg.csv')"
   ]
  },
  {
   "cell_type": "code",
   "execution_count": null,
   "id": "7bf25a6f",
   "metadata": {},
   "outputs": [],
   "source": [
    "# drv에는 4(사륜), f(전륜), r(후륜)의 값만 존재함\n",
    "#  k는 허용하지 않는 이상치\n",
    "# [9, 13, 57, 92]행의 drv 값을 k로 할당\n",
    "mpg.loc[[9, 13, 57, 92], 'drv'] = 'k'"
   ]
  },
  {
   "cell_type": "code",
   "execution_count": null,
   "id": "6a5a420e",
   "metadata": {},
   "outputs": [],
   "source": [
    "# [28, 42, 128, 202]행의 도시 연비 값을 각각  [3, 4, 39, 42]로 할당\n",
    "# 도시 연비 값 [3, 4, 39, 42]은 (pct25 - 1.5 * iqr) ~ (pct75 + 1.5 * iqr)  범위 밖의 이상값\n",
    "mpg.loc[[28, 42, 128, 202], 'cty'] = [3, 4, 39, 42]"
   ]
  },
  {
   "cell_type": "markdown",
   "id": "51923740",
   "metadata": {},
   "source": [
    "Q1 : drv에 이상치가 있는지 확인"
   ]
  },
  {
   "cell_type": "code",
   "execution_count": null,
   "id": "c2a53927",
   "metadata": {},
   "outputs": [],
   "source": [
    "# k 값이 4개 존재하는 것을 확인\n",
    "mpg['drv'].value_counts()"
   ]
  },
  {
   "cell_type": "code",
   "execution_count": null,
   "id": "fe405a1b",
   "metadata": {},
   "outputs": [],
   "source": [
    "# drv 이상 값 k에 대해 NaN 처리 \n",
    "mpg['drv'] = np.where(mpg['drv'].isin(['4', 'f', 'r']), mpg['drv'], np.nan)"
   ]
  },
  {
   "cell_type": "code",
   "execution_count": null,
   "id": "30c86fdd",
   "metadata": {},
   "outputs": [],
   "source": [
    "# drv 변수에 이상 값(NaN)이 몇개인지 확인\n",
    "\n",
    "mpg['drv'].isna().sum()"
   ]
  },
  {
   "cell_type": "code",
   "execution_count": null,
   "id": "77cff103",
   "metadata": {},
   "outputs": [],
   "source": [
    "# drv에 따른 자동차 빈도 수 구하기\n",
    "mpg['drv'].value_counts()"
   ]
  },
  {
   "cell_type": "markdown",
   "id": "3bd19fc3",
   "metadata": {},
   "source": [
    "> Q2 : 상자 그림으로 cty에 이상치가 있는지 확인\n",
    "- (pct25 - 1.5 * iqr) ~ (pct75 + 1.5 * iqr) 범위 밖에 극단 값이 있는지 확인"
   ]
  },
  {
   "cell_type": "code",
   "execution_count": null,
   "id": "f4a2c68c",
   "metadata": {},
   "outputs": [],
   "source": [
    "# 도시연비 cty에 이상치가 있는지 확인하기 위해 박스 수염 그래프 그리기\n",
    "# (pct25 - 1.5 * iqr) ~ (pct75 + 1.5 * iqr) 범위 밖에 극단 값이 있음을 확인\n",
    "sns.boxplot(data=mpg, y='cty')"
   ]
  },
  {
   "cell_type": "code",
   "execution_count": null,
   "id": "14a43a77",
   "metadata": {},
   "outputs": [],
   "source": [
    "# 25% 값 구하기\n",
    "pct25 = mpg['cty'].quantile(0.25)\n",
    "pct25"
   ]
  },
  {
   "cell_type": "code",
   "execution_count": null,
   "id": "53848b5f",
   "metadata": {},
   "outputs": [],
   "source": [
    "# 75% 값 구하기\n",
    "pct75 = mpg['cty'].quantile(0.75)\n",
    "pct75"
   ]
  },
  {
   "cell_type": "code",
   "execution_count": null,
   "id": "6ff7f47c",
   "metadata": {},
   "outputs": [],
   "source": [
    "# irq 값 구하기\n",
    "iqr = pct75 - pct25\n",
    "iqr"
   ]
  },
  {
   "cell_type": "code",
   "execution_count": null,
   "id": "bafae05b",
   "metadata": {},
   "outputs": [],
   "source": [
    "pct25 - 1.5 * iqr"
   ]
  },
  {
   "cell_type": "code",
   "execution_count": null,
   "id": "992fc593",
   "metadata": {},
   "outputs": [],
   "source": [
    "pct75 + 1.5 * iqr"
   ]
  },
  {
   "cell_type": "code",
   "execution_count": null,
   "id": "7f359db1",
   "metadata": {},
   "outputs": [],
   "source": [
    "# (pct25 - 1.5 * iqr) ~ (pct75 + 1.5 * iqr) 범위 밖에 극단 값인 경우 NaN 처리\n",
    "mpg['cty'] = np.where( (mpg['cty'] < 6.5) | (mpg['cty'] > 26.5),\n",
    "                        np.nan, mpg['cty'])"
   ]
  },
  {
   "cell_type": "code",
   "execution_count": null,
   "id": "cd3e3d3d",
   "metadata": {},
   "outputs": [],
   "source": [
    "# 도시연비 cty에 대해 박스 수염 그래프 그리기\n",
    "sns.boxplot(data=mpg, y='cty')"
   ]
  },
  {
   "cell_type": "markdown",
   "id": "280b304c",
   "metadata": {},
   "source": [
    "> Q3 : 구동방식(drv)별로 도시연비(cty) 평균이 어떻게 다른지 확인하기 "
   ]
  },
  {
   "cell_type": "code",
   "execution_count": null,
   "id": "f13a8386",
   "metadata": {},
   "outputs": [],
   "source": [
    "# 구동방식(drv)과 도시연비(cty)의 이상 값을 제거하고\n",
    "# 구동방식(drv)별로 도시연비(cty) 평균이 어떻게 다른지 확인하기\n",
    "\n",
    "## mpg.dropna(subset = ['drv', 'cty']) \\\n",
    "##   .groupby('     ')\\\n",
    "##   .agg(mean_cty = ('     ', '     '))"
   ]
  },
  {
   "cell_type": "code",
   "execution_count": null,
   "id": "7b5b585c",
   "metadata": {},
   "outputs": [],
   "source": []
  }
 ],
 "metadata": {
  "kernelspec": {
   "display_name": "Python 3 (ipykernel)",
   "language": "python",
   "name": "python3"
  },
  "language_info": {
   "codemirror_mode": {
    "name": "ipython",
    "version": 3
   },
   "file_extension": ".py",
   "mimetype": "text/x-python",
   "name": "python",
   "nbconvert_exporter": "python",
   "pygments_lexer": "ipython3",
   "version": "3.9.13"
  }
 },
 "nbformat": 4,
 "nbformat_minor": 5
}
