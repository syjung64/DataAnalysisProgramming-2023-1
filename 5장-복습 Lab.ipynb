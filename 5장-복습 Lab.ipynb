{
 "cells": [
  {
   "cell_type": "markdown",
   "id": "c6b8a7e8",
   "metadata": {},
   "source": [
    "## 5장 복습 하기 :  mpg 데이터 파악해 보기\n",
    "- mpg(mile per gallon) 를 통해 데이터 파악해 보기\n",
    "- 1999년 ~ 2008년까지 미국에서 출시된 자동차 234종의 정보를 담고 있음\n",
    "- bit.ly/easypy_51\n",
    "\n",
    "\n",
    "- manufacturer : 제조사\n",
    "- model : 자동차 모델명\n",
    "- displ : 배기량(cc)\n",
    "- year : 생산 연도\n",
    "- cyl : 실린더 수(4기통, 6기통, ...)\n",
    "- trans : 변속기 종류 - 자동(auto)/수동(manual)\n",
    "- drv : 구동 방식 (전륜 f, 후륜 r, 4륜 4)\n",
    "- cty : 도심 주행시 연비 (예: 18마일/갤런)\n",
    "- hwy : 고속도로 주행시 연비 (예: 18마일/갤런)\n",
    "- fl : 연료 종류(일반 가솔린 p, 고급 가솔린 r)\n",
    "- class : 자동차 크기(compact, suv, van, ...)"
   ]
  },
  {
   "cell_type": "code",
   "execution_count": null,
   "id": "cae2b02b",
   "metadata": {},
   "outputs": [],
   "source": [
    "import pandas as pd\n",
    "mpg = pd.read_csv('mpg.csv')"
   ]
  },
  {
   "cell_type": "code",
   "execution_count": null,
   "id": "12515242",
   "metadata": {},
   "outputs": [],
   "source": [
    "# 고속도로 연비를 나타내는 변수(컬럼) 이름을 hwy에서 highway로 변경\n"
   ]
  },
  {
   "cell_type": "code",
   "execution_count": null,
   "id": "076257a0",
   "metadata": {},
   "outputs": [],
   "source": [
    "# 도시 연비를 나타내는 변수(컬럼) 이름을 cty에서 city로 변경\n"
   ]
  },
  {
   "cell_type": "code",
   "execution_count": null,
   "id": "cd89ea43",
   "metadata": {},
   "outputs": [],
   "source": [
    "# 도시연비와 고속도로 연비를 합한 값인 합산연비 total 파생변수(컬럼) 추가\n"
   ]
  },
  {
   "cell_type": "code",
   "execution_count": null,
   "id": "b712c09a",
   "metadata": {},
   "outputs": [],
   "source": [
    "# 도시연비와 고속도로 연비를 합한 값인 합산연비 total 변수를 2로 나눈 평균연비 mean 파생변수(컬럼) 추가\n"
   ]
  },
  {
   "cell_type": "code",
   "execution_count": null,
   "id": "5687c494",
   "metadata": {},
   "outputs": [],
   "source": [
    "# 자동차 합산연비 total 변수(컬럼)의 요약통계량 구하기\n",
    "# 요약 통계량에서 25%, 75% 값 확인하기"
   ]
  },
  {
   "cell_type": "code",
   "execution_count": null,
   "id": "7bc33594",
   "metadata": {},
   "outputs": [],
   "source": [
    "# 합산연비 total 값에 따라 \n",
    "# 합산연비 total 값이 75% 값 초과이면 'A'\n",
    "# 합산연비 total 값이 25% 값 이상 ~ 75% 값 미만이면 'B'\n",
    "# 합산연비 total 값이 25% 값 미만이면 'C'\n",
    "# 값을 갖는 'grade' 파생변수 추가\n"
   ]
  },
  {
   "cell_type": "code",
   "execution_count": null,
   "id": "4a4ce0f2",
   "metadata": {},
   "outputs": [],
   "source": [
    "# 합산 연비 값에 따라 A, B, C 등급으로 분류된 데이터 빈도수 테이블 생성\n"
   ]
  },
  {
   "cell_type": "code",
   "execution_count": null,
   "id": "eb62bdca",
   "metadata": {},
   "outputs": [],
   "source": [
    "# 합산 연비 값에 따라 A, B, C 등급으로 분류된 데이터 개수 테이블로 막대 그래프 그리기\n"
   ]
  }
 ],
 "metadata": {
  "kernelspec": {
   "display_name": "Python 3 (ipykernel)",
   "language": "python",
   "name": "python3"
  },
  "language_info": {
   "codemirror_mode": {
    "name": "ipython",
    "version": 3
   },
   "file_extension": ".py",
   "mimetype": "text/x-python",
   "name": "python",
   "nbconvert_exporter": "python",
   "pygments_lexer": "ipython3",
   "version": "3.9.13"
  }
 },
 "nbformat": 4,
 "nbformat_minor": 5
}
