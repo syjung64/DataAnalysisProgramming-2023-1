{
 "cells": [
  {
   "cell_type": "markdown",
   "id": "b7b660ea",
   "metadata": {},
   "source": [
    "## 14-1 가설 검증이란 ?"
   ]
  },
  {
   "cell_type": "markdown",
   "id": "57454fb3",
   "metadata": {},
   "source": [
    "### 기술통계와 추론 통계\n",
    "- 기술통계 (Descriptive Statistics) : 데이터를 요약하여 설명하는 통계분석 기법\n",
    "    > (예) 사람들이 받는 월급을 집계하여 전체 월급 평균을 구함\n",
    "- 추론 통계 (inferential Statistics) : 단순히 숫자를 요약하는 것을 넘어 어떤 값이 발생할 확률을 계산하는 통계분석 기법 \n",
    "    > (예) 데이터에서 성별에 따른 월급 차이가 발생한 경우, 이런 차이가 우연히 발생할 확률 계산 (통계적 유의성)\n",
    "- 일반적으로  통계분석을 수행했다고 한 것은 추론 통계를 이용하여 가설 검증을 수행한 것을 의미함\n",
    "- 기술 통계 분석에서 집단간에 차이가 있더라도 우연에 의한 차이일 수 있음.\n",
    "- 유의 확률을 계산하는 통계적 가설 검증 절차를 거쳐야 함"
   ]
  },
  {
   "cell_type": "markdown",
   "id": "14636350",
   "metadata": {},
   "source": [
    "### 통계적 가설 검증\n",
    "- 유의 확률을 이용하여 가설을 검증하는 방법\n",
    "- 유의 확률은 실제로 집단간 차이가 없는데 우영히 차이가 있는 데이터가 추출될 확률을 의미\n",
    "    > 유의확률이 크다 : 집단간의 차이가 통계적으로 유의하지 않다. 우연히 차이가 관찰될 가능성이 크다\n",
    "    > 유의확률이 작다 : 집단간 차이가 통계적으로 유의하다. 우연히 차이가 관찰될 가능성이 작다\n",
    "- t 검정 : 두 집단의 평균에 차이가 있는지 검정하는 방법\n",
    "- 상관관계 : 두 변수가 관련이 있는지 검정하는 방법"
   ]
  },
  {
   "cell_type": "markdown",
   "id": "d167bc6c",
   "metadata": {},
   "source": [
    "## 14-2 t 검증 - 두 집단의 평균 비교하기\n",
    "- t 검정 : 두 집단의 평균에 차이가 있는지 검정하는 방법"
   ]
  },
  {
   "cell_type": "markdown",
   "id": "4560560c",
   "metadata": {},
   "source": [
    "## Lab 1 :  compact 자동차와 sub 자동차의 도시 연비 t 검증"
   ]
  },
  {
   "cell_type": "code",
   "execution_count": null,
   "id": "2993b97f",
   "metadata": {},
   "outputs": [],
   "source": [
    "import pandas as pd"
   ]
  },
  {
   "cell_type": "code",
   "execution_count": null,
   "id": "fbb61395",
   "metadata": {},
   "outputs": [],
   "source": [
    "mpg = pd.read_csv('mpg.csv')"
   ]
  },
  {
   "cell_type": "code",
   "execution_count": null,
   "id": "607270ae",
   "metadata": {},
   "outputs": [],
   "source": [
    "# 기술 통계 분석"
   ]
  },
  {
   "cell_type": "code",
   "execution_count": null,
   "id": "d5ddb8b8",
   "metadata": {},
   "outputs": [],
   "source": [
    "mpg.query('category in [\"compact\", \"suv\"]') \\\n",
    "    .groupby('category', as_index=False) \\\n",
    "    .agg(n = ('category', 'count'),\n",
    "         mean = ('cty', 'mean'))"
   ]
  },
  {
   "cell_type": "markdown",
   "id": "cb7bcee6",
   "metadata": {},
   "source": [
    "- compact 자동차가 suv에 비해 도시 연비가 높다 (의미있는 차이인가 ?)\n",
    "- t 검증을 통해 확인"
   ]
  },
  {
   "cell_type": "code",
   "execution_count": null,
   "id": "ddcf494e",
   "metadata": {},
   "outputs": [],
   "source": [
    "compact = mpg.query('category == \"compact\"')['cty']\n",
    "compact.head()"
   ]
  },
  {
   "cell_type": "code",
   "execution_count": null,
   "id": "9bc36b5e",
   "metadata": {},
   "outputs": [],
   "source": [
    "suv = mpg.query('category == \"suv\"')['cty']\n",
    "suv.head()"
   ]
  },
  {
   "cell_type": "code",
   "execution_count": null,
   "id": "5d33f117",
   "metadata": {},
   "outputs": [],
   "source": [
    "# t-test\n",
    "from scipy import stats\n",
    "stats.ttest_ind(compact, suv, equal_var=True)"
   ]
  },
  {
   "cell_type": "markdown",
   "id": "467d4533",
   "metadata": {},
   "source": [
    "- 일반적으로 p-value가 5%(0.05) 미만이면 '집단간 차이가 통계적으로 유의하다'라고 해석\n",
    "- 우연히 관찰될 확률이 5%보다 작으면, 이 차이를 우연이라고 보기 어렵다다고 결론을 내림"
   ]
  },
  {
   "cell_type": "markdown",
   "id": "31e9b2d7",
   "metadata": {},
   "source": [
    "> p-value가 2.3909550904711282e-21로 0.05(5%)보다 작으면 평균 도시 차이가 통계적으로 유의미하다고 판단할 수 있음"
   ]
  },
  {
   "cell_type": "markdown",
   "id": "bc90fb9e",
   "metadata": {},
   "source": [
    "## Lab 2 : 일반 휘발유와 고급 휘발유 도시 연비 t 검증"
   ]
  },
  {
   "cell_type": "code",
   "execution_count": null,
   "id": "6e82ab28",
   "metadata": {},
   "outputs": [],
   "source": [
    "# 기술 통계 분석\n",
    "mpg.query('fl in [\"r\", \"p\"]') \\\n",
    "    .groupby('fl', as_index=False) \\\n",
    "    .agg(n = ('fl', 'count'),\n",
    "         mean = ('cty', 'mean'))"
   ]
  },
  {
   "cell_type": "markdown",
   "id": "032baf3e",
   "metadata": {},
   "source": [
    ">  고급 휘발유의 도시 연비가 다소 높다. (실제 유의미 한가 ?)"
   ]
  },
  {
   "cell_type": "code",
   "execution_count": null,
   "id": "01636ac6",
   "metadata": {},
   "outputs": [],
   "source": [
    "regular = mpg.query('fl == \"r\"')['cty']\n",
    "regular.head()"
   ]
  },
  {
   "cell_type": "code",
   "execution_count": null,
   "id": "04e22f82",
   "metadata": {},
   "outputs": [],
   "source": [
    "premium = mpg.query('fl == \"p\"')['cty']\n",
    "premium.head()"
   ]
  },
  {
   "cell_type": "code",
   "execution_count": null,
   "id": "273691c6",
   "metadata": {},
   "outputs": [],
   "source": [
    "# t- test\n",
    "from scipy import stats\n",
    "stats.ttest_ind(regular, premium, equal_var=True)"
   ]
  },
  {
   "cell_type": "markdown",
   "id": "32203e32",
   "metadata": {},
   "source": [
    "> t value가 0.28752051088667036로 0.05(5%)보다 크므로, 평균 도시 차이가 통계적으로 유의미하지 않다\n",
    "\n",
    "> 고급 휴발유와 일반 휴발유의 도시 연비 차이는 우연히 발생할 가능성이 크다"
   ]
  },
  {
   "cell_type": "markdown",
   "id": "ce660dd2",
   "metadata": {},
   "source": [
    "## 14-3 상관분석 - 두 변수의 관계 분석하기\n",
    "- 상관분석(correation ananlysis) : 두 연속 변수가 서로 관련이 있는지 검정하는 통계 분석 기법\n",
    "- 상관계수(correation coefficient)를 보면 두 변수가 얼마나 관계가 있는지 ㅈ정도를 파악할 수 있음"
   ]
  },
  {
   "cell_type": "markdown",
   "id": "77767411",
   "metadata": {},
   "source": [
    "### Lab 3  : 실업자 수와 개인 소비 지출의 상관관계\n",
    "- economic 데이터를 활용하여 unemploy(실업자 수)와 pce(개인 소비 지출)간의 상관 관계를 알아보자"
   ]
  },
  {
   "cell_type": "code",
   "execution_count": null,
   "id": "bb145c31",
   "metadata": {},
   "outputs": [],
   "source": [
    "# economics 데이터 불러오기\n",
    "economics = pd.read_csv('economics.csv')\n",
    "\n",
    "# 상관 행렬 만들기\n",
    "economics[['unemploy', 'pce']].corr()"
   ]
  },
  {
   "cell_type": "markdown",
   "id": "4a57691d",
   "metadata": {},
   "source": [
    "- 상관계수는 -1 ~ 1 값을 갖는다\n",
    "- 0.5 이상 또는 -0.5 이하인 경우 양의 또는 음의 관련성이 있다라고 해석\n",
    "- unemploy(실업자 수)와 pce(개인 소비 지출)는 상관계수가 0.614518로 양의 관련성이 있음\n",
    "- 실업자 수와 소비 지출은 한 변수가 증가하면 다른 변수가 증가하는 비례 관계임"
   ]
  },
  {
   "cell_type": "markdown",
   "id": "96a7eb1d",
   "metadata": {},
   "source": [
    "## 유의 확률 구하기"
   ]
  },
  {
   "cell_type": "code",
   "execution_count": null,
   "id": "2936df74",
   "metadata": {},
   "outputs": [],
   "source": [
    "# 상관 분석\n",
    "stats.pearsonr(economics['unemploy'], economics['pce'])"
   ]
  },
  {
   "cell_type": "markdown",
   "id": "97b6fbc3",
   "metadata": {},
   "source": [
    "- 첫번째 값은 상관 계수, 두번째 값은 유의 확률을 나타냄\n",
    "- 유의 확률이 0.05 미만으로 실업자 수와 소비 지출의 상관관계가 통계적으로 유의하다고 결론"
   ]
  },
  {
   "cell_type": "markdown",
   "id": "40ab2612",
   "metadata": {},
   "source": [
    "## Lab 4 : 상관행렬 히트맵 만들기 "
   ]
  },
  {
   "cell_type": "markdown",
   "id": "7712865c",
   "metadata": {},
   "source": [
    "- 상관행렬 만들기\n",
    "    > mtcars : 자동차 32종의 11개 변수로 구성된 데이터\n",
    "\n",
    "    > bit.ly/easypy_141|"
   ]
  },
  {
   "cell_type": "code",
   "execution_count": null,
   "id": "6303f7b1",
   "metadata": {},
   "outputs": [],
   "source": [
    "mtcars = pd.read_csv('mtcars.csv')\n",
    "mtcars.head()"
   ]
  },
  {
   "cell_type": "code",
   "execution_count": null,
   "id": "f111b20a",
   "metadata": {},
   "outputs": [],
   "source": [
    "# 상관 행렬 만들기\n",
    "car_cor = mtcars.corr()\n",
    "\n",
    "# 소숫점 둘째 자리까지 반올림\n",
    "car_cor = round(car_cor, 2)\n",
    "car_cor"
   ]
  },
  {
   "cell_type": "markdown",
   "id": "d23514a5",
   "metadata": {},
   "source": [
    "- mpg(연비)와 cly(실린더 수) 상관계수는 -0.85이므로 연비가 높을 수록 실린더 수가 적은 경향이 있음\n",
    "- cly(실린더 수)와 wt(무게)의 상관 계수가 0.78이므로, 실린더 수가 많을 수록 자동차가 무거운 경향이 있음"
   ]
  },
  {
   "cell_type": "markdown",
   "id": "b80c8e00",
   "metadata": {},
   "source": [
    "### 히트맵 만들기"
   ]
  },
  {
   "cell_type": "code",
   "execution_count": null,
   "id": "a58d81b1",
   "metadata": {},
   "outputs": [],
   "source": [
    "import matplotlib.pyplot as plt\n",
    "plt.rcParams.update({'figure.dpi' : '120',    # 해상도 결정\n",
    "                    'figure.figsize' : [7.5, 5.5]}) # 가로, 세로 크기 설정"
   ]
  },
  {
   "cell_type": "code",
   "execution_count": null,
   "id": "2a1ce533",
   "metadata": {},
   "outputs": [],
   "source": [
    "import seaborn as sns\n",
    "sns.heatmap(car_cor,\n",
    "            annot = True,  # 상관계수 표시\n",
    "            cmap = 'RdBu')  # 컬러맵"
   ]
  },
  {
   "cell_type": "markdown",
   "id": "b95ce157",
   "metadata": {},
   "source": [
    "- 히트맵은 상관게수가 클수록 상자 색깔을 진하게 표현하고,\n",
    "- 상관계수가 양수이면 파란색, 음수이면 빨간색 계열로 표현함"
   ]
  },
  {
   "cell_type": "markdown",
   "id": "a8ec39d4",
   "metadata": {},
   "source": [
    "### 대각 행렬 제거하기\n",
    "- mask 만들기"
   ]
  },
  {
   "cell_type": "code",
   "execution_count": null,
   "id": "624f67ce",
   "metadata": {},
   "outputs": [],
   "source": [
    "# mask 만들기\n",
    "import numpy as np\n",
    "mask = np.zeros_like(car_cor) # 상관행렬의 행과 열 수 만큼 0으로 채움 \n",
    "mask"
   ]
  },
  {
   "cell_type": "code",
   "execution_count": null,
   "id": "3d9388ad",
   "metadata": {},
   "outputs": [],
   "source": [
    "# 오른쪽 위 대각 행렬을 1로 바꾸기\n",
    "mask[np.triu_indices_from(mask)] = 1\n",
    "mask"
   ]
  },
  {
   "cell_type": "markdown",
   "id": "849114c1",
   "metadata": {},
   "source": [
    "- 히트맵에 적용"
   ]
  },
  {
   "cell_type": "code",
   "execution_count": null,
   "id": "91234970",
   "metadata": {},
   "outputs": [],
   "source": [
    "sns.heatmap(data=car_cor,\n",
    "           annot = True,   # 상관계수 표시\n",
    "           cmap = 'RdBu',  # 컬러맵\n",
    "           mask = mask)    # mask 적용"
   ]
  },
  {
   "cell_type": "markdown",
   "id": "019404de",
   "metadata": {},
   "source": [
    "- 빈행과 열 제거"
   ]
  },
  {
   "cell_type": "code",
   "execution_count": null,
   "id": "10465174",
   "metadata": {},
   "outputs": [],
   "source": [
    "mask_new = mask[1:, :-1]         # mask의 첫번째행, 마지막열 제거\n",
    "cor_new = car_cor.iloc[1:, :-1]  # 상관행렬 첫번째 행, 마지막 열 제거\n",
    "\n",
    "# 히트맵 만들기\n",
    "sns.heatmap(data= cor_new,\n",
    "           annot = True,    # 상관게수 표시\n",
    "           cmap = 'RdBu',   # 컬러맵\n",
    "           mask = mask_new) # mask 적용"
   ]
  },
  {
   "cell_type": "code",
   "execution_count": null,
   "id": "32341a2f",
   "metadata": {},
   "outputs": [],
   "source": [
    "sns.heatmap(data= cor_new,\n",
    "           annot = True,\n",
    "           cmap = 'RdBu',\n",
    "           mask = mask_new,\n",
    "           linewidths = 0.5,\n",
    "           vmax = 1,               # 가장 진한 파란색 최대값\n",
    "           vmin = -1,              # 가장 진한 빨간색 최소값\n",
    "           cbar_kws = {\"shrink\": 0.5}) # 범례 크기 줄이기"
   ]
  },
  {
   "cell_type": "code",
   "execution_count": null,
   "id": "b50f9bb3",
   "metadata": {},
   "outputs": [],
   "source": []
  }
 ],
 "metadata": {
  "kernelspec": {
   "display_name": "Python 3 (ipykernel)",
   "language": "python",
   "name": "python3"
  },
  "language_info": {
   "codemirror_mode": {
    "name": "ipython",
    "version": 3
   },
   "file_extension": ".py",
   "mimetype": "text/x-python",
   "name": "python",
   "nbconvert_exporter": "python",
   "pygments_lexer": "ipython3",
   "version": "3.9.13"
  }
 },
 "nbformat": 4,
 "nbformat_minor": 5
}
