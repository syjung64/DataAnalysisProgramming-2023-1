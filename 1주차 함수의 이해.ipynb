{
 "cells": [
  {
   "cell_type": "markdown",
   "id": "cef58276",
   "metadata": {},
   "source": [
    "### 함수의 활용\n"
   ]
  },
  {
   "cell_type": "markdown",
   "id": "f36006a9",
   "metadata": {},
   "source": [
    "### Lab 1 : 내장함수(Built-in function)의 사용\n",
    "- 파이썬에 내장되어 있어 설치하거나 로드하지 않고 사용할 수 있는 함수\n",
    "- 패키지를 설치하여야 사용할 수 있는 함수를 패키지 함수라고 함(import)"
   ]
  },
  {
   "cell_type": "code",
   "execution_count": null,
   "id": "8f8d2999",
   "metadata": {},
   "outputs": [],
   "source": [
    "x = [3, 2, 1]\n",
    "print(x)"
   ]
  },
  {
   "cell_type": "code",
   "execution_count": null,
   "id": "50d049fc",
   "metadata": {},
   "outputs": [],
   "source": [
    "# 최대 값\n",
    "x = [3, 2, 1]\n",
    "max(x)"
   ]
  },
  {
   "cell_type": "code",
   "execution_count": null,
   "id": "7ab81d1c",
   "metadata": {},
   "outputs": [],
   "source": [
    "# 최소값\n",
    "x = [3, 2, 1]\n",
    "min(x)"
   ]
  },
  {
   "cell_type": "code",
   "execution_count": null,
   "id": "1cb861c8",
   "metadata": {},
   "outputs": [],
   "source": [
    "# 합\n",
    "x = [3, 2, 1]\n",
    "sum(x)"
   ]
  },
  {
   "cell_type": "code",
   "execution_count": null,
   "id": "2fba18d6",
   "metadata": {},
   "outputs": [],
   "source": [
    "# 리스트의 길이\n",
    "x = [3, 2, 1]\n",
    "len(x)"
   ]
  },
  {
   "cell_type": "code",
   "execution_count": null,
   "id": "672b547c",
   "metadata": {},
   "outputs": [],
   "source": [
    "# 리스트의 주소 값\n",
    "x = [3, 2, 1]\n",
    "id(x)"
   ]
  },
  {
   "cell_type": "code",
   "execution_count": null,
   "id": "ff7b6711",
   "metadata": {},
   "outputs": [],
   "source": [
    "# 정렬\n",
    "x = [3, 2, 1]\n",
    "sorted(x)"
   ]
  },
  {
   "cell_type": "code",
   "execution_count": null,
   "id": "4c64b7dc",
   "metadata": {},
   "outputs": [],
   "source": [
    "# range(5) : 연속된 정수를 만들어 주는 함수 (0 ~ 4)\n",
    "list(range(5))"
   ]
  },
  {
   "cell_type": "code",
   "execution_count": null,
   "id": "340fe004",
   "metadata": {},
   "outputs": [],
   "source": [
    "# range(5, 10) : 연속된 정수를 만들어 주는 함수 (5 ~ 9)\n",
    "list(range(5, 10))"
   ]
  },
  {
   "cell_type": "markdown",
   "id": "eb8e06ee",
   "metadata": {},
   "source": [
    "### 모듈과 패키지\n",
    "- 패키지는 모듈의 묶음 / 디렉터리(폴더)\n",
    "- 모듈 : 이미 작성된 프로그램(함수) / .py\n",
    "- 패키지 활용하기\n",
    "    1. 패키지 설치하기 : pip install seaborn\n",
    "    2. 패키지 로드하기   : import seaborn\n",
    "    3. 함수 사용하기   : countplot()\n",
    "- anaconda에는 주요 패키지가 설치되어 있어 별도 설치가 필요 없음\n",
    "    1. 설치 패키지 확인 : !pip list"
   ]
  },
  {
   "cell_type": "code",
   "execution_count": null,
   "id": "b90eeebb",
   "metadata": {},
   "outputs": [],
   "source": [
    "!pip list"
   ]
  },
  {
   "cell_type": "markdown",
   "id": "1bd276f5",
   "metadata": {},
   "source": [
    "### seaborn 패키지 활용\n",
    "- seaborn은 Matplotlib을 기반으로 다양한 색상 테마와 통계용 차트 등의 기능을 추가한 시각화 패키지\n",
    "- 패키지 로드하기\n",
    "    1. import seaborn\n",
    "    2. import seaborn as sns  (패키지 약어 사용)\n",
    "- 막대 그래프 작성 함수 : seaborn.countplot()"
   ]
  },
  {
   "cell_type": "code",
   "execution_count": null,
   "id": "d58b9365",
   "metadata": {},
   "outputs": [],
   "source": [
    "# 패키지 설치하기 (seaborn 패키지는 anaconda에 기존적으로 설치되어 있음\n",
    "# !pip install seaborn\n",
    "# seaborn 패키지 로드하기\n",
    "import seaborn"
   ]
  },
  {
   "cell_type": "code",
   "execution_count": null,
   "id": "2f2f074c",
   "metadata": {},
   "outputs": [],
   "source": [
    "var = ['a', 'a', 'b', 'c']\n",
    "var"
   ]
  },
  {
   "cell_type": "code",
   "execution_count": null,
   "id": "3fd1927a",
   "metadata": {},
   "outputs": [],
   "source": [
    "seaborn.countplot(x = var)"
   ]
  },
  {
   "cell_type": "code",
   "execution_count": null,
   "id": "de97fefc",
   "metadata": {},
   "outputs": [],
   "source": [
    "import seaborn as sns\n",
    "sns.countplot(x = var)"
   ]
  },
  {
   "cell_type": "markdown",
   "id": "ea873bc1",
   "metadata": {},
   "source": [
    "### seaborn으로 titanic 데이터 그래프 만들기"
   ]
  },
  {
   "cell_type": "code",
   "execution_count": null,
   "id": "3517b786",
   "metadata": {},
   "outputs": [],
   "source": [
    "import seaborn as sns"
   ]
  },
  {
   "cell_type": "code",
   "execution_count": null,
   "id": "d2d0f4ed",
   "metadata": {},
   "outputs": [],
   "source": [
    "# seaborn 패키지에 포함된 Dataset 목록 출력\n",
    "sns.get_dataset_names()"
   ]
  },
  {
   "cell_type": "code",
   "execution_count": null,
   "id": "9c7d356c",
   "metadata": {},
   "outputs": [],
   "source": [
    "# titanic dataset을 읽어옴\n",
    "df = sns.load_dataset('titanic')\n",
    "df"
   ]
  },
  {
   "cell_type": "code",
   "execution_count": null,
   "id": "92684676",
   "metadata": {},
   "outputs": [],
   "source": [
    "# titanic dataset에서 성별(남성, 여성) 데이터 수를 그래프로 표시\n",
    "sns.countplot(data = df, x = 'sex')"
   ]
  },
  {
   "cell_type": "code",
   "execution_count": null,
   "id": "8452d353",
   "metadata": {},
   "outputs": [],
   "source": [
    "# titanic dataset에서 객실 등급별 데이터 수를 그래프로 표시\n",
    "sns.countplot(data = df, x = 'class')"
   ]
  },
  {
   "cell_type": "code",
   "execution_count": null,
   "id": "b96b4ac4",
   "metadata": {},
   "outputs": [],
   "source": [
    "# titanic dataset에서 객실 등급에 대해 생존 여부를 분류하여 데이터 수를 그래프로 표시\n",
    "sns.countplot(data = df, x = 'class', hue = 'alive')"
   ]
  }
 ],
 "metadata": {
  "kernelspec": {
   "display_name": "Python 3 (ipykernel)",
   "language": "python",
   "name": "python3"
  },
  "language_info": {
   "codemirror_mode": {
    "name": "ipython",
    "version": 3
   },
   "file_extension": ".py",
   "mimetype": "text/x-python",
   "name": "python",
   "nbconvert_exporter": "python",
   "pygments_lexer": "ipython3",
   "version": "3.9.13"
  }
 },
 "nbformat": 4,
 "nbformat_minor": 5
}
