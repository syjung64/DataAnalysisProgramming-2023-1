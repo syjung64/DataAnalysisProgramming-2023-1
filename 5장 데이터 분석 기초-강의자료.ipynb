{
 "cells": [
  {
   "cell_type": "markdown",
   "id": "ed2078d8",
   "metadata": {},
   "source": [
    "## Lab 1 데이터의 전반적인 구조를 파악하기\n",
    "\n",
    "데이터가 주어졌을 때 가장 먼저하는일은 데이터의 전반적인 구조를 파악하는 일이다.\n",
    "- 어떤 변수(컬럼) 들이 있는가 ?\n",
    "- 몇 개의 행으로 구성되어 있는가 ?\n",
    "- 대략적인 통계량"
   ]
  },
  {
   "cell_type": "markdown",
   "id": "4030e90e",
   "metadata": {},
   "source": [
    "### 전반적인 데이터 구조 파악을 위한 Pandas  함수\n",
    "- head() : 데이터 앞 부분 출력\n",
    "- tail() : 데이터 뒷 부분 출력\n",
    "- shape : 행, 열 개수 출력\n",
    "- info() : 변수 속성 출력\n",
    "- describe() : 요약 통계량 출력"
   ]
  },
  {
   "cell_type": "code",
   "execution_count": null,
   "id": "d5c8067d",
   "metadata": {},
   "outputs": [],
   "source": [
    "# pandas를 사용하기 위해 Pandas 패키지를 로드\n",
    "import pandas as pd"
   ]
  },
  {
   "cell_type": "code",
   "execution_count": null,
   "id": "4f32260b",
   "metadata": {},
   "outputs": [],
   "source": [
    "# csv 유형의 exam.csv 파일을 읽어와서 exam 데이터 프레임으로 저장\n",
    "exam = pd.read_csv('exam.csv')"
   ]
  },
  {
   "cell_type": "markdown",
   "id": "c9a163b4",
   "metadata": {},
   "source": [
    "> head() - 데이터 앞 부분 확인\n",
    "> tail() - 데이터 뒷 부분 확인"
   ]
  },
  {
   "cell_type": "code",
   "execution_count": null,
   "id": "06763ab6",
   "metadata": {},
   "outputs": [],
   "source": [
    "# 앞에서 5개 행 출력, 데이터의 형태를 추정함\n",
    "exam.head()"
   ]
  },
  {
   "cell_type": "code",
   "execution_count": null,
   "id": "50c1cd4c",
   "metadata": {},
   "outputs": [],
   "source": [
    "exam.head(10) # 앞에서 10개 행 출력"
   ]
  },
  {
   "cell_type": "code",
   "execution_count": null,
   "id": "ececdc21",
   "metadata": {},
   "outputs": [],
   "source": [
    "exam.tail()  # 마지막 5개 데이터 출력"
   ]
  },
  {
   "cell_type": "code",
   "execution_count": null,
   "id": "b269412f",
   "metadata": {},
   "outputs": [],
   "source": [
    "exam.tail(10) # 마직막 10개 데이터 출력"
   ]
  },
  {
   "cell_type": "markdown",
   "id": "bf233a42",
   "metadata": {},
   "source": [
    "> shape - 데이터의 크기(행과 열의 구성) 알아보기\n",
    "- shape는 데이터 프레임의 속성(attribute)임 / 함수가 아님"
   ]
  },
  {
   "cell_type": "code",
   "execution_count": null,
   "id": "dfe252be",
   "metadata": {},
   "outputs": [],
   "source": [
    "# 함수 아니고 속성 값임에 주의\n",
    "# 행의 수는 20, 컬럼(변수)의 수는 4개임을 확인\n",
    "exam.shape  "
   ]
  },
  {
   "cell_type": "markdown",
   "id": "2556b041",
   "metadata": {},
   "source": [
    "> info() 변수 속성 파악하기"
   ]
  },
  {
   "cell_type": "code",
   "execution_count": null,
   "id": "9834558a",
   "metadata": {},
   "outputs": [],
   "source": [
    "# 컬럼의 이름 확인\n",
    "exam.columns"
   ]
  },
  {
   "cell_type": "code",
   "execution_count": null,
   "id": "037b9194",
   "metadata": {},
   "outputs": [],
   "source": [
    "# 각 컬럼의 결측치(NULL) 값이 아닌 데이터 값 개수와 데이터 타입을 확인 가능\n",
    "# 각 컬럼의 속송 확인\n",
    "exam.info()"
   ]
  },
  {
   "cell_type": "markdown",
   "id": "bb29fee1",
   "metadata": {},
   "source": [
    "> describe() - 숫자 값을 갖는 각각의 컬럼에 대해 요약 통계량을 보여 줌 \n",
    "- count :  값의 개수 \n",
    "- mean : 평균 값\n",
    "- std : 표준 편차 (각 값이 평균 값에서 떨어진 정도)\n",
    "- min : 최소값\n",
    "- 25%, 50%, 75% : 하위 (25%, 50%, 75%) 지점에 위치한 값\n",
    "- max : 최대값"
   ]
  },
  {
   "cell_type": "code",
   "execution_count": null,
   "id": "aafa9dac",
   "metadata": {},
   "outputs": [],
   "source": [
    "# 요약 통계량 확인\n",
    "# 숫자로된 변수(컬럼)의 통계량만 출력됨\n",
    "# 문자로된 변수(컬럼)의 통계량도 출력하려면 describe(include = 'all)\n",
    "exam.describe()"
   ]
  },
  {
   "cell_type": "markdown",
   "id": "139fd7ce",
   "metadata": {},
   "source": [
    "###  요약 통계 해석해 보자\n",
    "- 수학 점수 평균 : (                )점\n",
    "- 수학 점수 최저점은 (       )점, 최고점은 (       )점\n",
    "- 학생들의 수학점수는 54점을 중심으로 45.75점(25%)에서 75.75점(75%) 사이에 몰려있다.\n",
    "- (57.45-20.299) ~ (57.45+20.299)에 약 68%가 분포되어 있음"
   ]
  },
  {
   "cell_type": "markdown",
   "id": "ba6b48b8",
   "metadata": {},
   "source": [
    "### 데이터 특성 조금 더 알아보기\n",
    "- scatterplot() : 변수 간 관계 표현하기(수학 성적과 과학 성적의 상관 관계가 있을까?)\n",
    "- boxplot() : 집단 간 분포 확인하기(반 별 수학 점수에 차이가 있을까?)"
   ]
  },
  {
   "cell_type": "code",
   "execution_count": null,
   "id": "012abcf2",
   "metadata": {},
   "outputs": [],
   "source": [
    "# 그래프 시각화를 위해 seaborn 패키지를 로드함\n",
    "import seaborn as sns"
   ]
  },
  {
   "cell_type": "code",
   "execution_count": null,
   "id": "cbc30b9f",
   "metadata": {},
   "outputs": [],
   "source": [
    "# math와 science 점수간의 상관관계를 파악하기 위해 산포도를 그림\n",
    "# math와 science 점수간 상관관게가 없어 보임\n",
    "sns.scatterplot(data = exam, x='math', y='science')"
   ]
  },
  {
   "cell_type": "code",
   "execution_count": null,
   "id": "ca3c94b4",
   "metadata": {},
   "outputs": [],
   "source": [
    "# 'math' 점수에 대해 각 반별로 박스 수염 그래프를 그려봄\n",
    "# 25%, 50%, 75% 순서의 값을 확인할 수 있음\n",
    "sns.boxplot(data = exam, x='nclass', y='math')"
   ]
  },
  {
   "cell_type": "markdown",
   "id": "61af43b3",
   "metadata": {},
   "source": [
    "## Lab 2 :  mpg 데이터 파악해 보기\n",
    "- mpg(mile per gallon) 를 통해 데이터 파악해 보기\n",
    "- 1999년 ~ 2008년까지 미국에서 출시된 자동차 234종의 정보를 담고 있음\n",
    "- bit.ly/easypy_51\n",
    "\n",
    "\n",
    "- manufacturer : 제조사\n",
    "- model : 자동차 모델명\n",
    "- displ : 배기량(cc)\n",
    "- year : 생산 연도\n",
    "- cyl : 실린더 수(4기통, 6기통, ...)\n",
    "- trans : 변속기 종류 - 자동(auto)/수동(manual)\n",
    "- drv : 구동 방식 (전륜 f, 후륜 r, 4륜 4)\n",
    "- cty : 도심 주행시 연비 (예: 18마일/갤런)\n",
    "- hwy : 고속도로 주행시 연비 (예: 18마일/갤런)\n",
    "- fl : 연료 종류(일반 가솔린 p, 고급 가솔린 r)\n",
    "- class : 자동차 크기(compact, suv, van, ...)"
   ]
  },
  {
   "cell_type": "code",
   "execution_count": null,
   "id": "faa628c3",
   "metadata": {},
   "outputs": [],
   "source": [
    "import pandas as pd\n",
    "mpg = pd.read_csv('mpg.csv')"
   ]
  },
  {
   "cell_type": "code",
   "execution_count": null,
   "id": "11158891",
   "metadata": {},
   "outputs": [],
   "source": [
    "mpg.head()"
   ]
  },
  {
   "cell_type": "code",
   "execution_count": null,
   "id": "97614b0a",
   "metadata": {},
   "outputs": [],
   "source": [
    "mpg.shape # 전체 자동차 234종, 11개 속성(컬럼)으로 구성"
   ]
  },
  {
   "cell_type": "code",
   "execution_count": null,
   "id": "a2b54a0d",
   "metadata": {},
   "outputs": [],
   "source": [
    "mpg.info() # 결측치, 데이터 타입, 데이터 개수 등 파악"
   ]
  },
  {
   "cell_type": "code",
   "execution_count": null,
   "id": "35a65ea4",
   "metadata": {
    "scrolled": true
   },
   "outputs": [],
   "source": [
    "# 컬럼의 데이터 타입이 숫자인 경우만 요약 통계량 출력됨\n",
    "mpg.describe()  "
   ]
  },
  {
   "cell_type": "markdown",
   "id": "deb5375f",
   "metadata": {},
   "source": [
    "요약 데이터 분석(cty)\n",
    "- (mean) 자동차가 도시에서 갤런당 평균 16.8마일 주행한다.\n",
    "- (min/max) 도시 연비가 가장 낮은 모델은 갤런당 9마일, 가장 높은 모델은 35마일 주행한다.\n",
    "- 도시 연비는 갤런당 17마일(50%)을 중심으로 14마일에서 19마일(25%, 75%) 사이에 몰려 있다."
   ]
  },
  {
   "cell_type": "code",
   "execution_count": null,
   "id": "9cc9a9a8",
   "metadata": {},
   "outputs": [],
   "source": [
    "# 모든 컬럼의 요약 통계량 출력됨\n",
    "#   - unique : 중복을 제거한 값의 개수\n",
    "#   - top : 개수가 가장 많은 값\n",
    "#   - freq : 개수가 가장 많은 값의 개수\n",
    "mpg.describe(include = 'all')  "
   ]
  },
  {
   "cell_type": "markdown",
   "id": "303d4241",
   "metadata": {},
   "source": [
    "요약 데이터 분석(manufacturer)\n",
    "- (unique) 자동차 제조사의 종류는 15개\n",
    "- (top) 가장 많은 자동차 모델을 생산하는 제조회사는 dodge다\n",
    "- dodge는 37종의 모델을 생산한다"
   ]
  },
  {
   "cell_type": "markdown",
   "id": "e418c974",
   "metadata": {},
   "source": [
    "### Lab 3 : 컬럼(변수) 이름 바꾸기\n",
    "- 수집한 데이터의 컬럼 이름을 분석하기 쉬운 이름으로 변경\n",
    "- df.rename(columns = {'old' : 'new' }"
   ]
  },
  {
   "cell_type": "code",
   "execution_count": null,
   "id": "eeb9ad7e",
   "metadata": {
    "scrolled": true
   },
   "outputs": [],
   "source": [
    "mpg.head()"
   ]
  },
  {
   "cell_type": "code",
   "execution_count": null,
   "id": "f30b66ec",
   "metadata": {
    "scrolled": true
   },
   "outputs": [],
   "source": [
    "# 데이터 프레임 복사본을 만들기\n",
    "# 변수명을 바꾸기 전에 원본을 보존하기 위해 복사본을 만들고, 사본에서 작업 \n",
    "mpg_new = mpg.copy()\n",
    "mpg_new.head()"
   ]
  },
  {
   "cell_type": "code",
   "execution_count": null,
   "id": "3bf19f73",
   "metadata": {},
   "outputs": [],
   "source": [
    "# 고속도로 연비를 나타내는 변수(컬럼) 이름을 hwy에서 highway로 변경\n",
    "mpg_new = mpg_new.rename(columns={ 'hwy' : 'highway' })\n",
    "mpg_new.head()"
   ]
  },
  {
   "cell_type": "code",
   "execution_count": null,
   "id": "49ed9134",
   "metadata": {},
   "outputs": [],
   "source": [
    "# 도시 연비를 나타내는 변수(컬럼) 이름을 cty에서 city로 변경\n",
    "mpg_new = mpg_new.rename(columns={ 'cty' : 'city' })\n",
    "mpg_new.head()"
   ]
  },
  {
   "cell_type": "markdown",
   "id": "b197b2c5",
   "metadata": {},
   "source": [
    "### Lab 4 :  파생 변수 만들기\n",
    "- 변수(컬럼)을 조합하거나 함수를 이용하여 새로운 변수를 만들어 분석에 활용\n",
    "    - 도로를 통틀어 어떤 자동차 모델의 연비가 높은 가를 분석하려고 한다.\n",
    "    - 분석에 필요한 통합 연비 구하기 (통합 연비 = (도심연비 + 고속도로 연비) / 2)"
   ]
  },
  {
   "cell_type": "code",
   "execution_count": null,
   "id": "81ff8d36",
   "metadata": {},
   "outputs": [],
   "source": [
    "mpg.head()"
   ]
  },
  {
   "cell_type": "code",
   "execution_count": null,
   "id": "e3e9e170",
   "metadata": {},
   "outputs": [],
   "source": [
    "# 도시연비와 고속도로 연비의 평균 값인 통합연비 total 파생변수(컬럼) 추가\n",
    "mpg['total'] = (mpg['cty'] + mpg['hwy']) / 2"
   ]
  },
  {
   "cell_type": "code",
   "execution_count": null,
   "id": "46abc2ef",
   "metadata": {},
   "outputs": [],
   "source": [
    "mpg.head()"
   ]
  },
  {
   "cell_type": "markdown",
   "id": "c9f79f5b",
   "metadata": {},
   "source": [
    "## Lab 5 :  조건문을 이용하여 파생 변수 만들기\n",
    "- 자동차 통합 연비(total)를 기준으로 자동차 모델별로 합격 판정을 하려고 함\n",
    "- 합격의 기준이 되는 연비를 어떻게 정할까?"
   ]
  },
  {
   "cell_type": "code",
   "execution_count": null,
   "id": "6dbc98b5",
   "metadata": {},
   "outputs": [],
   "source": [
    "# 자동차 통합 연비(total) 변수(컬럼)의 요약통계량 구하기\n",
    "mpg['total'].describe()"
   ]
  },
  {
   "cell_type": "markdown",
   "id": "9015167d",
   "metadata": {},
   "source": [
    "### 자동차 연비 평균은 20.14마일/갤런\n",
    "### 중앙값은 20.05마일/갤런 "
   ]
  },
  {
   "cell_type": "code",
   "execution_count": null,
   "id": "7e0859ea",
   "metadata": {},
   "outputs": [],
   "source": [
    "# 통합 연비에 대한 histogram 구하기 \n",
    "# histogram : 값의 빈도를 막대 길이로 표현(5 간격으로 포함된 데이터 개수를 표현)\n",
    "mpg['total'].plot.hist()"
   ]
  },
  {
   "cell_type": "markdown",
   "id": "3957f1ce",
   "metadata": {},
   "source": [
    "### 요약 통계량과 histogram을 통한 기초 분석\n",
    "- (요약 통계량) total 연비의 평균과 중앙값이 약 20이다\n",
    "- (histogram) total 연비가 20~22.5 사이인 자동차 모델이 가장 많다\n",
    "- (통합) total 연비 대부분은 25이하이고, 25를 넘기는 것은 많지 않다"
   ]
  },
  {
   "cell_type": "markdown",
   "id": "96839b3a",
   "metadata": {},
   "source": [
    "> 분석 결과를 바탕으로 20마일/갤런 이상인 자동차 모델에 대해 고연비 합격을 주기로 결정"
   ]
  },
  {
   "cell_type": "markdown",
   "id": "c7c4eded",
   "metadata": {},
   "source": [
    "### 합격 판정 변수 만들기\n",
    "- 고연비 합격 기준(20마일/갤런)을 적용하여 합격 판정 여부 변수 추가"
   ]
  },
  {
   "cell_type": "code",
   "execution_count": null,
   "id": "75be8e04",
   "metadata": {},
   "outputs": [],
   "source": [
    "# 조건에 따라 서로 다른 값을 부여하기 위한 함수 사용을 위해 numpy 패키지를 로드함\n",
    "import numpy as np"
   ]
  },
  {
   "cell_type": "code",
   "execution_count": null,
   "id": "ceb4de17",
   "metadata": {},
   "outputs": [],
   "source": [
    "# total 값이 20 이상이면 'pass', 아니면 'fail' 값을 갖는 변수(컬럼) 'test'를 추가함\n",
    "# numpy 함수 np.where()를 활용하여 계산\n",
    "mpg['test'] = np.where(mpg['total'] >= 20, 'pass', 'fail')\n",
    "mpg.head()"
   ]
  },
  {
   "cell_type": "markdown",
   "id": "1cfcbcfb",
   "metadata": {},
   "source": [
    "### 빈도표로 합격 자동차 수 살펴보기\n",
    "- df.value_counts() : 변수 값을 종류별로 값의 개수를 나타낸 표 만들기 "
   ]
  },
  {
   "cell_type": "code",
   "execution_count": null,
   "id": "86c2c8e1",
   "metadata": {},
   "outputs": [],
   "source": [
    "# 변수(컬럼) 분류 값에 대한 빈도 수\n",
    "# test 변수는 'pass'와'fail' 값을 가지며, 각 분류 값을 갖는 데이터 빈도수 \n",
    "mpg['test'].value_counts()  "
   ]
  },
  {
   "cell_type": "markdown",
   "id": "4e97c836",
   "metadata": {},
   "source": [
    "> 'pass' 판정은 128대, 'fail' 판정은 106대"
   ]
  },
  {
   "cell_type": "code",
   "execution_count": null,
   "id": "8e80c00e",
   "metadata": {},
   "outputs": [],
   "source": [
    "# test 변수는 'pass'와'fail' 값을 가지며, 각 분류 값을 갖는 데이터 빈도수 \n",
    "# 분류 값을 갖는 데이터 빈도수 테이블을 별도 데이터 프레임으로 저장\n",
    "count_test = mpg['test'].value_counts()\n",
    "count_test"
   ]
  },
  {
   "cell_type": "code",
   "execution_count": null,
   "id": "3608eefd",
   "metadata": {},
   "outputs": [],
   "source": [
    "# 'pass'와'fail' 빈도 수를 막대 그래프로 그리기\n",
    "count_test.plot.bar()"
   ]
  },
  {
   "cell_type": "code",
   "execution_count": null,
   "id": "119c2fcc",
   "metadata": {},
   "outputs": [],
   "source": [
    "count_test.plot.bar(rot=0)"
   ]
  },
  {
   "cell_type": "markdown",
   "id": "56536ab5",
   "metadata": {},
   "source": [
    "## Lab 6 :  중첩 조건문 만들기\n",
    "- np.where() 안에 np.where()를 중첩하여 분류하기\n",
    "- 컬럼 total 연비를 기준에 따라 A, B, C 등급으로 분류\n",
    "- 새로 분류 등급 변수(컬럼) grade를 만드러서 total 연비에 따른 등급값을 부여함\n",
    "\n",
    "| 등급 | 기준 |\n",
    "| ---  | ---  |\n",
    "| A    | 30이상|\n",
    "| B    | 20~29|\n",
    "| C    | 20미만|\n"
   ]
  },
  {
   "cell_type": "code",
   "execution_count": null,
   "id": "37335ac2",
   "metadata": {},
   "outputs": [],
   "source": [
    "# 통합 연비 값에 따라 A, B, C 등급으로 분류한 값을 갖는 'grade' 변수 추가\n",
    "mpg['grade'] = np.where(mpg['total'] >= 30, 'A',\n",
    "               np.where(mpg['total'] >= 20, 'B', 'C'))\n",
    "mpg.head()"
   ]
  },
  {
   "cell_type": "markdown",
   "id": "d30e3cc7",
   "metadata": {},
   "source": [
    "> 빈도표와 막대 그래프로 연비 등급 살펴 보기"
   ]
  },
  {
   "cell_type": "code",
   "execution_count": null,
   "id": "b077865f",
   "metadata": {},
   "outputs": [],
   "source": [
    "# 통합 연비 값에 따라 A, B, C 등급으로 분류된 데이터 개수 테이블 생성\n",
    "count_grade = mpg['grade'].value_counts()\n",
    "count_grade"
   ]
  },
  {
   "cell_type": "code",
   "execution_count": null,
   "id": "5ff121b5",
   "metadata": {},
   "outputs": [],
   "source": [
    "# 통합 연비 값에 따라 A, B, C 등급으로 분류된 데이터 개수 테이블로 막대 그래프 그리기\n",
    "count_grade.plot.bar(rot=0)"
   ]
  },
  {
   "cell_type": "markdown",
   "id": "22c207e9",
   "metadata": {},
   "source": [
    "> 알파벳 순서로 막대 정렬하기"
   ]
  },
  {
   "cell_type": "code",
   "execution_count": null,
   "id": "651a3b57",
   "metadata": {},
   "outputs": [],
   "source": [
    "count_grade = mpg['grade'].value_counts().sort_index()  # 인덱스 값으로 정렬\n",
    "count_grade"
   ]
  },
  {
   "cell_type": "code",
   "execution_count": null,
   "id": "dd1c12c1",
   "metadata": {},
   "outputs": [],
   "source": [
    "# 통합 연비 값에 따라 A, B, C 등급으로 분류된 데이터 개수 테이블로 막대 그래프 그리기\n",
    "count_grade.plot.bar(rot=0)"
   ]
  },
  {
   "cell_type": "markdown",
   "id": "01f4a8f4",
   "metadata": {},
   "source": [
    "### 연비에 따른 등급을 더 세분하여 분류해 볼까요?\n",
    "- np.where() 안에 np.where()를 중첩하여 분류하기\n",
    "- 컬럼 total 연비를 기준에 따라 A, B, C, D 등급으로 분류\n",
    "- 새로 분류 등급 변수(컬럼) grade2를 만드러서 total 연비에 따른 등급값을 부여함\n",
    "\n",
    "| 등급 | 기준 |\n",
    "| ---  | ---  |\n",
    "| A    | 30 이상|\n",
    "| B    | 25 이상|\n",
    "| C    | 20 이상|\n",
    "| D    | 20 미만"
   ]
  },
  {
   "cell_type": "code",
   "execution_count": null,
   "id": "3b84586c",
   "metadata": {},
   "outputs": [],
   "source": [
    "# 줄 바꿈과 괄호에 주의\n",
    "mpg['grade2'] = np.where(mpg['total'] >= 30, 'A',\n",
    "                np.where(mpg['total'] >= 25, 'B',\n",
    "                np.where(mpg['total'] >= 20, 'C', 'D')))"
   ]
  },
  {
   "cell_type": "code",
   "execution_count": null,
   "id": "418cc52c",
   "metadata": {},
   "outputs": [],
   "source": [
    "mpg.head()"
   ]
  },
  {
   "cell_type": "markdown",
   "id": "312abace",
   "metadata": {},
   "source": [
    "### 목록에 해당하는 행으로 변수 만들기\n",
    "- 변수(컬럼) class의 자동차 등급을 확인하고\n",
    "- class가 'compact', 'subcompact', '2seater'는 small, 나머지 차량은 large로 분류하여 'size' 변수(컬럼)으로 추가"
   ]
  },
  {
   "cell_type": "markdown",
   "id": "e8275822",
   "metadata": {},
   "source": [
    "> 차량 class 값 확인 하기"
   ]
  },
  {
   "cell_type": "code",
   "execution_count": null,
   "id": "183ec290",
   "metadata": {},
   "outputs": [],
   "source": [
    "mpg['category'].info()"
   ]
  },
  {
   "cell_type": "code",
   "execution_count": null,
   "id": "8dbd8428",
   "metadata": {},
   "outputs": [],
   "source": [
    "# 'class'의 분류별 빈도수\n",
    "mpg['category'].value_counts() "
   ]
  },
  {
   "cell_type": "code",
   "execution_count": null,
   "id": "304e019d",
   "metadata": {},
   "outputs": [],
   "source": [
    "# 괄호에 주의\n",
    "mpg['size'] = np.where((mpg['category'] == 'compact') |\n",
    "                       (mpg['category'] == 'subcompact') |\n",
    "                       (mpg['category'] == '2seater'), 'small', 'large')\n",
    "mpg.head()"
   ]
  },
  {
   "cell_type": "code",
   "execution_count": null,
   "id": "af210006",
   "metadata": {},
   "outputs": [],
   "source": [
    "# 'size'의 분류별 빈도수\n",
    "mpg['size'].value_counts()"
   ]
  },
  {
   "cell_type": "markdown",
   "id": "708ce538",
   "metadata": {},
   "source": [
    "##  Lab 7: 분석 도전\n",
    "- midwest.csv는 미국 동북중부(East North Central States) 437개 지역의 인구 통계 정보를 담고 있음\n",
    "- 지역별 아시아계  인구 비율이 높은 지역을 알아보려고 함\n",
    "- bit.ly/easypy_52"
   ]
  },
  {
   "cell_type": "markdown",
   "id": "50845022",
   "metadata": {},
   "source": [
    "> 데이터를 불러와서 데이터 특징을 파악하시오\n",
    "1. 'midwest.csv'를 midwest 데이터 프레임으로 읽어오기 (midwest = pd.read_csv('midwest.csv'))\n",
    "2. midwest 데이터의 행과 열의 갯수 파악 (midwest.shape)\n",
    "3. 컬럼(변수)의 이름과 변수의 타입 등 파악 (midwest.info())\n",
    "- poptotal : 해당 지역(state/county)의 총 인구 수\n",
    "- popasian : 해당 지역(state/county)의 아시아계 인구 수"
   ]
  },
  {
   "cell_type": "code",
   "execution_count": null,
   "id": "0a336412",
   "metadata": {},
   "outputs": [],
   "source": [
    "midwest = pd.read_csv('midwest.csv')"
   ]
  },
  {
   "cell_type": "code",
   "execution_count": null,
   "id": "138c108d",
   "metadata": {},
   "outputs": [],
   "source": [
    "midwest.head()"
   ]
  },
  {
   "cell_type": "code",
   "execution_count": null,
   "id": "ae1b46df",
   "metadata": {},
   "outputs": [],
   "source": [
    "midwest.shape"
   ]
  },
  {
   "cell_type": "code",
   "execution_count": null,
   "id": "85e73470",
   "metadata": {},
   "outputs": [],
   "source": [
    "midwest.info()"
   ]
  },
  {
   "cell_type": "markdown",
   "id": "234e1e48",
   "metadata": {},
   "source": [
    "> poptotal(전체 인구) 변수를 total로, popasian(아시아 계 인구수) 변수를 asian으로 수정하시오 "
   ]
  },
  {
   "cell_type": "code",
   "execution_count": null,
   "id": "b0ddb0a4",
   "metadata": {},
   "outputs": [],
   "source": [
    "# poptotal(전체 인구) 변수 이름을 total로 변경\n",
    "midwest = midwest.rename(columns={'poptotal' : 'total'})"
   ]
  },
  {
   "cell_type": "code",
   "execution_count": null,
   "id": "45048c0e",
   "metadata": {},
   "outputs": [],
   "source": [
    "# popasian(아시아 계 인구수) 변수를 asian으로 수정\n",
    "midwest = midwest.rename(columns={'popasian' : 'asian'})"
   ]
  },
  {
   "cell_type": "code",
   "execution_count": null,
   "id": "ba416743",
   "metadata": {},
   "outputs": [],
   "source": [
    "# 결측치, 데이터 타입, 데이터 개수 등 파악\n",
    "midwest.info()"
   ]
  },
  {
   "cell_type": "markdown",
   "id": "d71ec9cb",
   "metadata": {},
   "source": [
    "> total, asin 변수를 활용하여 '전체 인구 대비 안시아 인구 백분율'을 구하여 변수 rate를 저장하고 히스토 그램으로 분포 살펴보기"
   ]
  },
  {
   "cell_type": "code",
   "execution_count": null,
   "id": "b24fc2e0",
   "metadata": {},
   "outputs": [],
   "source": [
    "# 전체 인구(total) 대비 안시아 인구(asian) 백분율 구하기\n",
    "midwest['rate'] = (midwest['asian'] / midwest['total']) * 100"
   ]
  },
  {
   "cell_type": "code",
   "execution_count": null,
   "id": "98261293",
   "metadata": {},
   "outputs": [],
   "source": [
    "midwest.head()"
   ]
  },
  {
   "cell_type": "code",
   "execution_count": null,
   "id": "60492d04",
   "metadata": {},
   "outputs": [],
   "source": [
    "# 데이터 프레임 midwest에서 ['county', 'state', 'total', 'asian', 'rate'] 컬럼(변수) 확인\n",
    "midwest[['county', 'state', 'total', 'asian', 'rate']].head(11)"
   ]
  },
  {
   "cell_type": "code",
   "execution_count": null,
   "id": "f85f17f6",
   "metadata": {},
   "outputs": [],
   "source": [
    "# 전체 인구(total) 대비 안시아 인구(asian) 백분율 빈도수 확인\n",
    "midwest['rate'].plot.hist()"
   ]
  },
  {
   "cell_type": "code",
   "execution_count": null,
   "id": "a023761d",
   "metadata": {},
   "outputs": [],
   "source": [
    "# 데이터 프레임 midwest의 전체 인구(total) 대비 안시아 인구(asian) 백분율 요약통계량 구하기\n",
    "midwest['rate'].describe()"
   ]
  },
  {
   "cell_type": "markdown",
   "id": "b8ee47c9",
   "metadata": {},
   "source": [
    "> 아시안 인구 전체 백분율을 구하고 평균을 초과하면 'large' 그 외에는 'small'을 부여하는 변수 group 생성"
   ]
  },
  {
   "cell_type": "code",
   "execution_count": null,
   "id": "60d9224c",
   "metadata": {},
   "outputs": [],
   "source": [
    "# 데이터 프레임 midwest의 전체 인구(total) 대비 안시아 인구(asian) 백분율 평균 구하기\n",
    "midwest['rate'].mean()"
   ]
  },
  {
   "cell_type": "code",
   "execution_count": null,
   "id": "6890de5f",
   "metadata": {},
   "outputs": [],
   "source": [
    "# 전체 인구(total) 대비 안시아 인구(asian) 백분율 \n",
    "# 평균 값 보다 크면 large 작으면 small 값을 갖는 파생 변수 group 생성\n",
    "midwest['group'] = np.where(midwest['rate'] > 0.4872, 'large', 'small')  # 평균 값"
   ]
  },
  {
   "cell_type": "code",
   "execution_count": null,
   "id": "83cfeea9",
   "metadata": {},
   "outputs": [],
   "source": [
    "# 변수 group의 값에 따른 빈도수 출력\n",
    "midwest['group'].value_counts()"
   ]
  },
  {
   "cell_type": "markdown",
   "id": "8185153a",
   "metadata": {},
   "source": [
    "> 'large'와 'small' 해당 지역이 얼마나 많은지 빈도표와 막대 그래프를 만드시오"
   ]
  },
  {
   "cell_type": "code",
   "execution_count": null,
   "id": "99a838bd",
   "metadata": {},
   "outputs": [],
   "source": [
    "# 변수 group의 값에 따른 빈도수 표를 막대 그래프로 작성\n",
    "count_group = midwest['group'].value_counts()\n",
    "count_group.plot.bar()"
   ]
  }
 ],
 "metadata": {
  "kernelspec": {
   "display_name": "Python 3 (ipykernel)",
   "language": "python",
   "name": "python3"
  },
  "language_info": {
   "codemirror_mode": {
    "name": "ipython",
    "version": 3
   },
   "file_extension": ".py",
   "mimetype": "text/x-python",
   "name": "python",
   "nbconvert_exporter": "python",
   "pygments_lexer": "ipython3",
   "version": "3.9.13"
  }
 },
 "nbformat": 4,
 "nbformat_minor": 5
}
