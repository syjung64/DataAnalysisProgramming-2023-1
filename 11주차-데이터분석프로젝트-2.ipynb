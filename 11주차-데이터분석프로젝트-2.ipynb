{
 "cells": [
  {
   "cell_type": "markdown",
   "id": "4ec2ce30",
   "metadata": {},
   "source": [
    "## 힌국복지패널 데이터 분석\n",
    "- 한국보건사회연구원에서 우리나가 가구의 경제활동을 연구한 데이터\n",
    "- 전국 7,000여 가구를 선정하여 2006년 부터 매년 추적 조사한 자료\n",
    "- 경제활동, 생활실태, 복지욕구 등 천여개 변수로 구성됨\n",
    "- 통계 패키지 SPSS 전용 파일\n",
    "- bit.ly/easypy_91"
   ]
  },
  {
   "cell_type": "markdown",
   "id": "5dc3f50a",
   "metadata": {},
   "source": [
    "## 한국복지패널 데이터 분석 준비하기"
   ]
  },
  {
   "cell_type": "markdown",
   "id": "274260f7",
   "metadata": {},
   "source": [
    "### Lab 1 : 데이터 분석 준비하기"
   ]
  },
  {
   "cell_type": "markdown",
   "id": "b84a37f7",
   "metadata": {},
   "source": [
    "1. 데이터 준비하기\n",
    "- Koweps_hpwc14_2019_beta2.sav vkdlf ekdnsfhem\n",
    "- 202년 발간된 복지패널 데이터로, 6331가구, 14,418명 정보를 담고 있음"
   ]
  },
  {
   "cell_type": "markdown",
   "id": "3efb5360",
   "metadata": {},
   "source": [
    "2. 패키지 설치 및 로드하기\n",
    "- 실습에 사용항 데이터 파일은 통계 분석 패키지인 SPAA 전용 파일임\n",
    "- pyreadstat 패키지를 설치하면 SPSS, SAS, STATA등 다양한 통계 분석 소프트웨어 데이터 파일을 불러 올 수 있음\n",
    "- pip install pyreadstat"
   ]
  },
  {
   "cell_type": "code",
   "execution_count": null,
   "id": "98e2f82c",
   "metadata": {},
   "outputs": [],
   "source": [
    "import pandas as pd\n",
    "import numpy as np\n",
    "import seaborn as sns"
   ]
  },
  {
   "cell_type": "code",
   "execution_count": null,
   "id": "882b6762",
   "metadata": {},
   "outputs": [],
   "source": [
    "pip install pyreadstat"
   ]
  },
  {
   "cell_type": "markdown",
   "id": "eb0ff4d1",
   "metadata": {},
   "source": [
    "3. 데이터 불러오기\n",
    "- pd.read_spss()로 데이터 불러오기\n",
    "- df.copy()로 복사본을 만들어 분석에 활용함"
   ]
  },
  {
   "cell_type": "code",
   "execution_count": null,
   "id": "3b562abe",
   "metadata": {},
   "outputs": [],
   "source": [
    "# 데이터 불러오기\n",
    "raw_welfare = pd.read_spss('Koweps_hpwc14_2019_beta2.sav')"
   ]
  },
  {
   "cell_type": "code",
   "execution_count": null,
   "id": "4751b3a5",
   "metadata": {},
   "outputs": [],
   "source": [
    "# 복사본 만들기\n",
    "welfare = raw_welfare.copy()"
   ]
  },
  {
   "cell_type": "code",
   "execution_count": null,
   "id": "82e36d4b",
   "metadata": {},
   "outputs": [],
   "source": [
    "welfare.head()"
   ]
  },
  {
   "cell_type": "markdown",
   "id": "a29d780b",
   "metadata": {},
   "source": [
    "4. 데이터 검토하기\n",
    "- 데이터의 특성을 살펴보기\n",
    "- 행, 열 개수\n",
    "- 변수 속성\n",
    "- 요약 통계양"
   ]
  },
  {
   "cell_type": "code",
   "execution_count": null,
   "id": "6f02fb1b",
   "metadata": {},
   "outputs": [],
   "source": [
    "welfare.head()"
   ]
  },
  {
   "cell_type": "code",
   "execution_count": null,
   "id": "623f78c6",
   "metadata": {},
   "outputs": [],
   "source": [
    "welfare.tail()"
   ]
  },
  {
   "cell_type": "code",
   "execution_count": null,
   "id": "95ae17fe",
   "metadata": {},
   "outputs": [],
   "source": [
    "# 행과 열 개수 출력\n",
    "welfare.shape"
   ]
  },
  {
   "cell_type": "code",
   "execution_count": null,
   "id": "678e560d",
   "metadata": {},
   "outputs": [],
   "source": [
    "# 변수 속성 출력\n",
    "welfare.info()"
   ]
  },
  {
   "cell_type": "code",
   "execution_count": null,
   "id": "a7432691",
   "metadata": {},
   "outputs": [],
   "source": [
    "# 요약 통계량\n",
    "welfare.describe()"
   ]
  },
  {
   "cell_type": "markdown",
   "id": "ef52c630",
   "metadata": {},
   "source": [
    "5. 변수명 바꾸기\n",
    "- 복지데이터와 같은 대규모 데이토는 변수의 수가 많고 변수명이 코드로 되어 있음\n",
    "- 규모가 큰 조사 자료의 경우 데이터 특징을 설명한 코드북(codebook)을 함께 제공\n",
    "- 코드북에는 변수명과 값의 의미가 설명되어 있음\n",
    "- 복지 데이터 코드북 일부: Koweps_Codebook_2019.xlsl\n",
    "- 7개 변수를 선정하여 분석함\n",
    "   - (1단계) 변수검토 및 전처리\n",
    "   - (2단계) 변수 간 관계 분석"
   ]
  },
  {
   "cell_type": "code",
   "execution_count": null,
   "id": "a0b1f7c5",
   "metadata": {},
   "outputs": [],
   "source": [
    "welfare = welfare.rename(\n",
    "   columns = {'h14_g3'     : 'sex',             # 성별\n",
    "              'h14_g4'     : 'birth',           # 생년\n",
    "              'h14_g10'    : 'marriage_type',   # 결혼 유무\n",
    "              'h14_g11'    : 'religion',        # 종교\n",
    "              'p1402_8aq1' : 'income',          # 수입(연봉)\n",
    "              'h14_eco9'   : 'code_job',        # 직업 분류\n",
    "              'h14_reg7'   : 'code_region'      # 지역\n",
    "             })"
   ]
  },
  {
   "cell_type": "code",
   "execution_count": null,
   "id": "35f12168",
   "metadata": {},
   "outputs": [],
   "source": [
    "# 성별로 몇명이 있는지 확인\n",
    "# 성별 변수의 데이터 타입 확인\n",
    "welfare['sex'].dtypes"
   ]
  },
  {
   "cell_type": "code",
   "execution_count": null,
   "id": "750ab7b9",
   "metadata": {},
   "outputs": [],
   "source": [
    "# 성별로 몇명이 있는지 확인\n",
    "# 성별 분류별 빈도 수 구하기 (성별은 1, 2로 구성)\n",
    "welfare['sex'].value_counts()"
   ]
  },
  {
   "cell_type": "markdown",
   "id": "50e3bba7",
   "metadata": {},
   "source": [
    "- 성별 값에 대한 코드북 확인\n",
    "- 여자 7913명, 남자 6505명\n",
    "- 모름/무응답(9) 값은 없는 것으로 확인됨\n",
    "|   값     |   내용      |\n",
    "| ---      | ----        |\n",
    "| 1        | 남자        |\n",
    "| 2        | 여자        |\n",
    "| 9        | 모름/무응답 |"
   ]
  },
  {
   "cell_type": "code",
   "execution_count": null,
   "id": "af781365",
   "metadata": {},
   "outputs": [],
   "source": [
    "# 성별 항목 이름 부여\n",
    "welfare['sex'] = np.where(welfare['sex'] == 1, 'male', 'female')"
   ]
  },
  {
   "cell_type": "markdown",
   "id": "351a7865",
   "metadata": {},
   "source": [
    "- 연령대별 기준을 정하여 파생변수 생성\n",
    "|    범주     |     기준     |\n",
    "| ---         | -----        |\n",
    "|초년층       | 30세 미만    |\n",
    "|중년층       | 30세 ~ 59세  |\n",
    "|노년층       | 60세 이상    |"
   ]
  },
  {
   "cell_type": "code",
   "execution_count": null,
   "id": "34b83da7",
   "metadata": {},
   "outputs": [],
   "source": [
    "# 파생 변수 나이(age) 추가하기\n",
    "welfare = welfare.assign(age = 2019 - welfare['birth'] + 1)"
   ]
  },
  {
   "cell_type": "code",
   "execution_count": null,
   "id": "aee0694d",
   "metadata": {},
   "outputs": [],
   "source": [
    "# 파생변수 age의 요약 통계량 구하기\n",
    "welfare['age'].describe()"
   ]
  },
  {
   "cell_type": "code",
   "execution_count": null,
   "id": "4df1c0a4",
   "metadata": {},
   "outputs": [],
   "source": [
    "# 나이 변수 살펴 보기\n",
    "welfare['age'].head()"
   ]
  },
  {
   "cell_type": "code",
   "execution_count": null,
   "id": "8d9a5f5e",
   "metadata": {},
   "outputs": [],
   "source": [
    "# 연령대 변수 만들기\n",
    "welfare = welfare.assign(ageg = np.where(welfare['age'] < 30, 'young',\n",
    "                                np.where(welfare['age'] <=59, 'middle',\n",
    "                                                               'old' )))"
   ]
  },
  {
   "cell_type": "code",
   "execution_count": null,
   "id": "7e427737",
   "metadata": {},
   "outputs": [],
   "source": [
    "# 연령대별 빈도 구하기\n",
    "welfare['ageg'].value_counts()"
   ]
  },
  {
   "cell_type": "markdown",
   "id": "de9e204b",
   "metadata": {},
   "source": [
    "## 직업별 월급 차이 - 어떤 직업이 월급을 가장 많이 받을까?"
   ]
  },
  {
   "cell_type": "markdown",
   "id": "2cd49691",
   "metadata": {},
   "source": [
    "### Lab 2 : 직업 변수 검토 및 전처리하기\n"
   ]
  },
  {
   "cell_type": "markdown",
   "id": "c22c68be",
   "metadata": {},
   "source": [
    "1. 변수 검토하기"
   ]
  },
  {
   "cell_type": "code",
   "execution_count": null,
   "id": "b5f2a1e8",
   "metadata": {},
   "outputs": [],
   "source": [
    "# 직업 변수 타입 살펴보기\n",
    "welfare['code_job'].dtypes"
   ]
  },
  {
   "cell_type": "code",
   "execution_count": null,
   "id": "0e10bc06",
   "metadata": {},
   "outputs": [],
   "source": [
    "# 직업 코드별 빈도수 구하기\n",
    "welfare['code_job'].value_counts()"
   ]
  },
  {
   "cell_type": "code",
   "execution_count": null,
   "id": "e9f39ffe",
   "metadata": {},
   "outputs": [],
   "source": [
    "welfare['code_job'].head(10)"
   ]
  },
  {
   "cell_type": "markdown",
   "id": "b2701388",
   "metadata": {},
   "source": [
    "> code_job은 직업 분류 코드를 의미한다.\n",
    "- 한국복지패널 사이트에서 제공하는 코드북의 직업분류코드목록(한국표준직업분류 제7차 개정)을 보면 직업 의미를 알 수 있음"
   ]
  },
  {
   "cell_type": "markdown",
   "id": "178fb307",
   "metadata": {},
   "source": [
    "2. 전처리 하기\n",
    "- Koweps_Codebook_2019.xlsx 파일의 직종 코드 시트에 직업분류코드 목록을 불러옴\n",
    "- 코드값과 직업명으로 구성되고 156개 직업으로 분류됨"
   ]
  },
  {
   "cell_type": "code",
   "execution_count": null,
   "id": "c1d59706",
   "metadata": {},
   "outputs": [],
   "source": [
    "#직업명 불러오기\n",
    "list_job = pd.read_excel('Koweps_Codebook_2019.xlsx', sheet_name='직종코드')"
   ]
  },
  {
   "cell_type": "code",
   "execution_count": null,
   "id": "c3abc406",
   "metadata": {},
   "outputs": [],
   "source": [
    "# 직업 코드별 직업명 알아보기\n",
    "list_job.head()"
   ]
  },
  {
   "cell_type": "code",
   "execution_count": null,
   "id": "ab63070e",
   "metadata": {},
   "outputs": [],
   "source": [
    "# 직업 코드별 직업명 데이터프레임 구조 (156개 행, 2개 열)\n",
    "list_job.shape"
   ]
  },
  {
   "cell_type": "code",
   "execution_count": null,
   "id": "5341e877",
   "metadata": {},
   "outputs": [],
   "source": [
    "# welfare와 list_job 결합(직업코드에 해당하는 직업명 넣기)\n",
    "welfare = welfare.merge(list_job, how='left', on='code_job')"
   ]
  },
  {
   "cell_type": "code",
   "execution_count": null,
   "id": "72a5ed19",
   "metadata": {},
   "outputs": [],
   "source": [
    "# welfare에 직업코드와 직업명 출력\n",
    "welfare[['code_job', 'job']].head()"
   ]
  },
  {
   "cell_type": "code",
   "execution_count": null,
   "id": "d7fbf96b",
   "metadata": {},
   "outputs": [],
   "source": [
    "# welfare에 직업코드에서 결측치 제거\n",
    "welfare.dropna(subset=['code_job'])[['code_job', 'job']].head()"
   ]
  },
  {
   "cell_type": "markdown",
   "id": "2a0458d4",
   "metadata": {},
   "source": [
    "### Lab 3 : 직업별 월급 차이 분석하기\n"
   ]
  },
  {
   "cell_type": "markdown",
   "id": "eae6073d",
   "metadata": {},
   "source": [
    "1. 직업별 월급 평균표 만들기"
   ]
  },
  {
   "cell_type": "code",
   "execution_count": null,
   "id": "b4eed74f",
   "metadata": {},
   "outputs": [],
   "source": [
    "# 직업별 월급 평균표 만들기\n",
    "job_income = welfare.dropna(subset=['job', 'income']) \\\n",
    "                    .groupby('job', as_index=False) \\\n",
    "                    .agg(mean_income = ('income', 'mean'))"
   ]
  },
  {
   "cell_type": "code",
   "execution_count": null,
   "id": "536e6638",
   "metadata": {},
   "outputs": [],
   "source": [
    "job_income.head()"
   ]
  },
  {
   "cell_type": "markdown",
   "id": "96e770a9",
   "metadata": {},
   "source": [
    "2. 그래프 만들기"
   ]
  },
  {
   "cell_type": "markdown",
   "id": "6e74b589",
   "metadata": {},
   "source": [
    "> (1) 월급이 많은 직업"
   ]
  },
  {
   "cell_type": "code",
   "execution_count": null,
   "id": "6118ebd3",
   "metadata": {},
   "outputs": [],
   "source": [
    "# 월급 상위 10위 추출\n",
    "top10 = job_income.sort_values('mean_income', ascending=False).head(10)\n",
    "top10"
   ]
  },
  {
   "cell_type": "code",
   "execution_count": null,
   "id": "9b77878b",
   "metadata": {},
   "outputs": [],
   "source": [
    "# 그래프 그리기 / 한글 폰트 설정\n",
    "import matplotlib.pyplot as plt\n",
    "plt.rcParams.update({'font.family' : 'Malgun Gothic'})"
   ]
  },
  {
   "cell_type": "code",
   "execution_count": null,
   "id": "ebac679f",
   "metadata": {},
   "outputs": [],
   "source": [
    "# 막대 그래프 그리기\n",
    "sns.barplot(data=top10, y='job', x='mean_income')"
   ]
  },
  {
   "cell_type": "markdown",
   "id": "22d79de7",
   "metadata": {},
   "source": [
    "> (2) 월급이 적은 직업"
   ]
  },
  {
   "cell_type": "code",
   "execution_count": null,
   "id": "5d2f6d5e",
   "metadata": {},
   "outputs": [],
   "source": [
    "# 하위 10개 직업 추출\n",
    "bottom10 = job_income.sort_values('mean_income').head(10)"
   ]
  },
  {
   "cell_type": "code",
   "execution_count": null,
   "id": "bf890317",
   "metadata": {},
   "outputs": [],
   "source": [
    "bottom10"
   ]
  },
  {
   "cell_type": "code",
   "execution_count": null,
   "id": "3a5cd799",
   "metadata": {},
   "outputs": [],
   "source": [
    "# 막대 그래프 그리기 (상위 월급 직업군과 스케일을 맞추기 위해 x 범위를 0 ~ 800만원으로 조정\n",
    "# sns.barplot(data=bottom10, y='job', x='mean_income')\n",
    "sns.barplot(data=bottom10, y='job', x='mean_income').set(xlim=(0, 800))"
   ]
  },
  {
   "cell_type": "markdown",
   "id": "697b5d49",
   "metadata": {},
   "source": [
    "> 데이터 분석\n",
    "- '기타 돌봄∙보건 및 개인 생활 서비스 종사자'의 월급이 평균 73만원으로 가장 적고\n",
    "- 월급이 가장 많은 '의료 진료 전문가' 평균 781만원과 비교하여 열배가 넘는 격차가 발생 \t"
   ]
  },
  {
   "cell_type": "markdown",
   "id": "0280b105",
   "metadata": {},
   "source": [
    "## 성별 직업 빈도 - 성별로 어떤 직업이 가장 많을까?"
   ]
  },
  {
   "cell_type": "markdown",
   "id": "a510bff5",
   "metadata": {},
   "source": [
    "### Lab 4 : 성별 직업 빈도 분석하기\n"
   ]
  },
  {
   "cell_type": "markdown",
   "id": "3637f293",
   "metadata": {},
   "source": [
    "1. 성별 직업 빈도표 만들기"
   ]
  },
  {
   "cell_type": "code",
   "execution_count": null,
   "id": "de758af9",
   "metadata": {},
   "outputs": [],
   "source": [
    "# 남성 직업 빈도 상위 10개 추출\n",
    "job_male = welfare.dropna(subset=['job'])\\\n",
    "                .query('sex==\"male\"')\\\n",
    "                .groupby('job', as_index=False)\\\n",
    "                .agg(n=('job', 'count'))\\\n",
    "                .sort_values('n', ascending=False)\\\n",
    "                .head(10)"
   ]
  },
  {
   "cell_type": "code",
   "execution_count": null,
   "id": "fde0cb3a",
   "metadata": {},
   "outputs": [],
   "source": [
    "job_male"
   ]
  },
  {
   "cell_type": "code",
   "execution_count": null,
   "id": "2dfde5a0",
   "metadata": {},
   "outputs": [],
   "source": [
    "# 여성 직업 빈도 상위 10개 추출\n",
    "\n",
    "job_female = welfare.dropna(subset=['job'])\\\n",
    "                .query('sex==\"female\"')\\\n",
    "                .groupby('job', as_index=False)\\\n",
    "                .agg(n=('job', 'count'))\\\n",
    "                .sort_values('n', ascending=False)\\\n",
    "                .head(10)"
   ]
  },
  {
   "cell_type": "code",
   "execution_count": null,
   "id": "92f06066",
   "metadata": {},
   "outputs": [],
   "source": [
    "job_female"
   ]
  },
  {
   "cell_type": "markdown",
   "id": "9efe570a",
   "metadata": {},
   "source": [
    "2. 그래프 만들기"
   ]
  },
  {
   "cell_type": "code",
   "execution_count": null,
   "id": "5417f84d",
   "metadata": {},
   "outputs": [],
   "source": [
    "# 남성 직업 빈도 막대 그래프 만들기\n",
    "sns.barplot(data=job_male, x='n', y='job').set(xlim = (0, 500))"
   ]
  },
  {
   "cell_type": "code",
   "execution_count": null,
   "id": "1ac96bd1",
   "metadata": {},
   "outputs": [],
   "source": [
    "# 여성 직업 빈도 막대 그래프 만들기\n",
    "sns.barplot(data=job_female, x='n', y='job').set(xlim = (0, 500))"
   ]
  },
  {
   "cell_type": "markdown",
   "id": "51254a5a",
   "metadata": {},
   "source": [
    "## 종교 유무에 따른 이혼율 - 종교가 있으면 이혼을 덜할까?\n",
    "- 종교와 이혼을 관계 분석"
   ]
  },
  {
   "cell_type": "markdown",
   "id": "a0e566e1",
   "metadata": {},
   "source": [
    "## Lab 5 : 종교 변수 검토 및 전처리하기\n",
    "- religion 변수 상태 검토"
   ]
  },
  {
   "cell_type": "markdown",
   "id": "ab05925f",
   "metadata": {},
   "source": [
    "1. 변수 검토하기"
   ]
  },
  {
   "cell_type": "code",
   "execution_count": null,
   "id": "3ef5ff0e",
   "metadata": {},
   "outputs": [],
   "source": [
    "# 종교 변수 타입 출력\n",
    "welfare['religion'].dtypes"
   ]
  },
  {
   "cell_type": "code",
   "execution_count": null,
   "id": "baac9505",
   "metadata": {},
   "outputs": [],
   "source": [
    "# 종교 별 빈도 구하기\n",
    "welfare['religion'].value_counts()"
   ]
  },
  {
   "cell_type": "markdown",
   "id": "82411191",
   "metadata": {},
   "source": [
    "> 종교 값이 코드화 되어 있음 (무응답(9)은 없음)\n",
    "\n",
    "|   값   |  내용   |\n",
    "|---     | ----    |\n",
    "| 1      | 있음    |\n",
    "| 2      | 없음    |\n",
    "| 9      | 무응답  |"
   ]
  },
  {
   "cell_type": "markdown",
   "id": "43c2547e",
   "metadata": {},
   "source": [
    "2. 전처리\n",
    "- 종교가 있으면(1) 'yes', 없으면(2) 'no'로 변환"
   ]
  },
  {
   "cell_type": "code",
   "execution_count": null,
   "id": "ea9f64fd",
   "metadata": {},
   "outputs": [],
   "source": [
    "# 종교 유무에 이름 부여\n",
    "welfare['religion'] = np.where(welfare['religion'] == 1, 'yes', 'no')"
   ]
  },
  {
   "cell_type": "code",
   "execution_count": null,
   "id": "86995da6",
   "metadata": {},
   "outputs": [],
   "source": [
    "welfare['religion'].head()"
   ]
  },
  {
   "cell_type": "code",
   "execution_count": null,
   "id": "438cc0de",
   "metadata": {},
   "outputs": [],
   "source": [
    "# 빈도 구하기\n",
    "welfare['religion'].value_counts()"
   ]
  },
  {
   "cell_type": "code",
   "execution_count": null,
   "id": "83dac2d9",
   "metadata": {},
   "outputs": [],
   "source": [
    "# 막대 그래프 그리기\n",
    "sns.countplot(data=welfare, x='religion')"
   ]
  },
  {
   "cell_type": "markdown",
   "id": "b03bf7e7",
   "metadata": {},
   "source": [
    "## Lab 6 : 혼인상태 변수 검토 및 전처리하기\n",
    "- marriage_type 변수 검토"
   ]
  },
  {
   "cell_type": "markdown",
   "id": "cfd24901",
   "metadata": {},
   "source": [
    "1. 변수 검토하기"
   ]
  },
  {
   "cell_type": "code",
   "execution_count": null,
   "id": "a91fc0cf",
   "metadata": {},
   "outputs": [],
   "source": [
    "# 변수 타입 출력\n",
    "welfare['marriage_type'].dtypes"
   ]
  },
  {
   "cell_type": "code",
   "execution_count": null,
   "id": "f2e82ec9",
   "metadata": {},
   "outputs": [],
   "source": [
    "# 결홍 유형에 따른 빈도수 출력\n",
    "welfare['marriage_type'].value_counts()"
   ]
  },
  {
   "cell_type": "markdown",
   "id": "2ec293c9",
   "metadata": {},
   "source": [
    "> marriage_type이 0, 1, 2, 3, 4, 5, 6까지 7개 유형이 있음을 알 수 있다\n",
    "\n",
    "|    값  |     내용     |\n",
    "| ---    | -----        |\n",
    "|0       | 해당 없음(18세 미만)    |\n",
    "|1       | 유배우  |\n",
    "|2       | 사별    |\n",
    "|3       | 이혼    |\n",
    "|4       | 별거    |\n",
    "|5       | 미혼(18세 이상, 미혼모 포함    |\n",
    "|6       | 기타(사망 등)    |"
   ]
  },
  {
   "cell_type": "markdown",
   "id": "6d1d5816",
   "metadata": {},
   "source": [
    "2. 파생변수 만들기 - 이혼 여부\n",
    "- marriage_type (1) : 결혼\n",
    "- marriage_type (3) : 이혼\n",
    "- marriage_type (0, 2, 4, 5, 6) : 기타"
   ]
  },
  {
   "cell_type": "code",
   "execution_count": null,
   "id": "89d9ea58",
   "metadata": {},
   "outputs": [],
   "source": [
    "# 이혼 여부 변수 만들기\n",
    "welfare['marriage'] = np.where(welfare['marriage_type'] == 1, 'marriage',\n",
    "                      np.where(welfare['marriage_type'] == 3, 'divorce',\n",
    "                                                          'etc'))"
   ]
  },
  {
   "cell_type": "code",
   "execution_count": null,
   "id": "1e1e81b1",
   "metadata": {},
   "outputs": [],
   "source": [
    "# 이혼 여부별 빈도\n",
    "n_divorce = welfare.groupby('marriage', as_index = False) \\\n",
    "                    .agg(n = ('marriage', 'count'))"
   ]
  },
  {
   "cell_type": "code",
   "execution_count": null,
   "id": "05627832",
   "metadata": {},
   "outputs": [],
   "source": [
    "n_divorce"
   ]
  },
  {
   "cell_type": "code",
   "execution_count": null,
   "id": "83b438ff",
   "metadata": {},
   "outputs": [],
   "source": [
    "# 막대 그래프 그리기\n",
    "sns.barplot(data=n_divorce, x='marriage', y='n')"
   ]
  },
  {
   "cell_type": "markdown",
   "id": "f460145d",
   "metadata": {},
   "source": [
    "## Lab 7 : 종교 유무에 따른 이혼율 분석하기"
   ]
  },
  {
   "cell_type": "markdown",
   "id": "f67d7447",
   "metadata": {},
   "source": [
    "1. 종교 유무에 따른 이혼율 표 만들기"
   ]
  },
  {
   "cell_type": "code",
   "execution_count": null,
   "id": "cb5cf78c",
   "metadata": {},
   "outputs": [],
   "source": [
    "rel_div = welfare.query('marriage != \"etc\"') \\\n",
    "                .groupby(['religion', 'marriage'], as_index = False)\\\n",
    "                .agg(n=('religion', 'count'))\n",
    "rel_div"
   ]
  },
  {
   "cell_type": "code",
   "execution_count": null,
   "id": "1292e59a",
   "metadata": {},
   "outputs": [],
   "source": [
    "rel_div = welfare.query('marriage != \"etc\"') \\\n",
    "                .groupby('religion', as_index = False)['marriage']\\\n",
    "                .value_counts()\n",
    "rel_div"
   ]
  },
  {
   "cell_type": "code",
   "execution_count": null,
   "id": "c3ad9d50",
   "metadata": {},
   "outputs": [],
   "source": [
    "rel_div = welfare.query('marriage != \"etc\"') \\\n",
    "                .groupby('religion', as_index = False)['marriage']\\\n",
    "                .value_counts(normalize = True)\n",
    "rel_div"
   ]
  },
  {
   "cell_type": "markdown",
   "id": "85f28171",
   "metadata": {},
   "source": [
    "2. 그래프 만들기"
   ]
  },
  {
   "cell_type": "code",
   "execution_count": null,
   "id": "204bdc9d",
   "metadata": {},
   "outputs": [],
   "source": [
    "rel_div = rel_div.query('marriage == \"divorce\"') \\\n",
    "                .assign(proportion = rel_div['proportion']*100) \\\n",
    "                .round(1)\n",
    "rel_div"
   ]
  },
  {
   "cell_type": "code",
   "execution_count": null,
   "id": "f176e336",
   "metadata": {},
   "outputs": [],
   "source": [
    "sns.barplot(data=rel_div, x='religion', y='proportion')"
   ]
  },
  {
   "cell_type": "markdown",
   "id": "7de83e5f",
   "metadata": {},
   "source": [
    "> 종교가 있는 경우 이혼율 8.0%, 종교가 없는 경우 이혼율 9.5% (의미 잇는 차이 인가 ?)"
   ]
  },
  {
   "cell_type": "markdown",
   "id": "5e99bc24",
   "metadata": {},
   "source": [
    "## Lab 8 : 연령대 및 종교 유무에 따른 이혼율 분석하기"
   ]
  },
  {
   "cell_type": "code",
   "execution_count": null,
   "id": "b9f2e602",
   "metadata": {},
   "outputs": [],
   "source": [
    "welfare.query('marriage != \"etc\"') \\\n",
    "                .groupby('ageg', as_index=False) \\\n",
    "                ['marriage'] \\\n",
    "                .value_counts()"
   ]
  },
  {
   "cell_type": "markdown",
   "id": "0a13c95e",
   "metadata": {},
   "source": [
    "1. 연령대 별 이혼율 표 만들기"
   ]
  },
  {
   "cell_type": "code",
   "execution_count": null,
   "id": "0591375e",
   "metadata": {},
   "outputs": [],
   "source": [
    "age_div = welfare.query('marriage != \"etc\"') \\\n",
    "                .groupby('ageg', as_index=False) \\\n",
    "                ['marriage'] \\\n",
    "                .value_counts(normalize = True)\n",
    "age_div"
   ]
  },
  {
   "cell_type": "markdown",
   "id": "4e77463a",
   "metadata": {},
   "source": [
    "> 초년층은 사례가 부족하여 분석 작업에서 제외"
   ]
  },
  {
   "cell_type": "markdown",
   "id": "976f9451",
   "metadata": {},
   "source": [
    "2. 연령대별 이혼율 그래프 그리기"
   ]
  },
  {
   "cell_type": "code",
   "execution_count": null,
   "id": "775abb3c",
   "metadata": {},
   "outputs": [],
   "source": [
    "age_div = age_div.query('ageg != \"young\" & marriage == \"divorce\"')\\\n",
    "                    .assign(proportion = age_div['proportion'] * 100)\\\n",
    "                    .round(1)\n",
    "age_div"
   ]
  },
  {
   "cell_type": "code",
   "execution_count": null,
   "id": "f6b0e205",
   "metadata": {},
   "outputs": [],
   "source": [
    "# 막대 그래프 만들기\n",
    "sns.barplot(data=age_div, x='ageg', y='proportion')"
   ]
  },
  {
   "cell_type": "markdown",
   "id": "9c9fdbba",
   "metadata": {},
   "source": [
    "3. 연령대 및 종교 유무에 따른 이혼율표 만들기\n",
    "- 분석에서 초년층 제외"
   ]
  },
  {
   "cell_type": "code",
   "execution_count": null,
   "id": "99fb0037",
   "metadata": {},
   "outputs": [],
   "source": [
    "age_rel_div = welfare.query('marriage != \"etc\" & ageg != \"young\"') \\\n",
    "                    .groupby(['ageg', 'religion'], as_index=False) \\\n",
    "                    ['marriage'] \\\n",
    "                    .value_counts(normalize=True)\n",
    "age_rel_div"
   ]
  },
  {
   "cell_type": "markdown",
   "id": "03f2dea0",
   "metadata": {},
   "source": [
    "4. 연령대 및 종교 유무에 따른 이혼율 그래프 만들기"
   ]
  },
  {
   "cell_type": "code",
   "execution_count": null,
   "id": "35961517",
   "metadata": {},
   "outputs": [],
   "source": [
    "age_rel_div = \\\n",
    "    age_rel_div.query('marriage == \"divorce\"') \\\n",
    "                .assign(proportion = age_rel_div['proportion']*100) \\\n",
    "                .round(1)\n",
    "age_rel_div"
   ]
  },
  {
   "cell_type": "code",
   "execution_count": null,
   "id": "52e13b10",
   "metadata": {},
   "outputs": [],
   "source": [
    "# 막대 그래프 그리기\n",
    "sns.barplot(data=age_rel_div, x='ageg', y='proportion', hue='religion')"
   ]
  },
  {
   "cell_type": "markdown",
   "id": "fcb399c7",
   "metadata": {},
   "source": [
    "##  지역별 연령대 비율 - 어느 지역에 노년층이 많을까?\n"
   ]
  },
  {
   "cell_type": "markdown",
   "id": "880bc828",
   "metadata": {},
   "source": [
    "## Lab 9 : 지역변수 검토 및 전처리"
   ]
  },
  {
   "cell_type": "markdown",
   "id": "713e4b24",
   "metadata": {},
   "source": [
    "1. 변수 검토하기"
   ]
  },
  {
   "cell_type": "code",
   "execution_count": null,
   "id": "c429cb68",
   "metadata": {},
   "outputs": [],
   "source": [
    "welfare['code_region'].dtypes"
   ]
  },
  {
   "cell_type": "code",
   "execution_count": null,
   "id": "676c7226",
   "metadata": {},
   "outputs": [],
   "source": [
    "welfare['code_region'].value_counts()"
   ]
  },
  {
   "cell_type": "markdown",
   "id": "e63437ae",
   "metadata": {},
   "source": [
    "|    값  |     내용     |\n",
    "| ---    | -----        |\n",
    "|1       |서울   |\n",
    "|2       | 수도권(인천, 경기)  |\n",
    "|3       | 부산/경남/울산   |\n",
    "|4       | 대구/경북    |\n",
    "|5       | 대전/충남    |\n",
    "|6       | 강원/충북    |\n",
    "|7       | 광주/전남/전북/제주도    |"
   ]
  },
  {
   "cell_type": "markdown",
   "id": "5f35ecef",
   "metadata": {},
   "source": [
    "2. 전처리 하기"
   ]
  },
  {
   "cell_type": "code",
   "execution_count": null,
   "id": "851eb87a",
   "metadata": {},
   "outputs": [],
   "source": [
    "# 지역 코드 목록 만들기\n",
    "list_region = pd.DataFrame({'code_region' : [1, 2, 3, 4, 5, 6, 7],\n",
    "                             'region' : ['서울',\n",
    "                                         '수도권(인천,경기)',\n",
    "                                         '부산/경남/울산',\n",
    "                                          '대구/경북',\n",
    "                                          '대전/충남',\n",
    "                                           '강원/충북',\n",
    "                                           '광주/전남/전북/제주도']})\n",
    "list_region"
   ]
  },
  {
   "cell_type": "code",
   "execution_count": null,
   "id": "bfce0e56",
   "metadata": {},
   "outputs": [],
   "source": [
    "# 지역명 추가\n",
    "welfare = welfare.merge(list_region, how='left', on='code_region')\n",
    "welfare[['code_region', 'region']].head()"
   ]
  },
  {
   "cell_type": "markdown",
   "id": "4f961b74",
   "metadata": {},
   "source": [
    "## Lab 10 : 지역별 연령대 비율 분석하기"
   ]
  },
  {
   "cell_type": "markdown",
   "id": "d705786f",
   "metadata": {},
   "source": [
    "1. 지역별 연령대 비율표 만들기"
   ]
  },
  {
   "cell_type": "code",
   "execution_count": null,
   "id": "97f5ff6b",
   "metadata": {},
   "outputs": [],
   "source": [
    "region_ageg = welfare.groupby('region', as_index=False) \\\n",
    "                    ['ageg'] \\\n",
    "                    .value_counts(normalize=True)\n",
    "region_ageg"
   ]
  },
  {
   "cell_type": "markdown",
   "id": "f4ea4132",
   "metadata": {},
   "source": [
    "2. 그래프 만들기"
   ]
  },
  {
   "cell_type": "code",
   "execution_count": null,
   "id": "5b4e7a97",
   "metadata": {},
   "outputs": [],
   "source": [
    "region_ageg = \\\n",
    "  region_ageg.assign(proportion = region_ageg['proportion'] * 100) \\\n",
    "            .round(1)\n",
    "region_ageg"
   ]
  },
  {
   "cell_type": "code",
   "execution_count": null,
   "id": "978ec8d7",
   "metadata": {},
   "outputs": [],
   "source": [
    "# 막대 그래프 만들기\n",
    "sns.barplot(data=region_ageg, y='region', x='proportion', hue='ageg')"
   ]
  },
  {
   "cell_type": "markdown",
   "id": "095b8f93",
   "metadata": {},
   "source": [
    "3. 누적 막대그래프 만들기"
   ]
  },
  {
   "cell_type": "markdown",
   "id": "5c865f38",
   "metadata": {},
   "source": [
    "> (1) 피벗하기"
   ]
  },
  {
   "cell_type": "code",
   "execution_count": null,
   "id": "25a87cbd",
   "metadata": {},
   "outputs": [],
   "source": [
    "pivot_df = region_ageg[['region', 'ageg','proportion']].pivot(index = 'region',\n",
    "                                                            columns = 'ageg',\n",
    "                                                                values = 'proportion')\n",
    "pivot_df"
   ]
  },
  {
   "cell_type": "markdown",
   "id": "21f505b7",
   "metadata": {},
   "source": [
    "> (1) 그래프 만들기"
   ]
  },
  {
   "cell_type": "code",
   "execution_count": null,
   "id": "b9ab97e9",
   "metadata": {},
   "outputs": [],
   "source": [
    "pivot_df.plot.barh(stacked = True)"
   ]
  }
 ],
 "metadata": {
  "kernelspec": {
   "display_name": "Python 3 (ipykernel)",
   "language": "python",
   "name": "python3"
  },
  "language_info": {
   "codemirror_mode": {
    "name": "ipython",
    "version": 3
   },
   "file_extension": ".py",
   "mimetype": "text/x-python",
   "name": "python",
   "nbconvert_exporter": "python",
   "pygments_lexer": "ipython3",
   "version": "3.9.13"
  }
 },
 "nbformat": 4,
 "nbformat_minor": 5
}
