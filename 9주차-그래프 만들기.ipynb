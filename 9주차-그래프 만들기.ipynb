{
 "cells": [
  {
   "cell_type": "markdown",
   "id": "f6748116",
   "metadata": {},
   "source": [
    "## 08 그래프 만들기"
   ]
  },
  {
   "cell_type": "markdown",
   "id": "3aa06eef",
   "metadata": {},
   "source": [
    "## 08-1 파이썬으로 만들 수 있는 그래프 살펴 보기\n",
    "\n",
    "- seaborn 사이트 살펴 보기 : https://seaborn.pydata.org/\n",
    "- Gallery에 다양한 그래프 살펴보기"
   ]
  },
  {
   "cell_type": "code",
   "execution_count": null,
   "id": "321e6f89",
   "metadata": {},
   "outputs": [],
   "source": [
    "import seaborn as sns\n",
    "sns.set_theme(style=\"darkgrid\")\n",
    "\n",
    "# Load an example dataset with long-form data\n",
    "fmri = sns.load_dataset(\"fmri\")\n",
    "\n",
    "# Plot the responses for different events and regions\n",
    "sns.lineplot(x=\"timepoint\", y=\"signal\",\n",
    "             hue=\"region\", style=\"event\",\n",
    "             data=fmri)"
   ]
  },
  {
   "cell_type": "code",
   "execution_count": null,
   "id": "393eb036",
   "metadata": {},
   "outputs": [],
   "source": [
    "import seaborn as sns\n",
    "sns.set_theme(style=\"whitegrid\")\n",
    "\n",
    "# Load the brain networks dataset, select subset, and collapse the multi-index\n",
    "df = sns.load_dataset(\"brain_networks\", header=[0, 1, 2], index_col=0)\n",
    "\n",
    "used_networks = [1, 5, 6, 7, 8, 12, 13, 17]\n",
    "used_columns = (df.columns\n",
    "                  .get_level_values(\"network\")\n",
    "                  .astype(int)\n",
    "                  .isin(used_networks))\n",
    "df = df.loc[:, used_columns]\n",
    "\n",
    "df.columns = df.columns.map(\"-\".join)\n",
    "\n",
    "# Compute a correlation matrix and convert to long-form\n",
    "corr_mat = df.corr().stack().reset_index(name=\"correlation\")\n",
    "\n",
    "# Draw each cell as a scatter point with varying size and color\n",
    "g = sns.relplot(\n",
    "    data=corr_mat,\n",
    "    x=\"level_0\", y=\"level_1\", hue=\"correlation\", size=\"correlation\",\n",
    "    palette=\"vlag\", hue_norm=(-1, 1), edgecolor=\".7\",\n",
    "    height=10, sizes=(50, 250), size_norm=(-.2, .8),\n",
    ")\n",
    "\n",
    "# Tweak the figure to finalize\n",
    "g.set(xlabel=\"\", ylabel=\"\", aspect=\"equal\")\n",
    "g.despine(left=True, bottom=True)\n",
    "g.ax.margins(.02)\n",
    "for label in g.ax.get_xticklabels():\n",
    "    label.set_rotation(90)\n",
    "for artist in g.legend.legendHandles:\n",
    "    artist.set_edgecolor(\".7\")"
   ]
  },
  {
   "cell_type": "markdown",
   "id": "89ad6676",
   "metadata": {},
   "source": [
    "## Lab 1 :  산점도 - 변수 간 관계 표현하기\n",
    "\n",
    "- 나이와 따른 소득 처럼 연속된 값으로 된 두 변수의 관계를 표현할 때 사용"
   ]
  },
  {
   "cell_type": "code",
   "execution_count": null,
   "id": "7471b3ad",
   "metadata": {},
   "outputs": [],
   "source": [
    "import pandas as pd\n",
    "mpg = pd.read_csv('mpg.csv')"
   ]
  },
  {
   "cell_type": "code",
   "execution_count": null,
   "id": "123899b9",
   "metadata": {},
   "outputs": [],
   "source": [
    "import seaborn as sns"
   ]
  },
  {
   "cell_type": "code",
   "execution_count": null,
   "id": "529fe06d",
   "metadata": {},
   "outputs": [],
   "source": [
    "# 배기량(disp)에 따른 고속도로 연비(hwy)의 관계 표시\n",
    "# 배기량(disp) 변수를 x축에, 고속도로 연비(hwy) 변수를 y축에 놓고 산점도 생성\n",
    "sns.scatterplot(data=mpg, x='displ', y='hwy')"
   ]
  },
  {
   "cell_type": "code",
   "execution_count": null,
   "id": "0a883963",
   "metadata": {},
   "outputs": [],
   "source": [
    "# x 축 범위 설정\n",
    "# x 축의 범위를 3 ~ 6으로 제한 \n",
    "sns.scatterplot(data=mpg, x='displ', y='hwy')\\\n",
    "   .set(xlim = (3, 6))"
   ]
  },
  {
   "cell_type": "code",
   "execution_count": null,
   "id": "51fd6b2d",
   "metadata": {},
   "outputs": [],
   "source": [
    "# y 축 범위 설정\n",
    "# x 축의 범위를 3 ~ 6으로 제한 \n",
    "# y 축의 범위를 10 ~ 30으로 제한 \n",
    "sns.scatterplot(data=mpg, x='displ', y='hwy')\\\n",
    "   .set(xlim = (3, 6), ylim = (10, 30))"
   ]
  },
  {
   "cell_type": "code",
   "execution_count": null,
   "id": "386e5efe",
   "metadata": {
    "scrolled": false
   },
   "outputs": [],
   "source": [
    "# hue를 이용하면 marker의 색깔을 종류별로 다르게 표현 가능\n",
    "# 배기량(disp)에 따른 고속도로 연비(hwy)의 관계 표시\n",
    "# 구동방식(drv)에 따라 marker의 색깔을 다르게 표시\n",
    "sns.scatterplot(data=mpg, x='displ', y='hwy', hue = 'drv')"
   ]
  },
  {
   "cell_type": "markdown",
   "id": "b9c65632",
   "metadata": {},
   "source": [
    "> 고속도로 연비 비교 ?\n",
    "1. 배기량이 큰 차는 고속도로 연비가 낮다.\n",
    "\n",
    "> 고속도로 연비 비교 ?\n",
    "1. 전륜구동(f) 자동차는 고속 도로 연비가 높다.\n",
    "2. 후륜구종(r) 자동차는 고속 도로 연비가 낮다.\n",
    "\n",
    "> 고속도로 연비 비교 ?\n",
    "1. 전륜구동(f) 자동차이기 때문에 고속 도로 연비가 높다.\n",
    "2. 후륜구종(r) 자동차이기 때문에 고속 도로 연비가 낮다.\n",
    "\n",
    "> 고속도로 연비 비교 ?\n",
    "1. 전륜구동(f) 자동차는 대부분 배기량이 4이하이고, 고속 도로 연비가 높다.\n",
    "2. 후륜구종(r) 자동차는 대부분 배기량이 4이상이고, 고속 도로 연비가 낮다."
   ]
  },
  {
   "cell_type": "markdown",
   "id": "41e2c9b9",
   "metadata": {},
   "source": [
    "## Lab 2 : 혼자서 해보기\n",
    "- mpg와 midwest 데이터를 이용하여 데이터 분석"
   ]
  },
  {
   "cell_type": "markdown",
   "id": "77e8a5a9",
   "metadata": {},
   "source": [
    "### Q1 : mpg 데이터에서 도시연비(cty)와 고속도로 연비(hwy)사이에 관계를 알아보려고 함\n",
    "- x축은 cty, y축은 hwy로된 산점도를 표시하시오\n",
    "- 서로 양의 상관관계가 있음을 추정할 수 있음"
   ]
  },
  {
   "cell_type": "code",
   "execution_count": null,
   "id": "e7626f87",
   "metadata": {},
   "outputs": [],
   "source": [
    "sns.scatterplot(data=mpg, x='cty', y='hwy')"
   ]
  },
  {
   "cell_type": "code",
   "execution_count": null,
   "id": "22c69f22",
   "metadata": {
    "scrolled": false
   },
   "outputs": [],
   "source": [
    "sns.scatterplot(data=mpg, x='cty', y='hwy', hue='drv')"
   ]
  },
  {
   "cell_type": "markdown",
   "id": "1c487168",
   "metadata": {},
   "source": [
    "## Q2 : 미국 지역별 인구 정보 데이터 midwest.csv를 이용하여 분석한다\n",
    "- x축은 지역별 전체 인구(poptotal)\n",
    "- y축은 아시아계 인구(popasian)\n",
    "- 전체 인구는 50만명 이하, 아시아 인구는 1만명 이하 지역만 산점도에 표시함"
   ]
  },
  {
   "cell_type": "code",
   "execution_count": null,
   "id": "467c2ca0",
   "metadata": {},
   "outputs": [],
   "source": [
    "midwest = pd.read_csv('midwest.csv')"
   ]
  },
  {
   "cell_type": "code",
   "execution_count": null,
   "id": "6f4f072b",
   "metadata": {},
   "outputs": [],
   "source": [
    "sns.scatterplot(data = midwest, x = 'poptotal', y = 'popasian')\\\n",
    "   .set( xlim = (0, 500000), ylim=(0, 10000))"
   ]
  },
  {
   "cell_type": "markdown",
   "id": "73dd192c",
   "metadata": {},
   "source": [
    "## 08-3 막대 그래프 - 집단 간 차이 표현하기\n",
    "\n",
    "- 성별 소득 차이 처럼 집단 간 차이를 표시할 때 사용"
   ]
  },
  {
   "cell_type": "markdown",
   "id": "9cae875d",
   "metadata": {},
   "source": [
    "## Lab 3 : 평균 막대 그래프 만들기"
   ]
  },
  {
   "cell_type": "markdown",
   "id": "625dc0fc",
   "metadata": {},
   "source": [
    "### 1. 집단별 평균표 만들기\n",
    "- 구동방식(drv)별 고속도로 연비 평균 비교 그래프 만들기"
   ]
  },
  {
   "cell_type": "code",
   "execution_count": null,
   "id": "6712207e",
   "metadata": {},
   "outputs": [],
   "source": [
    "mpg = pd.read_csv('mpg.csv')"
   ]
  },
  {
   "cell_type": "code",
   "execution_count": null,
   "id": "01c87ffc",
   "metadata": {},
   "outputs": [],
   "source": [
    "mpg.head()"
   ]
  },
  {
   "cell_type": "code",
   "execution_count": null,
   "id": "56ece273",
   "metadata": {},
   "outputs": [],
   "source": [
    "# 구동방식(drv)별로 고속도로 연비(hwy) 평균 구하기\n",
    "# 그룹에 사용하는 컬럼(변수)가 기본적으로 인덱스가 된다.\n",
    "# 컬럼(변수)을 인덱스로 생성하지 않기 위해서 'as_index=False' 사용\n",
    "df_mpg = mpg.groupby('drv', as_index=False).agg(mean_hwy = ('hwy', 'mean'))\n",
    "df_mpg"
   ]
  },
  {
   "cell_type": "code",
   "execution_count": null,
   "id": "c8a934f3",
   "metadata": {},
   "outputs": [],
   "source": [
    "# 구동방식(drv)별 평균 고속도로 연비(mean_hwy)를 막대 그래프로 그리기\n",
    "sns.barplot(data=df_mpg, x='drv', y='mean_hwy')"
   ]
  },
  {
   "cell_type": "code",
   "execution_count": null,
   "id": "ccf884f8",
   "metadata": {},
   "outputs": [],
   "source": [
    "df_mpg"
   ]
  },
  {
   "cell_type": "code",
   "execution_count": null,
   "id": "b933308c",
   "metadata": {},
   "outputs": [],
   "source": [
    "# 평균 연비 크기 순으로 내림차 정렬\n",
    "df_mpg = df_mpg.sort_values('mean_hwy', ascending=False)\n",
    "df_mpg"
   ]
  },
  {
   "cell_type": "code",
   "execution_count": null,
   "id": "27ca2b3c",
   "metadata": {},
   "outputs": [],
   "source": [
    "# 구동방식(drv)별 평균 고속도로 연비(mean_hwy)를 막대 그래프로 그리기\n",
    "sns.barplot(data=df_mpg, x='drv', y='mean_hwy')"
   ]
  },
  {
   "cell_type": "markdown",
   "id": "c50f0a04",
   "metadata": {},
   "source": [
    "## Lab 4 : 빈도 막대 그래프 만들기"
   ]
  },
  {
   "cell_type": "markdown",
   "id": "2292ea4d",
   "metadata": {},
   "source": [
    "### 1. 집단별 빈도표 만들기\n",
    "- mpg 데이터에서 구동방식(drv)별 빈도표를 만들기"
   ]
  },
  {
   "cell_type": "code",
   "execution_count": null,
   "id": "e07d21b4",
   "metadata": {},
   "outputs": [],
   "source": [
    "# 구동방식(drv)별 빈도표 만들기\n",
    "df_mpg = mpg.groupby('drv', as_index=False).agg(count_drv=('drv', 'count'))\n",
    "df_mpg"
   ]
  },
  {
   "cell_type": "code",
   "execution_count": null,
   "id": "4d28fb85",
   "metadata": {},
   "outputs": [],
   "source": [
    "# 구동 방식(drv)별 막대 그래프 만들기\n",
    "sns.barplot(data=df_mpg, x='drv',y='count_drv')"
   ]
  },
  {
   "cell_type": "code",
   "execution_count": null,
   "id": "5c460118",
   "metadata": {},
   "outputs": [],
   "source": [
    "# sns.countplot()으로 구동방식에 따른 빈도 막대 그래프 만들기\n",
    "sns.countplot(data=mpg, x='drv')"
   ]
  },
  {
   "cell_type": "code",
   "execution_count": null,
   "id": "3d838955",
   "metadata": {},
   "outputs": [],
   "source": [
    "# sns.countplot()으로 구동방식에 따른 빈도 막대 그래프 만들기\n",
    "# 표시 순서는 ['4', 'f', 'r'] 순서\n",
    "sns.countplot(data=mpg, x='drv', order = ['4', 'f', 'r'])"
   ]
  },
  {
   "cell_type": "code",
   "execution_count": null,
   "id": "0d25168e",
   "metadata": {},
   "outputs": [],
   "source": [
    "# sns.countplot()으로 구동방식에 따른 빈도 막대 그래프 만들기\n",
    "# 표시 순서는 빈도 수가 큰 순서\n",
    "sns.countplot(data=mpg, x='drv', order = mpg['drv'].value_counts().index)"
   ]
  },
  {
   "cell_type": "markdown",
   "id": "875eb26e",
   "metadata": {},
   "source": [
    "## Lab 5 : 혼자 해보기 (mpg 데이터 분석)"
   ]
  },
  {
   "cell_type": "markdown",
   "id": "d1b333d4",
   "metadata": {},
   "source": [
    "### Q1 : 'suv' 차종을 대상으로 cty(도시연비) 평균이 가장 높은 회사 다섯 곳을 막대 그래프로 표현하기"
   ]
  },
  {
   "cell_type": "code",
   "execution_count": null,
   "id": "0c1a8418",
   "metadata": {},
   "outputs": [],
   "source": [
    "mpg = pd.read_csv('mpg.csv')"
   ]
  },
  {
   "cell_type": "code",
   "execution_count": null,
   "id": "d0cebc21",
   "metadata": {},
   "outputs": [],
   "source": [
    "mpg.head(3)"
   ]
  },
  {
   "cell_type": "code",
   "execution_count": null,
   "id": "3088a4f8",
   "metadata": {},
   "outputs": [],
   "source": [
    "# suv 차량만 추출\n",
    "mpg.query('category==\"suv\"').head(3)"
   ]
  },
  {
   "cell_type": "code",
   "execution_count": null,
   "id": "e2d45fd5",
   "metadata": {},
   "outputs": [],
   "source": [
    "# suv 차량만 추출\n",
    "# suv를 만드는 회사별로 도시연비 평균을 구함\n",
    "mpg.query('category==\"suv\"')\\\n",
    "    .groupby('           ', as_index=False)\\\n",
    "    .agg(mean_cty = ('      ', '        '))"
   ]
  },
  {
   "cell_type": "code",
   "execution_count": null,
   "id": "737ce18c",
   "metadata": {},
   "outputs": [],
   "source": [
    "# suv 차량만 추출\n",
    "# suv를 만드는 회사별로 도시연비 평균을 구함\n",
    "# 도시 연비 평균이 높은 회사 순으로 출력\n",
    "mpg.query('category==\"suv\"')\\\n",
    "    .groupby('            ', as_index=False)\\\n",
    "    .agg(mean_cty = ('       ', '         '))\\\n",
    "    .sort_values('          ', ascending=False)"
   ]
  },
  {
   "cell_type": "code",
   "execution_count": null,
   "id": "3593e367",
   "metadata": {},
   "outputs": [],
   "source": [
    "# suv 차량만 추출\n",
    "# suv를 만드는 회사별로 도시연비 평균을 구함\n",
    "# 도시 연비 평균이 높은 회사 순으로 상위 5개 출력\n",
    "df = mpg.query('category==\"suv\"')\\\n",
    "    .groupby('         ', as_index=False)\\\n",
    "    .agg(mean_cty = ('     ', '      '))\\\n",
    "    .sort_values('       ', ascending=False).head(5)\n",
    "df"
   ]
  },
  {
   "cell_type": "code",
   "execution_count": null,
   "id": "617d9750",
   "metadata": {},
   "outputs": [],
   "source": [
    "# suv를 만드는 회사별로 도시연비 평균을 구함\n",
    "# 도시 연비 평균이 높은 회사 순으로 상위 5개 막대 그래프 출력\n",
    "sns.barplot(data=df, x='           ', y='         ')"
   ]
  },
  {
   "cell_type": "markdown",
   "id": "479600fd",
   "metadata": {},
   "source": [
    "### Q2 :  자동차 중 어떤 category의 차가 많은지 알아보려고 함\n",
    "- sns.barplot()을 이용하여 자동차 종류별 빈도를 표현한 그래프를 그리시오\n",
    "- 막대는 빈도가 높은 순으로 정렬하시오"
   ]
  },
  {
   "cell_type": "code",
   "execution_count": null,
   "id": "300e5c55",
   "metadata": {},
   "outputs": [],
   "source": [
    "# 자동차 category별 자동차 수 테이블 만들고, 내림차순 정렬한 테이블을\n",
    "# 데이터 프레임 df에 저장\n",
    "df = mpg.groupby('           ', as_index=False)\\\n",
    "        .agg(n = ('         ', '       '))\\\n",
    "        .sort_values('n', ascending=False)"
   ]
  },
  {
   "cell_type": "code",
   "execution_count": null,
   "id": "4f5f881f",
   "metadata": {},
   "outputs": [],
   "source": [
    "# sns.barplot()을 이용하여 자동차 종류별 빈도를 표현한 그래프 그리기\n",
    "sns.barplot(data=df, x='         ', y='  ')"
   ]
  },
  {
   "cell_type": "markdown",
   "id": "51cdf930",
   "metadata": {},
   "source": [
    "## 08-4 선 그래프 - 시간에 따라 달라지는 데이터 표현하기\n",
    "\n",
    "- 선 그래프는 데이터를 선으로 표현한 그래프로, 시간에 따라 달라지는 데이터를 표현할 때 자주 사용함"
   ]
  },
  {
   "cell_type": "markdown",
   "id": "53ff66ae",
   "metadata": {},
   "source": [
    "## Lab 6 : 시계열 그래프 만들기 - econimics 데이터 분석\n",
    "- econimics : 미국의 여러 경제 지표를 월별로 나타낸 그래프\n",
    "- 시간에 따라 실업자 수가 어떻게 변하는지 시계열 그래프를 만들어 보자\n",
    "- 출처 : bit.ly/easypy_85"
   ]
  },
  {
   "cell_type": "code",
   "execution_count": null,
   "id": "6f43fea8",
   "metadata": {},
   "outputs": [],
   "source": [
    "# economics 데이터 불러 오기\n",
    "import pandas as pd\n",
    "economics = pd.read_csv('economics.csv')\n",
    "economics.head()"
   ]
  },
  {
   "cell_type": "code",
   "execution_count": null,
   "id": "6e0609cb",
   "metadata": {},
   "outputs": [],
   "source": [
    "# economics 데이터의 변수 유형 및 Null 건수 알아보기  \n",
    "economics.info()"
   ]
  },
  {
   "cell_type": "code",
   "execution_count": null,
   "id": "c1bc5ddc",
   "metadata": {},
   "outputs": [],
   "source": [
    "# lineplot()을 이용하여 선 그래프 작성\n",
    "# x축 date에 여러 날자가 겹쳐 출력됨\n",
    "import seaborn as sns\n",
    "sns.lineplot(data = economics, x = 'date', y='unemploy')"
   ]
  },
  {
   "cell_type": "code",
   "execution_count": null,
   "id": "c6fd733e",
   "metadata": {},
   "outputs": [],
   "source": [
    "# 변수 date의 유형을 date 타입으로 변경하여 date2 생성\n",
    "economics['date2'] = pd.to_datetime(economics['date'])"
   ]
  },
  {
   "cell_type": "code",
   "execution_count": null,
   "id": "92942685",
   "metadata": {
    "scrolled": true
   },
   "outputs": [],
   "source": [
    "# economics 데이터의 변수 유형 및 Null 건수 알아보기  \n",
    "# 변수 date, date2 유형 비교\n",
    "economics.info()"
   ]
  },
  {
   "cell_type": "markdown",
   "id": "4f913601",
   "metadata": {},
   "source": [
    "- 변수의 타입을 날짜 시간 타입으로 변경하여도 값이 달라지지 않음\n",
    "- 날짜 시간 타입 데이타는 df.dt를 이용하여 연, 월, 일을 추출할 수 있음"
   ]
  },
  {
   "cell_type": "code",
   "execution_count": null,
   "id": "5bc3d0a6",
   "metadata": {},
   "outputs": [],
   "source": [
    "economics[['date', 'date2']].head()"
   ]
  },
  {
   "cell_type": "code",
   "execution_count": null,
   "id": "a245938f",
   "metadata": {},
   "outputs": [],
   "source": [
    "# 연, 월, 일 추출\n",
    "economics['date2'].dt.year"
   ]
  },
  {
   "cell_type": "code",
   "execution_count": null,
   "id": "d56b2d34",
   "metadata": {},
   "outputs": [],
   "source": [
    "# 연, 월, 일 추출\n",
    "economics['date2'].dt.month"
   ]
  },
  {
   "cell_type": "code",
   "execution_count": null,
   "id": "99b2dc91",
   "metadata": {},
   "outputs": [],
   "source": [
    "# 연, 월, 일 추출\n",
    "economics['date2'].dt.day"
   ]
  },
  {
   "cell_type": "markdown",
   "id": "c8a39568",
   "metadata": {},
   "source": [
    "- 연도 변수만들기"
   ]
  },
  {
   "cell_type": "code",
   "execution_count": null,
   "id": "7507b10d",
   "metadata": {},
   "outputs": [],
   "source": [
    "# 연도 변수 추가하기\n",
    "economics['year'] = economics['date2'].dt.year\n",
    "economics.head()"
   ]
  },
  {
   "cell_type": "code",
   "execution_count": null,
   "id": "fd20eef0",
   "metadata": {},
   "outputs": [],
   "source": [
    "# 월 변수 추가하기\n",
    "economics['month'] = economics['date2'].dt.month\n",
    "economics.head(20)"
   ]
  },
  {
   "cell_type": "markdown",
   "id": "8f81a7e8",
   "metadata": {},
   "source": [
    "- x축에 연도 표기하기"
   ]
  },
  {
   "cell_type": "code",
   "execution_count": null,
   "id": "f96199f1",
   "metadata": {},
   "outputs": [],
   "source": [
    "# x 축에 연도 표기\n",
    "sns.lineplot(data = economics, x = 'year', y = 'unemploy')"
   ]
  },
  {
   "cell_type": "code",
   "execution_count": null,
   "id": "b23e8466",
   "metadata": {},
   "outputs": [],
   "source": [
    "# x 축에 연도 표기\n",
    "sns.lineplot(data = economics, x = 'year', y = 'unemploy', hue='month')"
   ]
  },
  {
   "cell_type": "code",
   "execution_count": null,
   "id": "46461789",
   "metadata": {},
   "outputs": [],
   "source": [
    "# x 축에 연도 표기 (선 위 아래 표시 면적은 신뢰구간)\n",
    "sns.lineplot(data = economics, x = 'year', y = 'unemploy', ci = None)"
   ]
  },
  {
   "cell_type": "markdown",
   "id": "08e0fc1d",
   "metadata": {},
   "source": [
    "- (그래프 분석) 실업자 수가 약 5년을 주기로 등락을 반복함\n",
    "- 2005년 부터 급격히 증가 했다가 2010년 부터 다시 감소 추세"
   ]
  },
  {
   "cell_type": "markdown",
   "id": "26b902b2",
   "metadata": {},
   "source": [
    "## Lab 7 : 혼자서 해보기 (economics 데이터 분석 그래프 만들기)\n",
    "- economics 데이터에서 개인저축률(psavert)을 분석해 보기"
   ]
  },
  {
   "cell_type": "markdown",
   "id": "de35ee82",
   "metadata": {},
   "source": [
    "### Q1 : psavert(개인 저축률)가 시간에 따라 어떻게 변해왔는지, 연도별 개인 저축률의 변화 그래프를 만들어 보자"
   ]
  },
  {
   "cell_type": "code",
   "execution_count": null,
   "id": "a84bed99",
   "metadata": {},
   "outputs": [],
   "source": [
    "# economics 데이터 불러 오기\n",
    "import pandas as pd\n",
    "import seaborn as sns\n",
    "economics = pd.read_csv('economics.csv')"
   ]
  },
  {
   "cell_type": "code",
   "execution_count": null,
   "id": "ee6eb2e1",
   "metadata": {},
   "outputs": [],
   "source": [
    "# economics 데이터에서 변수 date의 유형을 datetime으로 변경하여 변수 date2로 저장\n",
    "economics['date2'] = pd.to_datetime(economics['date'])"
   ]
  },
  {
   "cell_type": "code",
   "execution_count": null,
   "id": "7451527a",
   "metadata": {},
   "outputs": [],
   "source": [
    "# economics 데이터 프레임 변수 date2에서 연도를 추출하여 변수 year로 저장 \n",
    "economics['year'] = economics['date2'].dt.year"
   ]
  },
  {
   "cell_type": "code",
   "execution_count": null,
   "id": "6be0d2ae",
   "metadata": {},
   "outputs": [],
   "source": [
    "# economics 데이터 프레임 데이터 5개 행 출력\n",
    "economics.head()"
   ]
  },
  {
   "cell_type": "code",
   "execution_count": null,
   "id": "fb503c19",
   "metadata": {},
   "outputs": [],
   "source": [
    "# economics 데이터 프레임에서 연도(year)별 개인저축률(psacert) 선 그래프 그리기\n",
    "sns.lineplot(data=economics, x = 'year', y = 'psavert', ci=None)"
   ]
  },
  {
   "cell_type": "markdown",
   "id": "636edbf9",
   "metadata": {},
   "source": [
    "- 데이터가 수집된 1970년부터 역 2005년까지 지속적으로 개인 저축률이 감소하다가 2005년 부터 다시 증가하기 시작함"
   ]
  },
  {
   "cell_type": "markdown",
   "id": "a32201bd",
   "metadata": {},
   "source": [
    "### Q2 : 2014년 월별 psavert(개인 저축률)의 변화를 시계열 그래프로 그려보세요\n",
    "- df.query() 사용"
   ]
  },
  {
   "cell_type": "code",
   "execution_count": null,
   "id": "337f812e",
   "metadata": {},
   "outputs": [],
   "source": [
    "# economics 데이터 프레임 변수 date2에서 월을 추출하여 변수 month로 저장 \n",
    "economics['month'] = economics['date2'].dt.month"
   ]
  },
  {
   "cell_type": "code",
   "execution_count": null,
   "id": "d8d436ef",
   "metadata": {},
   "outputs": [],
   "source": [
    "# economics 데이터 프레임에서 2014년 데이터만 추출하여 데이터 프레임 df_2014에 저장\n",
    "df_2014 = economics.query('year == 2014')"
   ]
  },
  {
   "cell_type": "code",
   "execution_count": null,
   "id": "61799609",
   "metadata": {},
   "outputs": [],
   "source": [
    "df_2014.head()"
   ]
  },
  {
   "cell_type": "code",
   "execution_count": null,
   "id": "5df863ec",
   "metadata": {},
   "outputs": [],
   "source": [
    "# economics 데이터 프레임에서 2014년 월별 개인저축률 선 그래프 그리기\n",
    "sns.lineplot(data=df_2014, x='month', y='psavert', ci=None)"
   ]
  },
  {
   "cell_type": "markdown",
   "id": "41f3897b",
   "metadata": {},
   "source": [
    "## 08-5 상자 그림 - 집단 간 분포 차이 표현하기\n",
    "\n",
    "- 상자 그림(Box Plot)은 데이터가 퍼져있는 형태를 직사각형 상자 모양으로 표현한 그래프"
   ]
  },
  {
   "cell_type": "markdown",
   "id": "c192d7cb",
   "metadata": {},
   "source": [
    "## Lab 8 : 상자 그림 만들기\n",
    "- mpg 데이터를 이용하여 '구동방식(drv)별 고속도로 연비(hwy)'를 표현하기"
   ]
  },
  {
   "cell_type": "code",
   "execution_count": null,
   "id": "050fb2ba",
   "metadata": {},
   "outputs": [],
   "source": [
    "# mpg 데이터 읽어오기\n",
    "import pandas as pd\n",
    "import seaborn as sns\n",
    "mpg = pd.read_csv('mpg.csv')"
   ]
  },
  {
   "cell_type": "code",
   "execution_count": null,
   "id": "7ecab77f",
   "metadata": {},
   "outputs": [],
   "source": [
    "# x축을 구동방식(drv), y축을 고속도로연비(hwy)로 지정하고,\n",
    "# 구동방식(drv)별 고속도로 연비(hwy)를 상자그림으로 표현하기\n",
    "sns.boxplot(data=mpg, x='drv', y='hwy')"
   ]
  },
  {
   "attachments": {
    "image.png": {
     "image/png": "[encoded data removed]"
    }
   },
   "cell_type": "markdown",
   "id": "597f39f2",
   "metadata": {},
   "source": [
    "![image.png](attachment:image.png)"
   ]
  },
  {
   "cell_type": "markdown",
   "id": "cbe5cb5b",
   "metadata": {},
   "source": [
    "- 전륜 구동(f)은 연비가 평균적으로 높고, 연비가 극단적으로 높거나 낮은 자동차가 존재함\n",
    "- 4륜 구종(4)은 연비 평균이 다른 구동방식에 비해 낮음\n",
    "- 후륜 구동(r)은 극단치가 없고, 자동차 대부분이 사분위 범위에 포함됨"
   ]
  },
  {
   "cell_type": "markdown",
   "id": "11ec3ecd",
   "metadata": {},
   "source": [
    "## Lab 8 : 혼자해 보기 - mpg 데이터를 분석해 보기\n",
    "- mpg 데이터를 이용하여 '자동차 종류별 도시 연비'를 비교해 보시오"
   ]
  },
  {
   "cell_type": "markdown",
   "id": "25ff03cb",
   "metadata": {},
   "source": [
    "### Q1 : 자동차 종류(category)중 'compact', 'subcompact', 'suv' 차종에 대한 도시 연비(cty)를 비교해 보시오\n",
    "- df.query() 사용\n",
    "- sns.boxplot()"
   ]
  },
  {
   "cell_type": "code",
   "execution_count": null,
   "id": "677989c0",
   "metadata": {},
   "outputs": [],
   "source": [
    "import pandas as pd\n",
    "import seaborn as sns"
   ]
  },
  {
   "cell_type": "code",
   "execution_count": null,
   "id": "b94e08b3",
   "metadata": {},
   "outputs": [],
   "source": [
    "#  mpg 데이터 불러오기\n",
    "mpg = pd.read_csv('mpg.csv')"
   ]
  },
  {
   "cell_type": "code",
   "execution_count": null,
   "id": "30bddbe3",
   "metadata": {},
   "outputs": [],
   "source": [
    "# \"compact\", \"subcompact\", \"suv\" 차종 데이터 추출\n",
    "df = mpg.query('category in [\"compact\", \"subcompact\", \"suv\"]')\n",
    "df.value_counts()"
   ]
  },
  {
   "cell_type": "code",
   "execution_count": null,
   "id": "dfd6a270",
   "metadata": {},
   "outputs": [],
   "source": [
    "# 상자 그림 만들기\n",
    "sns.boxplot(data=df, x='category', y='cty')"
   ]
  },
  {
   "cell_type": "markdown",
   "id": "04a899d2",
   "metadata": {},
   "source": [
    "- suv의 도시 연비가 가장 낮음"
   ]
  }
 ],
 "metadata": {
  "kernelspec": {
   "display_name": "Python 3 (ipykernel)",
   "language": "python",
   "name": "python3"
  },
  "language_info": {
   "codemirror_mode": {
    "name": "ipython",
    "version": 3
   },
   "file_extension": ".py",
   "mimetype": "text/x-python",
   "name": "python",
   "nbconvert_exporter": "python",
   "pygments_lexer": "ipython3",
   "version": "3.9.13"
  }
 },
 "nbformat": 4,
 "nbformat_minor": 5
}
